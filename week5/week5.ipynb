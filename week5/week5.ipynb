{
 "cells": [
  {
   "cell_type": "code",
   "execution_count": 1,
   "metadata": {},
   "outputs": [
    {
     "name": "stderr",
     "output_type": "stream",
     "text": [
      "Loading required package: tidyverse\n",
      "Registered S3 methods overwritten by 'ggplot2':\n",
      "  method         from \n",
      "  [.quosures     rlang\n",
      "  c.quosures     rlang\n",
      "  print.quosures rlang\n",
      "Registered S3 method overwritten by 'rvest':\n",
      "  method            from\n",
      "  read_xml.response xml2\n",
      "── Attaching packages ─────────────────────────────────────── tidyverse 1.2.1 ──\n",
      "✔ ggplot2 3.1.1       ✔ purrr   0.3.2  \n",
      "✔ tibble  2.1.1       ✔ dplyr   0.8.0.1\n",
      "✔ tidyr   0.8.3       ✔ stringr 1.4.0  \n",
      "✔ readr   1.3.1       ✔ forcats 0.4.0  \n",
      "── Conflicts ────────────────────────────────────────── tidyverse_conflicts() ──\n",
      "✖ dplyr::filter() masks stats::filter()\n",
      "✖ dplyr::lag()    masks stats::lag()\n",
      "Loading required package: psych\n",
      "\n",
      "Attaching package: ‘psych’\n",
      "\n",
      "The following objects are masked from ‘package:ggplot2’:\n",
      "\n",
      "    %+%, alpha\n",
      "\n",
      "Loading required package: Ecdat\n",
      "Loading required package: Ecfun\n",
      "\n",
      "Attaching package: ‘Ecfun’\n",
      "\n",
      "The following object is masked from ‘package:base’:\n",
      "\n",
      "    sign\n",
      "\n",
      "\n",
      "Attaching package: ‘Ecdat’\n",
      "\n",
      "The following object is masked from ‘package:datasets’:\n",
      "\n",
      "    Orange\n",
      "\n"
     ]
    }
   ],
   "source": [
    "\n",
    "# the tidyverse package includes the dplyr, ggplot2, readr, tidyr, tibble, and purrr packages\n",
    "\n",
    "if (!require(tidyverse)) install.packages(\"tidyverse\")\n",
    "library(tidyverse)  \n",
    "if (!require(psych)) install.packages(\"psych\")\n",
    "library(psych)\n",
    "if (!require(Ecdat)) install.packages(\"Ecdat\")\n",
    "library(Ecdat)\n"
   ]
  },
  {
   "cell_type": "code",
   "execution_count": 2,
   "metadata": {},
   "outputs": [
    {
     "name": "stdout",
     "output_type": "stream",
     "text": [
      "'data.frame':\t3733 obs. of  8 variables:\n",
      " $ tmathssk: int  473 536 559 489 454 500 439 528 473 559 ...\n",
      " $ treadssk: int  447 450 448 447 431 451 478 455 430 474 ...\n",
      " $ classk  : Factor w/ 3 levels \"regular\",\"small.class\",..: 2 2 1 2 1 1 2 2 1 2 ...\n",
      " $ totexpk : int  7 21 16 5 8 3 11 10 13 0 ...\n",
      " $ sex     : Factor w/ 2 levels \"girl\",\"boy\": 1 1 2 2 2 1 1 1 2 2 ...\n",
      " $ freelunk: Factor w/ 2 levels \"no\",\"yes\": 1 1 1 2 2 1 1 1 1 1 ...\n",
      " $ race    : Factor w/ 3 levels \"white\",\"black\",..: 1 2 1 1 1 1 2 1 1 1 ...\n",
      " $ schidkn : int  63 20 69 79 5 56 11 66 38 43 ...\n",
      " - attr(*, \"na.action\")= 'omit' Named int  1 4 6 7 8 9 10 15 16 17 ...\n",
      "  ..- attr(*, \"names\")= chr  \"1\" \"4\" \"6\" \"7\" ...\n"
     ]
    }
   ],
   "source": [
    "mydata <- dplyr::filter(Ecdat::Star, classk==\"small.class\"|classk==\"regular\") \n",
    "# only analyze small and regular size classes\n",
    "str(mydata)"
   ]
  },
  {
   "cell_type": "code",
   "execution_count": 3,
   "metadata": {},
   "outputs": [
    {
     "name": "stdout",
     "output_type": "stream",
     "text": [
      "'data.frame':\t3733 obs. of  14 variables:\n",
      " $ tmathssk  : int  473 536 559 489 454 500 439 528 473 559 ...\n",
      " $ treadssk  : int  447 450 448 447 431 451 478 455 430 474 ...\n",
      " $ classk    : Factor w/ 3 levels \"regular\",\"small.class\",..: 2 2 1 2 1 1 2 2 1 2 ...\n",
      " $ totexpk   : int  7 21 16 5 8 3 11 10 13 0 ...\n",
      " $ sex       : Factor w/ 2 levels \"girl\",\"boy\": 1 1 2 2 2 1 1 1 2 2 ...\n",
      " $ freelunk  : Factor w/ 2 levels \"no\",\"yes\": 1 1 1 2 2 1 1 1 1 1 ...\n",
      " $ race      : Factor w/ 3 levels \"white\",\"black\",..: 1 2 1 1 1 1 2 1 1 1 ...\n",
      " $ schidkn   : int  63 20 69 79 5 56 11 66 38 43 ...\n",
      " $ totalscore: int  920 986 1007 936 885 951 917 983 903 1033 ...\n",
      " $ small     : num  1 1 0 1 0 0 1 1 0 1 ...\n",
      " $ boy       : num  0 0 1 1 1 0 0 0 1 1 ...\n",
      " $ whiteother: num  1 0 1 1 1 1 0 1 1 1 ...\n",
      " $ freelunch : num  0 0 0 1 1 0 0 0 0 0 ...\n",
      " $ schoolj   : Factor w/ 79 levels \"1\",\"2\",\"3\",\"4\",..: 63 20 69 78 5 56 11 66 38 43 ...\n"
     ]
    }
   ],
   "source": [
    "mydata <- mydata %>%\n",
    "  mutate(totalscore = tmathssk + treadssk) %>%\n",
    "  mutate(small = ifelse(classk==\"small.class\",1,0)) %>%\n",
    "  mutate(boy = ifelse(sex==\"boy\",1,0)) %>%\n",
    "  mutate(whiteother = ifelse(race==\"white\"|race==\"other\",1,0)) %>%\n",
    "  mutate(freelunch = ifelse(freelunk==\"yes\",1,0)) %>%\n",
    "  mutate(schoolj = factor(schidkn))\n",
    "\n",
    "str(mydata)"
   ]
  },
  {
   "cell_type": "code",
   "execution_count": 4,
   "metadata": {},
   "outputs": [
    {
     "data": {
      "text/plain": [
       "\n",
       " Descriptive statistics by group \n",
       "group: 0\n",
       "           vars    n   mean    sd median trimmed   mad min  max range  skew\n",
       "tmathssk      1 2000 483.26 47.50    478  481.30 43.00 320  626   306  0.38\n",
       "treadssk      2 2000 434.68 30.96    431  432.22 28.17 315  627   312  1.10\n",
       "classk*       3 2000   1.00  0.00      1    1.00  0.00   1    1     0   NaN\n",
       "totexpk       4 2000   9.08  5.72      9    8.80  5.93   0   24    24  0.37\n",
       "sex*          5 2000   1.51  0.50      2    1.52  0.00   1    2     1 -0.06\n",
       "freelunk*     6 2000   1.47  0.50      1    1.47  0.00   1    2     1  0.10\n",
       "race*         7 2000   1.33  0.48      1    1.28  0.00   1    3     2  0.87\n",
       "schidkn       8 2000  39.90 23.27     39   39.81 29.65   1   80    79  0.03\n",
       "totalscore    9 2000 917.94 73.15    912  914.35 69.68 635 1229   594  0.50\n",
       "small        10 2000   0.00  0.00      0    0.00  0.00   0    0     0   NaN\n",
       "boy          11 2000   0.51  0.50      1    0.52  0.00   0    1     1 -0.06\n",
       "whiteother   12 2000   0.68  0.47      1    0.73  0.00   0    1     1 -0.78\n",
       "freelunch    13 2000   0.47  0.50      0    0.47  0.00   0    1     1  0.10\n",
       "schoolj*     14 2000  39.87 23.22     39   39.81 29.65   1   79    78  0.03\n",
       "           kurtosis   se\n",
       "tmathssk       0.22 1.06\n",
       "treadssk       2.98 0.69\n",
       "classk*         NaN 0.00\n",
       "totexpk       -0.31 0.13\n",
       "sex*          -2.00 0.01\n",
       "freelunk*     -1.99 0.01\n",
       "race*         -0.90 0.01\n",
       "schidkn       -1.25 0.52\n",
       "totalscore     0.58 1.64\n",
       "small           NaN 0.00\n",
       "boy           -2.00 0.01\n",
       "whiteother    -1.39 0.01\n",
       "freelunch     -1.99 0.01\n",
       "schoolj*      -1.26 0.52\n",
       "------------------------------------------------------------ \n",
       "group: 1\n",
       "           vars    n   mean    sd median trimmed   mad min  max range  skew\n",
       "tmathssk      1 1733 491.47 49.47    489  488.98 45.96 354  626   272  0.44\n",
       "treadssk      2 1733 440.58 32.54    437  437.63 28.17 370  627   257  1.30\n",
       "classk*       3 1733   2.00  0.00      2    2.00  0.00   2    2     0   NaN\n",
       "totexpk       4 1733   8.99  5.73      8    8.61  5.93   0   27    27  0.48\n",
       "sex*          5 1733   1.51  0.50      2    1.52  0.00   1    2     1 -0.06\n",
       "freelunk*     6 1733   1.47  0.50      1    1.47  0.00   1    2     1  0.11\n",
       "race*         7 1733   1.32  0.48      1    1.27  0.00   1    3     2  0.91\n",
       "schidkn       8 1733  40.68 22.57     40   40.75 29.65   1   80    79 -0.01\n",
       "totalscore    9 1733 932.05 76.43    924  927.89 74.13 747 1253   506  0.55\n",
       "small        10 1733   1.00  0.00      1    1.00  0.00   1    1     0   NaN\n",
       "boy          11 1733   0.51  0.50      1    0.52  0.00   0    1     1 -0.06\n",
       "whiteother   12 1733   0.69  0.46      1    0.74  0.00   0    1     1 -0.81\n",
       "freelunch    13 1733   0.47  0.50      0    0.47  0.00   0    1     1  0.11\n",
       "schoolj*     14 1733  40.65 22.52     40   40.75 29.65   1   79    78 -0.02\n",
       "           kurtosis   se\n",
       "tmathssk      -0.02 1.19\n",
       "treadssk       3.55 0.78\n",
       "classk*         NaN 0.00\n",
       "totexpk       -0.32 0.14\n",
       "sex*          -2.00 0.01\n",
       "freelunk*     -1.99 0.01\n",
       "race*         -0.77 0.01\n",
       "schidkn       -1.20 0.54\n",
       "totalscore     0.30 1.84\n",
       "small           NaN 0.00\n",
       "boy           -2.00 0.01\n",
       "whiteother    -1.34 0.01\n",
       "freelunch     -1.99 0.01\n",
       "schoolj*      -1.21 0.54"
      ]
     },
     "metadata": {},
     "output_type": "display_data"
    }
   ],
   "source": [
    "# get summary stats for small= 0 and small = 1\n",
    "describeBy(mydata, mydata$small) # describeBy is from the psych package in R\n"
   ]
  },
  {
   "cell_type": "code",
   "execution_count": 5,
   "metadata": {},
   "outputs": [
    {
     "data": {
      "text/html": [
       "<table>\n",
       "<thead><tr><th></th><th scope=col>vars</th><th scope=col>n</th><th scope=col>mean</th><th scope=col>sd</th><th scope=col>median</th><th scope=col>trimmed</th><th scope=col>mad</th><th scope=col>min</th><th scope=col>max</th><th scope=col>range</th><th scope=col>skew</th><th scope=col>kurtosis</th><th scope=col>se</th></tr></thead>\n",
       "<tbody>\n",
       "\t<tr><th scope=row>tmathssk</th><td> 1          </td><td>3733        </td><td>487.0720600 </td><td>48.5905681  </td><td>484         </td><td>484.7462337 </td><td>44.4780     </td><td>320         </td><td> 626        </td><td>306         </td><td> 0.419722156</td><td> 0.1241333  </td><td>0.795285348 </td></tr>\n",
       "\t<tr><th scope=row>treadssk</th><td> 2          </td><td>3733        </td><td>437.4197696 </td><td>31.8365046  </td><td>434         </td><td>434.7224640 </td><td>29.6520     </td><td>315         </td><td> 627        </td><td>312         </td><td> 1.196499669</td><td> 3.3088045  </td><td>0.521070378 </td></tr>\n",
       "\t<tr><th scope=row>classk*</th><td> 3          </td><td>3733        </td><td>  1.4642379 </td><td> 0.4987862  </td><td>  1         </td><td>  1.4553063 </td><td> 0.0000     </td><td>  1         </td><td>   2        </td><td>  1         </td><td> 0.143358170</td><td>-1.9799786  </td><td>0.008163671 </td></tr>\n",
       "\t<tr><th scope=row>totexpk</th><td> 4          </td><td>3733        </td><td>  9.0375033 </td><td> 5.7268746  </td><td>  8         </td><td>  8.7174422 </td><td> 5.9304     </td><td>  0         </td><td>  27        </td><td> 27         </td><td> 0.420621360</td><td>-0.3176688  </td><td>0.093732171 </td></tr>\n",
       "\t<tr><th scope=row>sex*</th><td> 5          </td><td>3733        </td><td>  1.5140638 </td><td> 0.4998691  </td><td>  2         </td><td>  1.5175762 </td><td> 0.0000     </td><td>  1         </td><td>   2        </td><td>  1         </td><td>-0.056254677</td><td>-1.9973703  </td><td>0.008181394 </td></tr>\n",
       "\t<tr><th scope=row>freelunk*</th><td> 6          </td><td>3733        </td><td>  1.4738816 </td><td> 0.4993843  </td><td>  1         </td><td>  1.4673586 </td><td> 0.0000     </td><td>  1         </td><td>   2        </td><td>  1         </td><td> 0.104574409</td><td>-1.9895970  </td><td>0.008173458 </td></tr>\n",
       "\t<tr><th scope=row>race*</th><td> 7          </td><td>3733        </td><td>  1.3257434 </td><td> 0.4800121  </td><td>  1         </td><td>  1.2755273 </td><td> 0.0000     </td><td>  1         </td><td>   3        </td><td>  2         </td><td> 0.888062766</td><td>-0.8364824  </td><td>0.007856392 </td></tr>\n",
       "\t<tr><th scope=row>schidkn</th><td> 8          </td><td>3733        </td><td> 40.2630592 </td><td>22.9498012  </td><td> 40         </td><td> 40.2497489 </td><td>29.6520     </td><td>  1         </td><td>  80        </td><td> 79         </td><td> 0.012571354</td><td>-1.2282651  </td><td>0.375621059 </td></tr>\n",
       "\t<tr><th scope=row>totalscore</th><td> 9          </td><td>3733        </td><td>924.4918296 </td><td>75.0123730  </td><td>918         </td><td>920.5333110 </td><td>71.1648     </td><td>635         </td><td>1253        </td><td>618         </td><td> 0.531075790</td><td> 0.4644768  </td><td>1.227732945 </td></tr>\n",
       "\t<tr><th scope=row>small</th><td>10          </td><td>3733        </td><td>  0.4642379 </td><td> 0.4987862  </td><td>  0         </td><td>  0.4553063 </td><td> 0.0000     </td><td>  0         </td><td>   1        </td><td>  1         </td><td> 0.143358170</td><td>-1.9799786  </td><td>0.008163671 </td></tr>\n",
       "\t<tr><th scope=row>boy</th><td>11          </td><td>3733        </td><td>  0.5140638 </td><td> 0.4998691  </td><td>  1         </td><td>  0.5175762 </td><td> 0.0000     </td><td>  0         </td><td>   1        </td><td>  1         </td><td>-0.056254677</td><td>-1.9973703  </td><td>0.008181394 </td></tr>\n",
       "\t<tr><th scope=row>whiteother</th><td>12          </td><td>3733        </td><td>  0.6849719 </td><td> 0.4645893  </td><td>  1         </td><td>  0.7311684 </td><td> 0.0000     </td><td>  0         </td><td>   1        </td><td>  1         </td><td>-0.796067917</td><td>-1.3666418  </td><td>0.007603967 </td></tr>\n",
       "\t<tr><th scope=row>freelunch</th><td>13          </td><td>3733        </td><td>  0.4738816 </td><td> 0.4993843  </td><td>  0         </td><td>  0.4673586 </td><td> 0.0000     </td><td>  0         </td><td>   1        </td><td>  1         </td><td> 0.104574409</td><td>-1.9895970  </td><td>0.008173458 </td></tr>\n",
       "\t<tr><th scope=row>schoolj*</th><td>14          </td><td>3733        </td><td> 40.2330565 </td><td>22.8997725  </td><td> 40         </td><td> 40.2497489 </td><td>29.6520     </td><td>  1         </td><td>  79        </td><td> 78         </td><td> 0.005639985</td><td>-1.2370769  </td><td>0.374802236 </td></tr>\n",
       "</tbody>\n",
       "</table>\n"
      ],
      "text/latex": [
       "\\begin{tabular}{r|lllllllllllll}\n",
       "  & vars & n & mean & sd & median & trimmed & mad & min & max & range & skew & kurtosis & se\\\\\n",
       "\\hline\n",
       "\ttmathssk &  1           & 3733         & 487.0720600  & 48.5905681   & 484          & 484.7462337  & 44.4780      & 320          &  626         & 306          &  0.419722156 &  0.1241333   & 0.795285348 \\\\\n",
       "\ttreadssk &  2           & 3733         & 437.4197696  & 31.8365046   & 434          & 434.7224640  & 29.6520      & 315          &  627         & 312          &  1.196499669 &  3.3088045   & 0.521070378 \\\\\n",
       "\tclassk* &  3           & 3733         &   1.4642379  &  0.4987862   &   1          &   1.4553063  &  0.0000      &   1          &    2         &   1          &  0.143358170 & -1.9799786   & 0.008163671 \\\\\n",
       "\ttotexpk &  4           & 3733         &   9.0375033  &  5.7268746   &   8          &   8.7174422  &  5.9304      &   0          &   27         &  27          &  0.420621360 & -0.3176688   & 0.093732171 \\\\\n",
       "\tsex* &  5           & 3733         &   1.5140638  &  0.4998691   &   2          &   1.5175762  &  0.0000      &   1          &    2         &   1          & -0.056254677 & -1.9973703   & 0.008181394 \\\\\n",
       "\tfreelunk* &  6           & 3733         &   1.4738816  &  0.4993843   &   1          &   1.4673586  &  0.0000      &   1          &    2         &   1          &  0.104574409 & -1.9895970   & 0.008173458 \\\\\n",
       "\trace* &  7           & 3733         &   1.3257434  &  0.4800121   &   1          &   1.2755273  &  0.0000      &   1          &    3         &   2          &  0.888062766 & -0.8364824   & 0.007856392 \\\\\n",
       "\tschidkn &  8           & 3733         &  40.2630592  & 22.9498012   &  40          &  40.2497489  & 29.6520      &   1          &   80         &  79          &  0.012571354 & -1.2282651   & 0.375621059 \\\\\n",
       "\ttotalscore &  9           & 3733         & 924.4918296  & 75.0123730   & 918          & 920.5333110  & 71.1648      & 635          & 1253         & 618          &  0.531075790 &  0.4644768   & 1.227732945 \\\\\n",
       "\tsmall & 10           & 3733         &   0.4642379  &  0.4987862   &   0          &   0.4553063  &  0.0000      &   0          &    1         &   1          &  0.143358170 & -1.9799786   & 0.008163671 \\\\\n",
       "\tboy & 11           & 3733         &   0.5140638  &  0.4998691   &   1          &   0.5175762  &  0.0000      &   0          &    1         &   1          & -0.056254677 & -1.9973703   & 0.008181394 \\\\\n",
       "\twhiteother & 12           & 3733         &   0.6849719  &  0.4645893   &   1          &   0.7311684  &  0.0000      &   0          &    1         &   1          & -0.796067917 & -1.3666418   & 0.007603967 \\\\\n",
       "\tfreelunch & 13           & 3733         &   0.4738816  &  0.4993843   &   0          &   0.4673586  &  0.0000      &   0          &    1         &   1          &  0.104574409 & -1.9895970   & 0.008173458 \\\\\n",
       "\tschoolj* & 14           & 3733         &  40.2330565  & 22.8997725   &  40          &  40.2497489  & 29.6520      &   1          &   79         &  78          &  0.005639985 & -1.2370769   & 0.374802236 \\\\\n",
       "\\end{tabular}\n"
      ],
      "text/markdown": [
       "\n",
       "| <!--/--> | vars | n | mean | sd | median | trimmed | mad | min | max | range | skew | kurtosis | se |\n",
       "|---|---|---|---|---|---|---|---|---|---|---|---|---|---|\n",
       "| tmathssk |  1           | 3733         | 487.0720600  | 48.5905681   | 484          | 484.7462337  | 44.4780      | 320          |  626         | 306          |  0.419722156 |  0.1241333   | 0.795285348  |\n",
       "| treadssk |  2           | 3733         | 437.4197696  | 31.8365046   | 434          | 434.7224640  | 29.6520      | 315          |  627         | 312          |  1.196499669 |  3.3088045   | 0.521070378  |\n",
       "| classk* |  3           | 3733         |   1.4642379  |  0.4987862   |   1          |   1.4553063  |  0.0000      |   1          |    2         |   1          |  0.143358170 | -1.9799786   | 0.008163671  |\n",
       "| totexpk |  4           | 3733         |   9.0375033  |  5.7268746   |   8          |   8.7174422  |  5.9304      |   0          |   27         |  27          |  0.420621360 | -0.3176688   | 0.093732171  |\n",
       "| sex* |  5           | 3733         |   1.5140638  |  0.4998691   |   2          |   1.5175762  |  0.0000      |   1          |    2         |   1          | -0.056254677 | -1.9973703   | 0.008181394  |\n",
       "| freelunk* |  6           | 3733         |   1.4738816  |  0.4993843   |   1          |   1.4673586  |  0.0000      |   1          |    2         |   1          |  0.104574409 | -1.9895970   | 0.008173458  |\n",
       "| race* |  7           | 3733         |   1.3257434  |  0.4800121   |   1          |   1.2755273  |  0.0000      |   1          |    3         |   2          |  0.888062766 | -0.8364824   | 0.007856392  |\n",
       "| schidkn |  8           | 3733         |  40.2630592  | 22.9498012   |  40          |  40.2497489  | 29.6520      |   1          |   80         |  79          |  0.012571354 | -1.2282651   | 0.375621059  |\n",
       "| totalscore |  9           | 3733         | 924.4918296  | 75.0123730   | 918          | 920.5333110  | 71.1648      | 635          | 1253         | 618          |  0.531075790 |  0.4644768   | 1.227732945  |\n",
       "| small | 10           | 3733         |   0.4642379  |  0.4987862   |   0          |   0.4553063  |  0.0000      |   0          |    1         |   1          |  0.143358170 | -1.9799786   | 0.008163671  |\n",
       "| boy | 11           | 3733         |   0.5140638  |  0.4998691   |   1          |   0.5175762  |  0.0000      |   0          |    1         |   1          | -0.056254677 | -1.9973703   | 0.008181394  |\n",
       "| whiteother | 12           | 3733         |   0.6849719  |  0.4645893   |   1          |   0.7311684  |  0.0000      |   0          |    1         |   1          | -0.796067917 | -1.3666418   | 0.007603967  |\n",
       "| freelunch | 13           | 3733         |   0.4738816  |  0.4993843   |   0          |   0.4673586  |  0.0000      |   0          |    1         |   1          |  0.104574409 | -1.9895970   | 0.008173458  |\n",
       "| schoolj* | 14           | 3733         |  40.2330565  | 22.8997725   |  40          |  40.2497489  | 29.6520      |   1          |   79         |  78          |  0.005639985 | -1.2370769   | 0.374802236  |\n",
       "\n"
      ],
      "text/plain": [
       "           vars n    mean        sd         median trimmed     mad     min max \n",
       "tmathssk    1   3733 487.0720600 48.5905681 484    484.7462337 44.4780 320  626\n",
       "treadssk    2   3733 437.4197696 31.8365046 434    434.7224640 29.6520 315  627\n",
       "classk*     3   3733   1.4642379  0.4987862   1      1.4553063  0.0000   1    2\n",
       "totexpk     4   3733   9.0375033  5.7268746   8      8.7174422  5.9304   0   27\n",
       "sex*        5   3733   1.5140638  0.4998691   2      1.5175762  0.0000   1    2\n",
       "freelunk*   6   3733   1.4738816  0.4993843   1      1.4673586  0.0000   1    2\n",
       "race*       7   3733   1.3257434  0.4800121   1      1.2755273  0.0000   1    3\n",
       "schidkn     8   3733  40.2630592 22.9498012  40     40.2497489 29.6520   1   80\n",
       "totalscore  9   3733 924.4918296 75.0123730 918    920.5333110 71.1648 635 1253\n",
       "small      10   3733   0.4642379  0.4987862   0      0.4553063  0.0000   0    1\n",
       "boy        11   3733   0.5140638  0.4998691   1      0.5175762  0.0000   0    1\n",
       "whiteother 12   3733   0.6849719  0.4645893   1      0.7311684  0.0000   0    1\n",
       "freelunch  13   3733   0.4738816  0.4993843   0      0.4673586  0.0000   0    1\n",
       "schoolj*   14   3733  40.2330565 22.8997725  40     40.2497489 29.6520   1   79\n",
       "           range skew         kurtosis   se         \n",
       "tmathssk   306    0.419722156  0.1241333 0.795285348\n",
       "treadssk   312    1.196499669  3.3088045 0.521070378\n",
       "classk*      1    0.143358170 -1.9799786 0.008163671\n",
       "totexpk     27    0.420621360 -0.3176688 0.093732171\n",
       "sex*         1   -0.056254677 -1.9973703 0.008181394\n",
       "freelunk*    1    0.104574409 -1.9895970 0.008173458\n",
       "race*        2    0.888062766 -0.8364824 0.007856392\n",
       "schidkn     79    0.012571354 -1.2282651 0.375621059\n",
       "totalscore 618    0.531075790  0.4644768 1.227732945\n",
       "small        1    0.143358170 -1.9799786 0.008163671\n",
       "boy          1   -0.056254677 -1.9973703 0.008181394\n",
       "whiteother   1   -0.796067917 -1.3666418 0.007603967\n",
       "freelunch    1    0.104574409 -1.9895970 0.008173458\n",
       "schoolj*    78    0.005639985 -1.2370769 0.374802236"
      ]
     },
     "metadata": {},
     "output_type": "display_data"
    }
   ],
   "source": [
    "# summary stats across all data\n",
    "describe(mydata)\n"
   ]
  },
  {
   "cell_type": "code",
   "execution_count": 6,
   "metadata": {},
   "outputs": [
    {
     "data": {
      "text/plain": [
       "\n",
       "Call:\n",
       "lm(formula = totalscore ~ 1, data = dplyr::filter(mydata, small == \n",
       "    0))\n",
       "\n",
       "Residuals:\n",
       "     Min       1Q   Median       3Q      Max \n",
       "-282.942  -51.942   -5.942   43.058  311.058 \n",
       "\n",
       "Coefficients:\n",
       "            Estimate Std. Error t value Pr(>|t|)    \n",
       "(Intercept)  917.942      1.636   561.2   <2e-16 ***\n",
       "---\n",
       "Signif. codes:  0 ‘***’ 0.001 ‘**’ 0.01 ‘*’ 0.05 ‘.’ 0.1 ‘ ’ 1\n",
       "\n",
       "Residual standard error: 73.15 on 1999 degrees of freedom\n"
      ]
     },
     "metadata": {},
     "output_type": "display_data"
    }
   ],
   "source": [
    "# Please run a linear regression to understand for the case of small= 0\n",
    "\n",
    "reg_0 <- lm(totalscore ~  1, data = dplyr::filter(mydata,small == 0))\n",
    "summary(reg_0)"
   ]
  },
  {
   "cell_type": "code",
   "execution_count": 7,
   "metadata": {},
   "outputs": [
    {
     "data": {
      "text/plain": [
       "\n",
       "Call:\n",
       "lm(formula = totalscore ~ 1, data = dplyr::filter(mydata, small == \n",
       "    1))\n",
       "\n",
       "Residuals:\n",
       "    Min      1Q  Median      3Q     Max \n",
       "-185.05  -54.05   -8.05   48.95  320.95 \n",
       "\n",
       "Coefficients:\n",
       "            Estimate Std. Error t value Pr(>|t|)    \n",
       "(Intercept)  932.051      1.836   507.7   <2e-16 ***\n",
       "---\n",
       "Signif. codes:  0 ‘***’ 0.001 ‘**’ 0.01 ‘*’ 0.05 ‘.’ 0.1 ‘ ’ 1\n",
       "\n",
       "Residual standard error: 76.43 on 1732 degrees of freedom\n"
      ]
     },
     "metadata": {},
     "output_type": "display_data"
    }
   ],
   "source": [
    "# Please run a linear regression to understand for the case of small= 1\n",
    "\n",
    "reg_1 <- lm(totalscore ~  1, data = dplyr::filter(mydata,small == 1))\n",
    "summary(reg_1)\n"
   ]
  },
  {
   "cell_type": "code",
   "execution_count": 8,
   "metadata": {},
   "outputs": [
    {
     "data": {
      "text/plain": [
       "\n",
       "Call:\n",
       "lm(formula = totalscore ~ small, data = mydata)\n",
       "\n",
       "Residuals:\n",
       "    Min      1Q  Median      3Q     Max \n",
       "-282.94  -53.05   -6.94   45.06  320.95 \n",
       "\n",
       "Coefficients:\n",
       "            Estimate Std. Error t value Pr(>|t|)    \n",
       "(Intercept)  917.942      1.670 549.615  < 2e-16 ***\n",
       "small         14.109      2.451   5.756 9.32e-09 ***\n",
       "---\n",
       "Signif. codes:  0 ‘***’ 0.001 ‘**’ 0.01 ‘*’ 0.05 ‘.’ 0.1 ‘ ’ 1\n",
       "\n",
       "Residual standard error: 74.69 on 3731 degrees of freedom\n",
       "Multiple R-squared:  0.008801,\tAdjusted R-squared:  0.008536 \n",
       "F-statistic: 33.13 on 1 and 3731 DF,  p-value: 9.32e-09\n"
      ]
     },
     "metadata": {},
     "output_type": "display_data"
    }
   ],
   "source": [
    "# Please run a linear regression using all the data using dummy variable for small\n",
    "reg_all <- lm(totalscore ~  small, data = mydata)\n",
    "summary(reg_all)\n",
    "\n"
   ]
  },
  {
   "cell_type": "code",
   "execution_count": 9,
   "metadata": {},
   "outputs": [
    {
     "data": {
      "text/plain": [
       "\n",
       "Call:\n",
       "lm(formula = totalscore ~ small + totexpk, data = mydata)\n",
       "\n",
       "Residuals:\n",
       "    Min      1Q  Median      3Q     Max \n",
       "-275.90  -52.75   -7.33   45.67  316.94 \n",
       "\n",
       "Coefficients:\n",
       "            Estimate Std. Error t value Pr(>|t|)    \n",
       "(Intercept) 907.4293     2.5487 356.034  < 2e-16 ***\n",
       "small        14.2098     2.4420   5.819 6.42e-09 ***\n",
       "totexpk       1.1580     0.2127   5.445 5.52e-08 ***\n",
       "---\n",
       "Signif. codes:  0 ‘***’ 0.001 ‘**’ 0.01 ‘*’ 0.05 ‘.’ 0.1 ‘ ’ 1\n",
       "\n",
       "Residual standard error: 74.41 on 3730 degrees of freedom\n",
       "Multiple R-squared:  0.01662,\tAdjusted R-squared:  0.01609 \n",
       "F-statistic: 31.52 on 2 and 3730 DF,  p-value: 2.676e-14\n"
      ]
     },
     "metadata": {},
     "output_type": "display_data"
    }
   ],
   "source": [
    "# Add Teacher Experience to the model \n",
    "reg_2 <- lm(totalscore ~  small + totexpk, data = mydata)\n",
    "summary(reg_2)\n",
    "\n"
   ]
  },
  {
   "cell_type": "code",
   "execution_count": 10,
   "metadata": {},
   "outputs": [
    {
     "data": {
      "text/plain": [
       "\n",
       "Call:\n",
       "lm(formula = totalscore ~ small + schoolj, data = mydata)\n",
       "\n",
       "Residuals:\n",
       "    Min      1Q  Median      3Q     Max \n",
       "-233.75  -43.32   -4.48   37.80  385.27 \n",
       "\n",
       "Coefficients:\n",
       "            Estimate Std. Error t value Pr(>|t|)    \n",
       "(Intercept)  938.483      9.674  97.013  < 2e-16 ***\n",
       "small         16.177      2.227   7.264 4.56e-13 ***\n",
       "schoolj2     -99.806     15.037  -6.637 3.66e-11 ***\n",
       "schoolj3     -13.466     13.398  -1.005 0.314945    \n",
       "schoolj4     -52.434     14.779  -3.548 0.000393 ***\n",
       "schoolj5     -57.500     14.441  -3.982 6.98e-05 ***\n",
       "schoolj6     -51.525     15.317  -3.364 0.000776 ***\n",
       "schoolj7       9.797     12.348   0.793 0.427622    \n",
       "schoolj8     -39.947     12.196  -3.276 0.001065 ** \n",
       "schoolj9       1.264     12.230   0.103 0.917683    \n",
       "schoolj10     55.180     15.469   3.567 0.000366 ***\n",
       "schoolj11     34.974     14.904   2.347 0.019000 *  \n",
       "schoolj12     -7.350     14.904  -0.493 0.621936    \n",
       "schoolj13     30.684     14.441   2.125 0.033675 *  \n",
       "schoolj14    -38.968     20.803  -1.873 0.061123 .  \n",
       "schoolj15    -61.735     14.253  -4.331 1.52e-05 ***\n",
       "schoolj16    -76.919     13.058  -5.891 4.20e-09 ***\n",
       "schoolj17    -41.349     13.466  -3.071 0.002152 ** \n",
       "schoolj18    -59.015     13.041  -4.525 6.22e-06 ***\n",
       "schoolj19    -57.855     13.112  -4.413 1.05e-05 ***\n",
       "schoolj20    -23.294     14.552  -1.601 0.109521    \n",
       "schoolj21      5.993     15.034   0.399 0.690197    \n",
       "schoolj22     -5.274     11.958  -0.441 0.659203    \n",
       "schoolj23     33.707     12.897   2.614 0.008998 ** \n",
       "schoolj24    -43.283     13.744  -3.149 0.001651 ** \n",
       "schoolj25    -48.712     14.784  -3.295 0.000994 ***\n",
       "schoolj26    -80.160     15.175  -5.282 1.35e-07 ***\n",
       "schoolj27      6.267     11.845   0.529 0.596780    \n",
       "schoolj28    -44.695     11.866  -3.767 0.000168 ***\n",
       "schoolj29    -22.331     14.907  -1.498 0.134224    \n",
       "schoolj30     31.893     14.661   2.175 0.029669 *  \n",
       "schoolj31     -5.149     15.172  -0.339 0.734359    \n",
       "schoolj32    -86.245     12.718  -6.781 1.38e-11 ***\n",
       "schoolj33    -96.615     13.825  -6.988 3.29e-12 ***\n",
       "schoolj34    -53.571     13.534  -3.958 7.69e-05 ***\n",
       "schoolj35    -47.788     14.547  -3.285 0.001029 ** \n",
       "schoolj36    -32.521     14.152  -2.298 0.021617 *  \n",
       "schoolj37    -25.702     13.461  -1.909 0.056301 .  \n",
       "schoolj38    -16.932     15.987  -1.059 0.289620    \n",
       "schoolj39    -23.954     13.981  -1.713 0.086740 .  \n",
       "schoolj40     30.761     13.897   2.214 0.026920 *  \n",
       "schoolj41     44.280     13.899   3.186 0.001455 ** \n",
       "schoolj42    -12.122     14.665  -0.827 0.408530    \n",
       "schoolj43    -15.916     13.895  -1.146 0.252074    \n",
       "schoolj44     24.030     13.338   1.802 0.071675 .  \n",
       "schoolj45   -105.118     14.548  -7.226 6.05e-13 ***\n",
       "schoolj46    -12.434     14.779  -0.841 0.400189    \n",
       "schoolj47    -38.639     14.903  -2.593 0.009561 ** \n",
       "schoolj48     -4.051     13.983  -0.290 0.772062    \n",
       "schoolj49      2.416     14.442   0.167 0.867145    \n",
       "schoolj50    -17.082     13.461  -1.269 0.204536    \n",
       "schoolj51      5.762     11.903   0.484 0.628335    \n",
       "schoolj52     31.221     15.629   1.998 0.045831 *  \n",
       "schoolj53    -85.649     14.906  -5.746 9.88e-09 ***\n",
       "schoolj54    -15.831     15.035  -1.053 0.292447    \n",
       "schoolj55    -46.845     13.093  -3.578 0.000351 ***\n",
       "schoolj56    -86.933     12.348  -7.040 2.29e-12 ***\n",
       "schoolj57    -57.132     14.069  -4.061 4.99e-05 ***\n",
       "schoolj58     20.551     13.466   1.526 0.127064    \n",
       "schoolj59      6.240     14.253   0.438 0.661550    \n",
       "schoolj60    -51.095     13.669  -3.738 0.000188 ***\n",
       "schoolj61    -31.486     13.531  -2.327 0.020026 *  \n",
       "schoolj62    -44.296     14.906  -2.972 0.002980 ** \n",
       "schoolj63      9.844     12.485   0.788 0.430490    \n",
       "schoolj64    -18.992     12.598  -1.508 0.131745    \n",
       "schoolj65     14.992     16.606   0.903 0.366690    \n",
       "schoolj66    -49.541     13.597  -3.644 0.000273 ***\n",
       "schoolj67    -15.263     16.848  -0.906 0.365034    \n",
       "schoolj68     37.216     12.417   2.997 0.002743 ** \n",
       "schoolj69     21.101     15.172   1.391 0.164357    \n",
       "schoolj70    -28.135     13.529  -2.080 0.037630 *  \n",
       "schoolj71    -48.285     13.218  -3.653 0.000263 ***\n",
       "schoolj72     17.347     12.634   1.373 0.169826    \n",
       "schoolj73     -2.140     13.981  -0.153 0.878361    \n",
       "schoolj74     -3.897     13.398  -0.291 0.771160    \n",
       "schoolj75     -6.333     12.846  -0.493 0.622061    \n",
       "schoolj76    -30.665     12.318  -2.490 0.012835 *  \n",
       "schoolj78    -54.847     14.548  -3.770 0.000166 ***\n",
       "schoolj79    -11.989     14.069  -0.852 0.394182    \n",
       "schoolj80     -7.189     15.034  -0.478 0.632541    \n",
       "---\n",
       "Signif. codes:  0 ‘***’ 0.001 ‘**’ 0.01 ‘*’ 0.05 ‘.’ 0.1 ‘ ’ 1\n",
       "\n",
       "Residual standard error: 66.19 on 3653 degrees of freedom\n",
       "Multiple R-squared:  0.238,\tAdjusted R-squared:  0.2215 \n",
       "F-statistic: 14.44 on 79 and 3653 DF,  p-value: < 2.2e-16\n"
      ]
     },
     "metadata": {},
     "output_type": "display_data"
    }
   ],
   "source": [
    "# Add School fixed effects to the model reg-all\n",
    "reg_3 <- lm(totalscore ~  small + schoolj, data = mydata)\n",
    "summary(reg_3)\n",
    "\n"
   ]
  },
  {
   "cell_type": "code",
   "execution_count": 11,
   "metadata": {},
   "outputs": [
    {
     "data": {
      "text/plain": [
       "\n",
       "Call:\n",
       "lm(formula = totalscore ~ small + totexpk + schoolj, data = mydata)\n",
       "\n",
       "Residuals:\n",
       "    Min      1Q  Median      3Q     Max \n",
       "-228.08  -43.20   -4.95   37.14  375.17 \n",
       "\n",
       "Coefficients:\n",
       "             Estimate Std. Error t value Pr(>|t|)    \n",
       "(Intercept)  929.7620     9.8909  94.002  < 2e-16 ***\n",
       "small         16.2530     2.2223   7.314 3.18e-13 ***\n",
       "totexpk        0.9148     0.2259   4.049 5.26e-05 ***\n",
       "schoolj2     -99.1028    15.0062  -6.604 4.58e-11 ***\n",
       "schoolj3     -12.8955    13.3711  -0.964 0.334894    \n",
       "schoolj4     -48.3416    14.7821  -3.270 0.001084 ** \n",
       "schoolj5     -56.1273    14.4149  -3.894 0.000100 ***\n",
       "schoolj6     -47.9703    15.3101  -3.133 0.001743 ** \n",
       "schoolj7      12.6027    12.3419   1.021 0.307260    \n",
       "schoolj8     -42.0140    12.1808  -3.449 0.000569 ***\n",
       "schoolj9       1.8443    12.2056   0.151 0.879905    \n",
       "schoolj10     57.8327    15.4506   3.743 0.000185 ***\n",
       "schoolj11     33.6009    14.8767   2.259 0.023965 *  \n",
       "schoolj12    -12.8122    14.9339  -0.858 0.390990    \n",
       "schoolj13     34.6086    14.4435   2.396 0.016619 *  \n",
       "schoolj14    -42.2145    20.7747  -2.032 0.042225 *  \n",
       "schoolj15    -65.7040    14.2572  -4.608 4.19e-06 ***\n",
       "schoolj16    -72.1255    13.0841  -5.512 3.78e-08 ***\n",
       "schoolj17    -39.5345    13.4452  -2.940 0.003298 ** \n",
       "schoolj18    -59.0894    13.0136  -4.541 5.79e-06 ***\n",
       "schoolj19    -53.5567    13.1270  -4.080 4.60e-05 ***\n",
       "schoolj20    -25.4120    14.5309  -1.749 0.080405 .  \n",
       "schoolj21      9.0844    15.0216   0.605 0.545381    \n",
       "schoolj22     -6.1076    11.9342  -0.512 0.608843    \n",
       "schoolj23     35.1837    12.8751   2.733 0.006312 ** \n",
       "schoolj24    -41.7850    13.7206  -3.045 0.002340 ** \n",
       "schoolj25    -53.8275    14.8074  -3.635 0.000282 ***\n",
       "schoolj26    -79.1926    15.1449  -5.229 1.80e-07 ***\n",
       "schoolj27      9.3225    11.8443   0.787 0.431283    \n",
       "schoolj28    -41.5962    11.8656  -3.506 0.000461 ***\n",
       "schoolj29    -18.2195    14.9107  -1.222 0.221819    \n",
       "schoolj30     34.2824    14.6422   2.341 0.019268 *  \n",
       "schoolj31      1.3118    15.2236   0.086 0.931338    \n",
       "schoolj32    -82.2158    12.7305  -6.458 1.20e-10 ***\n",
       "schoolj33    -94.0197    13.8112  -6.807 1.16e-11 ***\n",
       "schoolj34    -54.8468    13.5089  -4.060 5.01e-05 ***\n",
       "schoolj35    -43.0745    14.5634  -2.958 0.003119 ** \n",
       "schoolj36    -36.2194    14.1514  -2.559 0.010524 *  \n",
       "schoolj37    -22.6220    13.4548  -1.681 0.092783 .  \n",
       "schoolj38    -18.1039    15.9561  -1.135 0.256614    \n",
       "schoolj39    -18.9343    14.0066  -1.352 0.176520    \n",
       "schoolj40     31.8318    13.8701   2.295 0.021790 *  \n",
       "schoolj41     40.3799    13.9032   2.904 0.003702 ** \n",
       "schoolj42    -13.4994    14.6386  -0.922 0.356496    \n",
       "schoolj43    -11.9752    13.8996  -0.862 0.388990    \n",
       "schoolj44     21.8359    13.3206   1.639 0.101246    \n",
       "schoolj45   -104.2873    14.5190  -7.183 8.24e-13 ***\n",
       "schoolj46    -12.0006    14.7479  -0.814 0.415860    \n",
       "schoolj47    -36.6193    14.8800  -2.461 0.013902 *  \n",
       "schoolj48     -6.9682    13.9727  -0.499 0.618017    \n",
       "schoolj49      2.1983    14.4122   0.153 0.878777    \n",
       "schoolj50    -18.3562    13.4369  -1.366 0.171990    \n",
       "schoolj51      2.5908    11.9038   0.218 0.827720    \n",
       "schoolj52     28.3732    15.6119   1.817 0.069236 .  \n",
       "schoolj53    -82.1275    14.8997  -5.512 3.79e-08 ***\n",
       "schoolj54    -18.6458    15.0196  -1.241 0.214526    \n",
       "schoolj55    -50.4587    13.0963  -3.853 0.000119 ***\n",
       "schoolj56    -87.3905    12.3229  -7.092 1.58e-12 ***\n",
       "schoolj57    -51.5905    14.1059  -3.657 0.000258 ***\n",
       "schoolj58     24.5610    13.4741   1.823 0.068412 .  \n",
       "schoolj59      8.3770    14.2332   0.589 0.556196    \n",
       "schoolj60    -50.5340    13.6412  -3.705 0.000215 ***\n",
       "schoolj61    -36.0830    13.5505  -2.663 0.007782 ** \n",
       "schoolj62    -46.2094    14.8818  -3.105 0.001917 ** \n",
       "schoolj63     12.2214    12.4726   0.980 0.327223    \n",
       "schoolj64    -25.6232    12.6776  -2.021 0.043339 *  \n",
       "schoolj65     11.6786    16.5918   0.704 0.481553    \n",
       "schoolj66    -50.5438    13.5704  -3.725 0.000199 ***\n",
       "schoolj67     -8.7661    16.8893  -0.519 0.603769    \n",
       "schoolj68     36.3746    12.3927   2.935 0.003355 ** \n",
       "schoolj69     18.8715    15.1498   1.246 0.212968    \n",
       "schoolj70    -29.2586    13.5034  -2.167 0.030318 *  \n",
       "schoolj71    -48.1779    13.1901  -3.653 0.000263 ***\n",
       "schoolj72     16.6429    12.6084   1.320 0.186925    \n",
       "schoolj73     -1.8856    13.9518  -0.135 0.892499    \n",
       "schoolj74     -7.1294    13.3941  -0.532 0.594567    \n",
       "schoolj75     -6.4943    12.8189  -0.507 0.612454    \n",
       "schoolj76    -28.6116    12.3021  -2.326 0.020087 *  \n",
       "schoolj78    -53.4731    14.5215  -3.682 0.000234 ***\n",
       "schoolj79    -12.5460    14.0400  -0.894 0.371598    \n",
       "schoolj80     -5.0399    15.0116  -0.336 0.737090    \n",
       "---\n",
       "Signif. codes:  0 ‘***’ 0.001 ‘**’ 0.01 ‘*’ 0.05 ‘.’ 0.1 ‘ ’ 1\n",
       "\n",
       "Residual standard error: 66.05 on 3652 degrees of freedom\n",
       "Multiple R-squared:  0.2414,\tAdjusted R-squared:  0.2248 \n",
       "F-statistic: 14.52 on 80 and 3652 DF,  p-value: < 2.2e-16\n"
      ]
     },
     "metadata": {},
     "output_type": "display_data"
    }
   ],
   "source": [
    "# Add School fixed effects to the model reg_2\n",
    "reg_4 <- lm(totalscore ~  small + totexpk + schoolj, data = mydata)\n",
    "summary(reg_4)\n",
    "\n"
   ]
  },
  {
   "cell_type": "code",
   "execution_count": 12,
   "metadata": {},
   "outputs": [
    {
     "data": {
      "text/plain": [
       "\n",
       "Call:\n",
       "lm(formula = small ~ boy + whiteother + totexpk + freelunch, \n",
       "    data = mydata)\n",
       "\n",
       "Residuals:\n",
       "    Min      1Q  Median      3Q     Max \n",
       "-0.4750 -0.4647 -0.4563  0.5351  0.5521 \n",
       "\n",
       "Coefficients:\n",
       "              Estimate Std. Error t value Pr(>|t|)    \n",
       "(Intercept)  0.4639737  0.0252556  18.371   <2e-16 ***\n",
       "boy         -0.0003847  0.0163611  -0.024    0.981    \n",
       "whiteother   0.0093778  0.0196812   0.476    0.634    \n",
       "totexpk     -0.0007475  0.0014411  -0.519    0.604    \n",
       "freelunch    0.0016760  0.0182339   0.092    0.927    \n",
       "---\n",
       "Signif. codes:  0 ‘***’ 0.001 ‘**’ 0.01 ‘*’ 0.05 ‘.’ 0.1 ‘ ’ 1\n",
       "\n",
       "Residual standard error: 0.499 on 3728 degrees of freedom\n",
       "Multiple R-squared:  0.000123,\tAdjusted R-squared:  -0.0009499 \n",
       "F-statistic: 0.1146 on 4 and 3728 DF,  p-value: 0.9774\n"
      ]
     },
     "metadata": {},
     "output_type": "display_data"
    }
   ],
   "source": [
    "# check if small is randomly assigned\n",
    "reg_5 <- lm(small ~ boy + whiteother + totexpk + freelunch, data = mydata)\n",
    "summary(reg_5)\n",
    "\n"
   ]
  },
  {
   "cell_type": "code",
   "execution_count": null,
   "metadata": {},
   "outputs": [],
   "source": []
  }
 ],
 "metadata": {
  "kernelspec": {
   "display_name": "R",
   "language": "R",
   "name": "ir"
  },
  "language_info": {
   "codemirror_mode": "r",
   "file_extension": ".r",
   "mimetype": "text/x-r-source",
   "name": "R",
   "pygments_lexer": "r",
   "version": "3.6.1"
  }
 },
 "nbformat": 4,
 "nbformat_minor": 2
}
