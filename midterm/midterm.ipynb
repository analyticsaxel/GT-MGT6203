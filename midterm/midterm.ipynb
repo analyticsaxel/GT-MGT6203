{
 "cells": [
  {
   "cell_type": "code",
   "execution_count": 121,
   "metadata": {},
   "outputs": [],
   "source": [
    "library(Ecdat)\n",
    "library(dplyr)\n",
    "library(ISLR)\n",
    "library(stargazer)\n",
    "library(\"ROCR\")\n",
    "\n",
    "library(PerformanceAnalytics)\n",
    "library(xts)\n",
    "library(lubridate)"
   ]
  },
  {
   "cell_type": "code",
   "execution_count": 122,
   "metadata": {},
   "outputs": [],
   "source": [
    "data(Wages)"
   ]
  },
  {
   "cell_type": "code",
   "execution_count": 123,
   "metadata": {},
   "outputs": [
    {
     "data": {
      "text/plain": [
       "      exp             wks        bluecol         ind         south     \n",
       " Min.   : 1.00   Min.   : 5.00   no :2036   Min.   :0.0000   no :2956  \n",
       " 1st Qu.:11.00   1st Qu.:46.00   yes:2129   1st Qu.:0.0000   yes:1209  \n",
       " Median :18.00   Median :48.00              Median :0.0000             \n",
       " Mean   :19.85   Mean   :46.81              Mean   :0.3954             \n",
       " 3rd Qu.:29.00   3rd Qu.:50.00              3rd Qu.:1.0000             \n",
       " Max.   :51.00   Max.   :52.00              Max.   :1.0000             \n",
       "  smsa      married        sex       union            ed        black     \n",
       " no :1442   no : 773   female: 469   no :2649   Min.   : 4.00   no :3864  \n",
       " yes:2723   yes:3392   male  :3696   yes:1516   1st Qu.:12.00   yes: 301  \n",
       "                                                Median :12.00             \n",
       "                                                Mean   :12.85             \n",
       "                                                3rd Qu.:16.00             \n",
       "                                                Max.   :17.00             \n",
       "     lwage      \n",
       " Min.   :4.605  \n",
       " 1st Qu.:6.395  \n",
       " Median :6.685  \n",
       " Mean   :6.676  \n",
       " 3rd Qu.:6.953  \n",
       " Max.   :8.537  "
      ]
     },
     "metadata": {},
     "output_type": "display_data"
    }
   ],
   "source": [
    "summary(Wages)"
   ]
  },
  {
   "cell_type": "code",
   "execution_count": 124,
   "metadata": {},
   "outputs": [],
   "source": [
    "WagesTemp <- Wages %>%\n",
    "    mutate(ifsouth = ifelse(south == 'yes', 1, 0))\n"
   ]
  },
  {
   "cell_type": "code",
   "execution_count": 125,
   "metadata": {},
   "outputs": [
    {
     "data": {
      "text/html": [
       "<table>\n",
       "<thead><tr><th scope=col>exp</th><th scope=col>wks</th><th scope=col>bluecol</th><th scope=col>ind</th><th scope=col>south</th><th scope=col>smsa</th><th scope=col>married</th><th scope=col>sex</th><th scope=col>union</th><th scope=col>ed</th><th scope=col>black</th><th scope=col>lwage</th><th scope=col>ifsouth</th></tr></thead>\n",
       "<tbody>\n",
       "\t<tr><td> 3     </td><td>32     </td><td>no     </td><td>0      </td><td>yes    </td><td>no     </td><td>yes    </td><td>male   </td><td>no     </td><td> 9     </td><td>no     </td><td>5.56068</td><td>1      </td></tr>\n",
       "\t<tr><td> 4     </td><td>43     </td><td>no     </td><td>0      </td><td>yes    </td><td>no     </td><td>yes    </td><td>male   </td><td>no     </td><td> 9     </td><td>no     </td><td>5.72031</td><td>1      </td></tr>\n",
       "\t<tr><td> 5     </td><td>40     </td><td>no     </td><td>0      </td><td>yes    </td><td>no     </td><td>yes    </td><td>male   </td><td>no     </td><td> 9     </td><td>no     </td><td>5.99645</td><td>1      </td></tr>\n",
       "\t<tr><td> 6     </td><td>39     </td><td>no     </td><td>0      </td><td>yes    </td><td>no     </td><td>yes    </td><td>male   </td><td>no     </td><td> 9     </td><td>no     </td><td>5.99645</td><td>1      </td></tr>\n",
       "\t<tr><td> 7     </td><td>42     </td><td>no     </td><td>1      </td><td>yes    </td><td>no     </td><td>yes    </td><td>male   </td><td>no     </td><td> 9     </td><td>no     </td><td>6.06146</td><td>1      </td></tr>\n",
       "\t<tr><td> 8     </td><td>35     </td><td>no     </td><td>1      </td><td>yes    </td><td>no     </td><td>yes    </td><td>male   </td><td>no     </td><td> 9     </td><td>no     </td><td>6.17379</td><td>1      </td></tr>\n",
       "\t<tr><td> 9     </td><td>32     </td><td>no     </td><td>1      </td><td>yes    </td><td>no     </td><td>yes    </td><td>male   </td><td>no     </td><td> 9     </td><td>no     </td><td>6.24417</td><td>1      </td></tr>\n",
       "\t<tr><td>30     </td><td>34     </td><td>yes    </td><td>0      </td><td>no     </td><td>no     </td><td>yes    </td><td>male   </td><td>no     </td><td>11     </td><td>no     </td><td>6.16331</td><td>0      </td></tr>\n",
       "\t<tr><td>31     </td><td>27     </td><td>yes    </td><td>0      </td><td>no     </td><td>no     </td><td>yes    </td><td>male   </td><td>no     </td><td>11     </td><td>no     </td><td>6.21461</td><td>0      </td></tr>\n",
       "\t<tr><td>32     </td><td>33     </td><td>yes    </td><td>1      </td><td>no     </td><td>no     </td><td>yes    </td><td>male   </td><td>yes    </td><td>11     </td><td>no     </td><td>6.26340</td><td>0      </td></tr>\n",
       "\t<tr><td>33     </td><td>30     </td><td>yes    </td><td>1      </td><td>no     </td><td>no     </td><td>yes    </td><td>male   </td><td>no     </td><td>11     </td><td>no     </td><td>6.54391</td><td>0      </td></tr>\n",
       "\t<tr><td>34     </td><td>30     </td><td>yes    </td><td>1      </td><td>no     </td><td>no     </td><td>yes    </td><td>male   </td><td>no     </td><td>11     </td><td>no     </td><td>6.69703</td><td>0      </td></tr>\n",
       "\t<tr><td>35     </td><td>37     </td><td>yes    </td><td>1      </td><td>no     </td><td>no     </td><td>yes    </td><td>male   </td><td>no     </td><td>11     </td><td>no     </td><td>6.79122</td><td>0      </td></tr>\n",
       "\t<tr><td>36     </td><td>30     </td><td>yes    </td><td>1      </td><td>no     </td><td>no     </td><td>yes    </td><td>male   </td><td>no     </td><td>11     </td><td>no     </td><td>6.81564</td><td>0      </td></tr>\n",
       "\t<tr><td> 6     </td><td>50     </td><td>yes    </td><td>1      </td><td>no     </td><td>no     </td><td>yes    </td><td>male   </td><td>yes    </td><td>12     </td><td>no     </td><td>5.65249</td><td>0      </td></tr>\n",
       "\t<tr><td> 7     </td><td>51     </td><td>yes    </td><td>1      </td><td>no     </td><td>no     </td><td>yes    </td><td>male   </td><td>yes    </td><td>12     </td><td>no     </td><td>6.43615</td><td>0      </td></tr>\n",
       "\t<tr><td> 8     </td><td>50     </td><td>yes    </td><td>1      </td><td>no     </td><td>no     </td><td>yes    </td><td>male   </td><td>yes    </td><td>12     </td><td>no     </td><td>6.54822</td><td>0      </td></tr>\n",
       "\t<tr><td> 9     </td><td>52     </td><td>yes    </td><td>1      </td><td>no     </td><td>no     </td><td>yes    </td><td>male   </td><td>yes    </td><td>12     </td><td>no     </td><td>6.60259</td><td>0      </td></tr>\n",
       "\t<tr><td>10     </td><td>52     </td><td>yes    </td><td>1      </td><td>no     </td><td>no     </td><td>yes    </td><td>male   </td><td>yes    </td><td>12     </td><td>no     </td><td>6.69580</td><td>0      </td></tr>\n",
       "\t<tr><td>11     </td><td>52     </td><td>yes    </td><td>1      </td><td>no     </td><td>no     </td><td>no     </td><td>male   </td><td>yes    </td><td>12     </td><td>no     </td><td>6.77878</td><td>0      </td></tr>\n",
       "\t<tr><td>12     </td><td>46     </td><td>yes    </td><td>1      </td><td>no     </td><td>no     </td><td>no     </td><td>male   </td><td>yes    </td><td>12     </td><td>no     </td><td>6.86066</td><td>0      </td></tr>\n",
       "\t<tr><td>31     </td><td>52     </td><td>yes    </td><td>0      </td><td>no     </td><td>yes    </td><td>no     </td><td>female </td><td>no     </td><td>10     </td><td>yes    </td><td>6.15698</td><td>0      </td></tr>\n",
       "\t<tr><td>32     </td><td>46     </td><td>yes    </td><td>0      </td><td>no     </td><td>yes    </td><td>no     </td><td>female </td><td>no     </td><td>10     </td><td>yes    </td><td>6.23832</td><td>0      </td></tr>\n",
       "\t<tr><td>33     </td><td>46     </td><td>yes    </td><td>0      </td><td>no     </td><td>yes    </td><td>no     </td><td>female </td><td>no     </td><td>10     </td><td>yes    </td><td>6.30079</td><td>0      </td></tr>\n",
       "\t<tr><td>34     </td><td>49     </td><td>yes    </td><td>0      </td><td>no     </td><td>yes    </td><td>no     </td><td>female </td><td>no     </td><td>10     </td><td>yes    </td><td>6.35957</td><td>0      </td></tr>\n",
       "\t<tr><td>35     </td><td>44     </td><td>yes    </td><td>0      </td><td>no     </td><td>yes    </td><td>no     </td><td>female </td><td>no     </td><td>10     </td><td>yes    </td><td>6.46925</td><td>0      </td></tr>\n",
       "\t<tr><td>36     </td><td>52     </td><td>yes    </td><td>0      </td><td>no     </td><td>yes    </td><td>no     </td><td>female </td><td>no     </td><td>10     </td><td>yes    </td><td>6.56244</td><td>0      </td></tr>\n",
       "\t<tr><td>37     </td><td>46     </td><td>yes    </td><td>0      </td><td>no     </td><td>yes    </td><td>no     </td><td>female </td><td>no     </td><td>10     </td><td>yes    </td><td>6.62141</td><td>0      </td></tr>\n",
       "\t<tr><td>10     </td><td>50     </td><td>yes    </td><td>0      </td><td>no     </td><td>no     </td><td>yes    </td><td>male   </td><td>yes    </td><td>16     </td><td>no     </td><td>6.43775</td><td>0      </td></tr>\n",
       "\t<tr><td>11     </td><td>46     </td><td>yes    </td><td>0      </td><td>no     </td><td>no     </td><td>yes    </td><td>male   </td><td>yes    </td><td>16     </td><td>no     </td><td>6.62007</td><td>0      </td></tr>\n",
       "\t<tr><td>...</td><td>...</td><td>...</td><td>...</td><td>...</td><td>...</td><td>...</td><td>...</td><td>...</td><td>...</td><td>...</td><td>...</td><td>...</td></tr>\n",
       "\t<tr><td>39     </td><td>45     </td><td>yes    </td><td>1      </td><td>no     </td><td>yes    </td><td>yes    </td><td>male   </td><td>yes    </td><td> 8     </td><td>no     </td><td>6.85646</td><td>0      </td></tr>\n",
       "\t<tr><td>40     </td><td>46     </td><td>yes    </td><td>1      </td><td>no     </td><td>yes    </td><td>yes    </td><td>male   </td><td>yes    </td><td> 8     </td><td>no     </td><td>6.85646</td><td>0      </td></tr>\n",
       "\t<tr><td> 6     </td><td>15     </td><td>yes    </td><td>1      </td><td>no     </td><td>yes    </td><td>yes    </td><td>male   </td><td>yes    </td><td>13     </td><td>no     </td><td>6.49979</td><td>0      </td></tr>\n",
       "\t<tr><td> 7     </td><td>47     </td><td>yes    </td><td>1      </td><td>no     </td><td>yes    </td><td>yes    </td><td>male   </td><td>no     </td><td>13     </td><td>no     </td><td>6.51619</td><td>0      </td></tr>\n",
       "\t<tr><td> 8     </td><td>49     </td><td>yes    </td><td>1      </td><td>no     </td><td>yes    </td><td>yes    </td><td>male   </td><td>yes    </td><td>13     </td><td>no     </td><td>6.65157</td><td>0      </td></tr>\n",
       "\t<tr><td> 9     </td><td>47     </td><td>yes    </td><td>1      </td><td>no     </td><td>yes    </td><td>yes    </td><td>male   </td><td>yes    </td><td>13     </td><td>no     </td><td>6.76849</td><td>0      </td></tr>\n",
       "\t<tr><td>10     </td><td>50     </td><td>yes    </td><td>1      </td><td>no     </td><td>yes    </td><td>yes    </td><td>male   </td><td>yes    </td><td>13     </td><td>no     </td><td>6.83841</td><td>0      </td></tr>\n",
       "\t<tr><td>11     </td><td>49     </td><td>yes    </td><td>1      </td><td>no     </td><td>yes    </td><td>yes    </td><td>male   </td><td>yes    </td><td>13     </td><td>no     </td><td>6.86797</td><td>0      </td></tr>\n",
       "\t<tr><td>12     </td><td>47     </td><td>yes    </td><td>1      </td><td>no     </td><td>yes    </td><td>yes    </td><td>male   </td><td>yes    </td><td>13     </td><td>no     </td><td>7.06133</td><td>0      </td></tr>\n",
       "\t<tr><td>10     </td><td>39     </td><td>yes    </td><td>0      </td><td>yes    </td><td>no     </td><td>no     </td><td>male   </td><td>no     </td><td> 8     </td><td>yes    </td><td>5.29832</td><td>1      </td></tr>\n",
       "\t<tr><td>11     </td><td>48     </td><td>yes    </td><td>0      </td><td>yes    </td><td>no     </td><td>no     </td><td>male   </td><td>no     </td><td> 8     </td><td>yes    </td><td>5.41610</td><td>1      </td></tr>\n",
       "\t<tr><td>12     </td><td>40     </td><td>yes    </td><td>0      </td><td>yes    </td><td>no     </td><td>no     </td><td>male   </td><td>no     </td><td> 8     </td><td>yes    </td><td>5.41610</td><td>1      </td></tr>\n",
       "\t<tr><td>13     </td><td>29     </td><td>yes    </td><td>0      </td><td>yes    </td><td>no     </td><td>no     </td><td>male   </td><td>no     </td><td> 8     </td><td>yes    </td><td>5.41610</td><td>1      </td></tr>\n",
       "\t<tr><td>14     </td><td>40     </td><td>yes    </td><td>0      </td><td>yes    </td><td>no     </td><td>no     </td><td>male   </td><td>no     </td><td> 8     </td><td>yes    </td><td>5.70378</td><td>1      </td></tr>\n",
       "\t<tr><td>15     </td><td>48     </td><td>yes    </td><td>0      </td><td>yes    </td><td>no     </td><td>no     </td><td>male   </td><td>no     </td><td> 8     </td><td>yes    </td><td>5.70378</td><td>1      </td></tr>\n",
       "\t<tr><td>16     </td><td>40     </td><td>yes    </td><td>0      </td><td>yes    </td><td>no     </td><td>no     </td><td>male   </td><td>no     </td><td> 8     </td><td>yes    </td><td>5.67675</td><td>1      </td></tr>\n",
       "\t<tr><td> 7     </td><td>49     </td><td>yes    </td><td>1      </td><td>no     </td><td>yes    </td><td>yes    </td><td>male   </td><td>yes    </td><td>12     </td><td>no     </td><td>6.42487</td><td>0      </td></tr>\n",
       "\t<tr><td> 8     </td><td>48     </td><td>yes    </td><td>1      </td><td>no     </td><td>yes    </td><td>yes    </td><td>male   </td><td>yes    </td><td>12     </td><td>no     </td><td>6.48004</td><td>0      </td></tr>\n",
       "\t<tr><td> 9     </td><td>48     </td><td>yes    </td><td>1      </td><td>no     </td><td>yes    </td><td>yes    </td><td>male   </td><td>yes    </td><td>12     </td><td>no     </td><td>6.57368</td><td>0      </td></tr>\n",
       "\t<tr><td>10     </td><td>48     </td><td>yes    </td><td>1      </td><td>no     </td><td>yes    </td><td>yes    </td><td>male   </td><td>yes    </td><td>12     </td><td>no     </td><td>6.69084</td><td>0      </td></tr>\n",
       "\t<tr><td>11     </td><td>45     </td><td>yes    </td><td>1      </td><td>no     </td><td>yes    </td><td>yes    </td><td>male   </td><td>yes    </td><td>12     </td><td>no     </td><td>6.78672</td><td>0      </td></tr>\n",
       "\t<tr><td>12     </td><td>49     </td><td>yes    </td><td>1      </td><td>no     </td><td>yes    </td><td>yes    </td><td>male   </td><td>yes    </td><td>12     </td><td>no     </td><td>6.91968</td><td>0      </td></tr>\n",
       "\t<tr><td>13     </td><td>47     </td><td>yes    </td><td>1      </td><td>no     </td><td>yes    </td><td>yes    </td><td>male   </td><td>yes    </td><td>12     </td><td>no     </td><td>7.04752</td><td>0      </td></tr>\n",
       "\t<tr><td> 1     </td><td>52     </td><td>no     </td><td>0      </td><td>no     </td><td>yes    </td><td>no     </td><td>female </td><td>no     </td><td>12     </td><td>no     </td><td>5.68698</td><td>0      </td></tr>\n",
       "\t<tr><td> 2     </td><td>50     </td><td>no     </td><td>0      </td><td>no     </td><td>yes    </td><td>no     </td><td>female </td><td>no     </td><td>12     </td><td>no     </td><td>5.85793</td><td>0      </td></tr>\n",
       "\t<tr><td> 3     </td><td>50     </td><td>no     </td><td>0      </td><td>no     </td><td>yes    </td><td>no     </td><td>female </td><td>no     </td><td>12     </td><td>no     </td><td>5.95324</td><td>0      </td></tr>\n",
       "\t<tr><td> 4     </td><td>49     </td><td>no     </td><td>0      </td><td>no     </td><td>yes    </td><td>no     </td><td>female </td><td>no     </td><td>12     </td><td>no     </td><td>6.06379</td><td>0      </td></tr>\n",
       "\t<tr><td> 5     </td><td>50     </td><td>no     </td><td>0      </td><td>no     </td><td>yes    </td><td>no     </td><td>female </td><td>no     </td><td>12     </td><td>no     </td><td>6.21461</td><td>0      </td></tr>\n",
       "\t<tr><td> 6     </td><td>50     </td><td>no     </td><td>0      </td><td>no     </td><td>yes    </td><td>no     </td><td>female </td><td>no     </td><td>12     </td><td>no     </td><td>6.29157</td><td>0      </td></tr>\n",
       "\t<tr><td> 7     </td><td>50     </td><td>no     </td><td>0      </td><td>no     </td><td>yes    </td><td>no     </td><td>female </td><td>no     </td><td>12     </td><td>no     </td><td>6.37161</td><td>0      </td></tr>\n",
       "</tbody>\n",
       "</table>\n"
      ],
      "text/latex": [
       "\\begin{tabular}{r|lllllllllllll}\n",
       " exp & wks & bluecol & ind & south & smsa & married & sex & union & ed & black & lwage & ifsouth\\\\\n",
       "\\hline\n",
       "\t  3      & 32      & no      & 0       & yes     & no      & yes     & male    & no      &  9      & no      & 5.56068 & 1      \\\\\n",
       "\t  4      & 43      & no      & 0       & yes     & no      & yes     & male    & no      &  9      & no      & 5.72031 & 1      \\\\\n",
       "\t  5      & 40      & no      & 0       & yes     & no      & yes     & male    & no      &  9      & no      & 5.99645 & 1      \\\\\n",
       "\t  6      & 39      & no      & 0       & yes     & no      & yes     & male    & no      &  9      & no      & 5.99645 & 1      \\\\\n",
       "\t  7      & 42      & no      & 1       & yes     & no      & yes     & male    & no      &  9      & no      & 6.06146 & 1      \\\\\n",
       "\t  8      & 35      & no      & 1       & yes     & no      & yes     & male    & no      &  9      & no      & 6.17379 & 1      \\\\\n",
       "\t  9      & 32      & no      & 1       & yes     & no      & yes     & male    & no      &  9      & no      & 6.24417 & 1      \\\\\n",
       "\t 30      & 34      & yes     & 0       & no      & no      & yes     & male    & no      & 11      & no      & 6.16331 & 0      \\\\\n",
       "\t 31      & 27      & yes     & 0       & no      & no      & yes     & male    & no      & 11      & no      & 6.21461 & 0      \\\\\n",
       "\t 32      & 33      & yes     & 1       & no      & no      & yes     & male    & yes     & 11      & no      & 6.26340 & 0      \\\\\n",
       "\t 33      & 30      & yes     & 1       & no      & no      & yes     & male    & no      & 11      & no      & 6.54391 & 0      \\\\\n",
       "\t 34      & 30      & yes     & 1       & no      & no      & yes     & male    & no      & 11      & no      & 6.69703 & 0      \\\\\n",
       "\t 35      & 37      & yes     & 1       & no      & no      & yes     & male    & no      & 11      & no      & 6.79122 & 0      \\\\\n",
       "\t 36      & 30      & yes     & 1       & no      & no      & yes     & male    & no      & 11      & no      & 6.81564 & 0      \\\\\n",
       "\t  6      & 50      & yes     & 1       & no      & no      & yes     & male    & yes     & 12      & no      & 5.65249 & 0      \\\\\n",
       "\t  7      & 51      & yes     & 1       & no      & no      & yes     & male    & yes     & 12      & no      & 6.43615 & 0      \\\\\n",
       "\t  8      & 50      & yes     & 1       & no      & no      & yes     & male    & yes     & 12      & no      & 6.54822 & 0      \\\\\n",
       "\t  9      & 52      & yes     & 1       & no      & no      & yes     & male    & yes     & 12      & no      & 6.60259 & 0      \\\\\n",
       "\t 10      & 52      & yes     & 1       & no      & no      & yes     & male    & yes     & 12      & no      & 6.69580 & 0      \\\\\n",
       "\t 11      & 52      & yes     & 1       & no      & no      & no      & male    & yes     & 12      & no      & 6.77878 & 0      \\\\\n",
       "\t 12      & 46      & yes     & 1       & no      & no      & no      & male    & yes     & 12      & no      & 6.86066 & 0      \\\\\n",
       "\t 31      & 52      & yes     & 0       & no      & yes     & no      & female  & no      & 10      & yes     & 6.15698 & 0      \\\\\n",
       "\t 32      & 46      & yes     & 0       & no      & yes     & no      & female  & no      & 10      & yes     & 6.23832 & 0      \\\\\n",
       "\t 33      & 46      & yes     & 0       & no      & yes     & no      & female  & no      & 10      & yes     & 6.30079 & 0      \\\\\n",
       "\t 34      & 49      & yes     & 0       & no      & yes     & no      & female  & no      & 10      & yes     & 6.35957 & 0      \\\\\n",
       "\t 35      & 44      & yes     & 0       & no      & yes     & no      & female  & no      & 10      & yes     & 6.46925 & 0      \\\\\n",
       "\t 36      & 52      & yes     & 0       & no      & yes     & no      & female  & no      & 10      & yes     & 6.56244 & 0      \\\\\n",
       "\t 37      & 46      & yes     & 0       & no      & yes     & no      & female  & no      & 10      & yes     & 6.62141 & 0      \\\\\n",
       "\t 10      & 50      & yes     & 0       & no      & no      & yes     & male    & yes     & 16      & no      & 6.43775 & 0      \\\\\n",
       "\t 11      & 46      & yes     & 0       & no      & no      & yes     & male    & yes     & 16      & no      & 6.62007 & 0      \\\\\n",
       "\t ... & ... & ... & ... & ... & ... & ... & ... & ... & ... & ... & ... & ...\\\\\n",
       "\t 39      & 45      & yes     & 1       & no      & yes     & yes     & male    & yes     &  8      & no      & 6.85646 & 0      \\\\\n",
       "\t 40      & 46      & yes     & 1       & no      & yes     & yes     & male    & yes     &  8      & no      & 6.85646 & 0      \\\\\n",
       "\t  6      & 15      & yes     & 1       & no      & yes     & yes     & male    & yes     & 13      & no      & 6.49979 & 0      \\\\\n",
       "\t  7      & 47      & yes     & 1       & no      & yes     & yes     & male    & no      & 13      & no      & 6.51619 & 0      \\\\\n",
       "\t  8      & 49      & yes     & 1       & no      & yes     & yes     & male    & yes     & 13      & no      & 6.65157 & 0      \\\\\n",
       "\t  9      & 47      & yes     & 1       & no      & yes     & yes     & male    & yes     & 13      & no      & 6.76849 & 0      \\\\\n",
       "\t 10      & 50      & yes     & 1       & no      & yes     & yes     & male    & yes     & 13      & no      & 6.83841 & 0      \\\\\n",
       "\t 11      & 49      & yes     & 1       & no      & yes     & yes     & male    & yes     & 13      & no      & 6.86797 & 0      \\\\\n",
       "\t 12      & 47      & yes     & 1       & no      & yes     & yes     & male    & yes     & 13      & no      & 7.06133 & 0      \\\\\n",
       "\t 10      & 39      & yes     & 0       & yes     & no      & no      & male    & no      &  8      & yes     & 5.29832 & 1      \\\\\n",
       "\t 11      & 48      & yes     & 0       & yes     & no      & no      & male    & no      &  8      & yes     & 5.41610 & 1      \\\\\n",
       "\t 12      & 40      & yes     & 0       & yes     & no      & no      & male    & no      &  8      & yes     & 5.41610 & 1      \\\\\n",
       "\t 13      & 29      & yes     & 0       & yes     & no      & no      & male    & no      &  8      & yes     & 5.41610 & 1      \\\\\n",
       "\t 14      & 40      & yes     & 0       & yes     & no      & no      & male    & no      &  8      & yes     & 5.70378 & 1      \\\\\n",
       "\t 15      & 48      & yes     & 0       & yes     & no      & no      & male    & no      &  8      & yes     & 5.70378 & 1      \\\\\n",
       "\t 16      & 40      & yes     & 0       & yes     & no      & no      & male    & no      &  8      & yes     & 5.67675 & 1      \\\\\n",
       "\t  7      & 49      & yes     & 1       & no      & yes     & yes     & male    & yes     & 12      & no      & 6.42487 & 0      \\\\\n",
       "\t  8      & 48      & yes     & 1       & no      & yes     & yes     & male    & yes     & 12      & no      & 6.48004 & 0      \\\\\n",
       "\t  9      & 48      & yes     & 1       & no      & yes     & yes     & male    & yes     & 12      & no      & 6.57368 & 0      \\\\\n",
       "\t 10      & 48      & yes     & 1       & no      & yes     & yes     & male    & yes     & 12      & no      & 6.69084 & 0      \\\\\n",
       "\t 11      & 45      & yes     & 1       & no      & yes     & yes     & male    & yes     & 12      & no      & 6.78672 & 0      \\\\\n",
       "\t 12      & 49      & yes     & 1       & no      & yes     & yes     & male    & yes     & 12      & no      & 6.91968 & 0      \\\\\n",
       "\t 13      & 47      & yes     & 1       & no      & yes     & yes     & male    & yes     & 12      & no      & 7.04752 & 0      \\\\\n",
       "\t  1      & 52      & no      & 0       & no      & yes     & no      & female  & no      & 12      & no      & 5.68698 & 0      \\\\\n",
       "\t  2      & 50      & no      & 0       & no      & yes     & no      & female  & no      & 12      & no      & 5.85793 & 0      \\\\\n",
       "\t  3      & 50      & no      & 0       & no      & yes     & no      & female  & no      & 12      & no      & 5.95324 & 0      \\\\\n",
       "\t  4      & 49      & no      & 0       & no      & yes     & no      & female  & no      & 12      & no      & 6.06379 & 0      \\\\\n",
       "\t  5      & 50      & no      & 0       & no      & yes     & no      & female  & no      & 12      & no      & 6.21461 & 0      \\\\\n",
       "\t  6      & 50      & no      & 0       & no      & yes     & no      & female  & no      & 12      & no      & 6.29157 & 0      \\\\\n",
       "\t  7      & 50      & no      & 0       & no      & yes     & no      & female  & no      & 12      & no      & 6.37161 & 0      \\\\\n",
       "\\end{tabular}\n"
      ],
      "text/markdown": [
       "\n",
       "| exp | wks | bluecol | ind | south | smsa | married | sex | union | ed | black | lwage | ifsouth |\n",
       "|---|---|---|---|---|---|---|---|---|---|---|---|---|\n",
       "|  3      | 32      | no      | 0       | yes     | no      | yes     | male    | no      |  9      | no      | 5.56068 | 1       |\n",
       "|  4      | 43      | no      | 0       | yes     | no      | yes     | male    | no      |  9      | no      | 5.72031 | 1       |\n",
       "|  5      | 40      | no      | 0       | yes     | no      | yes     | male    | no      |  9      | no      | 5.99645 | 1       |\n",
       "|  6      | 39      | no      | 0       | yes     | no      | yes     | male    | no      |  9      | no      | 5.99645 | 1       |\n",
       "|  7      | 42      | no      | 1       | yes     | no      | yes     | male    | no      |  9      | no      | 6.06146 | 1       |\n",
       "|  8      | 35      | no      | 1       | yes     | no      | yes     | male    | no      |  9      | no      | 6.17379 | 1       |\n",
       "|  9      | 32      | no      | 1       | yes     | no      | yes     | male    | no      |  9      | no      | 6.24417 | 1       |\n",
       "| 30      | 34      | yes     | 0       | no      | no      | yes     | male    | no      | 11      | no      | 6.16331 | 0       |\n",
       "| 31      | 27      | yes     | 0       | no      | no      | yes     | male    | no      | 11      | no      | 6.21461 | 0       |\n",
       "| 32      | 33      | yes     | 1       | no      | no      | yes     | male    | yes     | 11      | no      | 6.26340 | 0       |\n",
       "| 33      | 30      | yes     | 1       | no      | no      | yes     | male    | no      | 11      | no      | 6.54391 | 0       |\n",
       "| 34      | 30      | yes     | 1       | no      | no      | yes     | male    | no      | 11      | no      | 6.69703 | 0       |\n",
       "| 35      | 37      | yes     | 1       | no      | no      | yes     | male    | no      | 11      | no      | 6.79122 | 0       |\n",
       "| 36      | 30      | yes     | 1       | no      | no      | yes     | male    | no      | 11      | no      | 6.81564 | 0       |\n",
       "|  6      | 50      | yes     | 1       | no      | no      | yes     | male    | yes     | 12      | no      | 5.65249 | 0       |\n",
       "|  7      | 51      | yes     | 1       | no      | no      | yes     | male    | yes     | 12      | no      | 6.43615 | 0       |\n",
       "|  8      | 50      | yes     | 1       | no      | no      | yes     | male    | yes     | 12      | no      | 6.54822 | 0       |\n",
       "|  9      | 52      | yes     | 1       | no      | no      | yes     | male    | yes     | 12      | no      | 6.60259 | 0       |\n",
       "| 10      | 52      | yes     | 1       | no      | no      | yes     | male    | yes     | 12      | no      | 6.69580 | 0       |\n",
       "| 11      | 52      | yes     | 1       | no      | no      | no      | male    | yes     | 12      | no      | 6.77878 | 0       |\n",
       "| 12      | 46      | yes     | 1       | no      | no      | no      | male    | yes     | 12      | no      | 6.86066 | 0       |\n",
       "| 31      | 52      | yes     | 0       | no      | yes     | no      | female  | no      | 10      | yes     | 6.15698 | 0       |\n",
       "| 32      | 46      | yes     | 0       | no      | yes     | no      | female  | no      | 10      | yes     | 6.23832 | 0       |\n",
       "| 33      | 46      | yes     | 0       | no      | yes     | no      | female  | no      | 10      | yes     | 6.30079 | 0       |\n",
       "| 34      | 49      | yes     | 0       | no      | yes     | no      | female  | no      | 10      | yes     | 6.35957 | 0       |\n",
       "| 35      | 44      | yes     | 0       | no      | yes     | no      | female  | no      | 10      | yes     | 6.46925 | 0       |\n",
       "| 36      | 52      | yes     | 0       | no      | yes     | no      | female  | no      | 10      | yes     | 6.56244 | 0       |\n",
       "| 37      | 46      | yes     | 0       | no      | yes     | no      | female  | no      | 10      | yes     | 6.62141 | 0       |\n",
       "| 10      | 50      | yes     | 0       | no      | no      | yes     | male    | yes     | 16      | no      | 6.43775 | 0       |\n",
       "| 11      | 46      | yes     | 0       | no      | no      | yes     | male    | yes     | 16      | no      | 6.62007 | 0       |\n",
       "| ... | ... | ... | ... | ... | ... | ... | ... | ... | ... | ... | ... | ... |\n",
       "| 39      | 45      | yes     | 1       | no      | yes     | yes     | male    | yes     |  8      | no      | 6.85646 | 0       |\n",
       "| 40      | 46      | yes     | 1       | no      | yes     | yes     | male    | yes     |  8      | no      | 6.85646 | 0       |\n",
       "|  6      | 15      | yes     | 1       | no      | yes     | yes     | male    | yes     | 13      | no      | 6.49979 | 0       |\n",
       "|  7      | 47      | yes     | 1       | no      | yes     | yes     | male    | no      | 13      | no      | 6.51619 | 0       |\n",
       "|  8      | 49      | yes     | 1       | no      | yes     | yes     | male    | yes     | 13      | no      | 6.65157 | 0       |\n",
       "|  9      | 47      | yes     | 1       | no      | yes     | yes     | male    | yes     | 13      | no      | 6.76849 | 0       |\n",
       "| 10      | 50      | yes     | 1       | no      | yes     | yes     | male    | yes     | 13      | no      | 6.83841 | 0       |\n",
       "| 11      | 49      | yes     | 1       | no      | yes     | yes     | male    | yes     | 13      | no      | 6.86797 | 0       |\n",
       "| 12      | 47      | yes     | 1       | no      | yes     | yes     | male    | yes     | 13      | no      | 7.06133 | 0       |\n",
       "| 10      | 39      | yes     | 0       | yes     | no      | no      | male    | no      |  8      | yes     | 5.29832 | 1       |\n",
       "| 11      | 48      | yes     | 0       | yes     | no      | no      | male    | no      |  8      | yes     | 5.41610 | 1       |\n",
       "| 12      | 40      | yes     | 0       | yes     | no      | no      | male    | no      |  8      | yes     | 5.41610 | 1       |\n",
       "| 13      | 29      | yes     | 0       | yes     | no      | no      | male    | no      |  8      | yes     | 5.41610 | 1       |\n",
       "| 14      | 40      | yes     | 0       | yes     | no      | no      | male    | no      |  8      | yes     | 5.70378 | 1       |\n",
       "| 15      | 48      | yes     | 0       | yes     | no      | no      | male    | no      |  8      | yes     | 5.70378 | 1       |\n",
       "| 16      | 40      | yes     | 0       | yes     | no      | no      | male    | no      |  8      | yes     | 5.67675 | 1       |\n",
       "|  7      | 49      | yes     | 1       | no      | yes     | yes     | male    | yes     | 12      | no      | 6.42487 | 0       |\n",
       "|  8      | 48      | yes     | 1       | no      | yes     | yes     | male    | yes     | 12      | no      | 6.48004 | 0       |\n",
       "|  9      | 48      | yes     | 1       | no      | yes     | yes     | male    | yes     | 12      | no      | 6.57368 | 0       |\n",
       "| 10      | 48      | yes     | 1       | no      | yes     | yes     | male    | yes     | 12      | no      | 6.69084 | 0       |\n",
       "| 11      | 45      | yes     | 1       | no      | yes     | yes     | male    | yes     | 12      | no      | 6.78672 | 0       |\n",
       "| 12      | 49      | yes     | 1       | no      | yes     | yes     | male    | yes     | 12      | no      | 6.91968 | 0       |\n",
       "| 13      | 47      | yes     | 1       | no      | yes     | yes     | male    | yes     | 12      | no      | 7.04752 | 0       |\n",
       "|  1      | 52      | no      | 0       | no      | yes     | no      | female  | no      | 12      | no      | 5.68698 | 0       |\n",
       "|  2      | 50      | no      | 0       | no      | yes     | no      | female  | no      | 12      | no      | 5.85793 | 0       |\n",
       "|  3      | 50      | no      | 0       | no      | yes     | no      | female  | no      | 12      | no      | 5.95324 | 0       |\n",
       "|  4      | 49      | no      | 0       | no      | yes     | no      | female  | no      | 12      | no      | 6.06379 | 0       |\n",
       "|  5      | 50      | no      | 0       | no      | yes     | no      | female  | no      | 12      | no      | 6.21461 | 0       |\n",
       "|  6      | 50      | no      | 0       | no      | yes     | no      | female  | no      | 12      | no      | 6.29157 | 0       |\n",
       "|  7      | 50      | no      | 0       | no      | yes     | no      | female  | no      | 12      | no      | 6.37161 | 0       |\n",
       "\n"
      ],
      "text/plain": [
       "     exp wks bluecol ind south smsa married sex    union ed  black lwage  \n",
       "1     3  32  no      0   yes   no   yes     male   no     9  no    5.56068\n",
       "2     4  43  no      0   yes   no   yes     male   no     9  no    5.72031\n",
       "3     5  40  no      0   yes   no   yes     male   no     9  no    5.99645\n",
       "4     6  39  no      0   yes   no   yes     male   no     9  no    5.99645\n",
       "5     7  42  no      1   yes   no   yes     male   no     9  no    6.06146\n",
       "6     8  35  no      1   yes   no   yes     male   no     9  no    6.17379\n",
       "7     9  32  no      1   yes   no   yes     male   no     9  no    6.24417\n",
       "8    30  34  yes     0   no    no   yes     male   no    11  no    6.16331\n",
       "9    31  27  yes     0   no    no   yes     male   no    11  no    6.21461\n",
       "10   32  33  yes     1   no    no   yes     male   yes   11  no    6.26340\n",
       "11   33  30  yes     1   no    no   yes     male   no    11  no    6.54391\n",
       "12   34  30  yes     1   no    no   yes     male   no    11  no    6.69703\n",
       "13   35  37  yes     1   no    no   yes     male   no    11  no    6.79122\n",
       "14   36  30  yes     1   no    no   yes     male   no    11  no    6.81564\n",
       "15    6  50  yes     1   no    no   yes     male   yes   12  no    5.65249\n",
       "16    7  51  yes     1   no    no   yes     male   yes   12  no    6.43615\n",
       "17    8  50  yes     1   no    no   yes     male   yes   12  no    6.54822\n",
       "18    9  52  yes     1   no    no   yes     male   yes   12  no    6.60259\n",
       "19   10  52  yes     1   no    no   yes     male   yes   12  no    6.69580\n",
       "20   11  52  yes     1   no    no   no      male   yes   12  no    6.77878\n",
       "21   12  46  yes     1   no    no   no      male   yes   12  no    6.86066\n",
       "22   31  52  yes     0   no    yes  no      female no    10  yes   6.15698\n",
       "23   32  46  yes     0   no    yes  no      female no    10  yes   6.23832\n",
       "24   33  46  yes     0   no    yes  no      female no    10  yes   6.30079\n",
       "25   34  49  yes     0   no    yes  no      female no    10  yes   6.35957\n",
       "26   35  44  yes     0   no    yes  no      female no    10  yes   6.46925\n",
       "27   36  52  yes     0   no    yes  no      female no    10  yes   6.56244\n",
       "28   37  46  yes     0   no    yes  no      female no    10  yes   6.62141\n",
       "29   10  50  yes     0   no    no   yes     male   yes   16  no    6.43775\n",
       "30   11  46  yes     0   no    no   yes     male   yes   16  no    6.62007\n",
       "...  ... ... ...     ... ...   ...  ...     ...    ...   ... ...   ...    \n",
       "4136 39  45  yes     1   no    yes  yes     male   yes    8  no    6.85646\n",
       "4137 40  46  yes     1   no    yes  yes     male   yes    8  no    6.85646\n",
       "4138  6  15  yes     1   no    yes  yes     male   yes   13  no    6.49979\n",
       "4139  7  47  yes     1   no    yes  yes     male   no    13  no    6.51619\n",
       "4140  8  49  yes     1   no    yes  yes     male   yes   13  no    6.65157\n",
       "4141  9  47  yes     1   no    yes  yes     male   yes   13  no    6.76849\n",
       "4142 10  50  yes     1   no    yes  yes     male   yes   13  no    6.83841\n",
       "4143 11  49  yes     1   no    yes  yes     male   yes   13  no    6.86797\n",
       "4144 12  47  yes     1   no    yes  yes     male   yes   13  no    7.06133\n",
       "4145 10  39  yes     0   yes   no   no      male   no     8  yes   5.29832\n",
       "4146 11  48  yes     0   yes   no   no      male   no     8  yes   5.41610\n",
       "4147 12  40  yes     0   yes   no   no      male   no     8  yes   5.41610\n",
       "4148 13  29  yes     0   yes   no   no      male   no     8  yes   5.41610\n",
       "4149 14  40  yes     0   yes   no   no      male   no     8  yes   5.70378\n",
       "4150 15  48  yes     0   yes   no   no      male   no     8  yes   5.70378\n",
       "4151 16  40  yes     0   yes   no   no      male   no     8  yes   5.67675\n",
       "4152  7  49  yes     1   no    yes  yes     male   yes   12  no    6.42487\n",
       "4153  8  48  yes     1   no    yes  yes     male   yes   12  no    6.48004\n",
       "4154  9  48  yes     1   no    yes  yes     male   yes   12  no    6.57368\n",
       "4155 10  48  yes     1   no    yes  yes     male   yes   12  no    6.69084\n",
       "4156 11  45  yes     1   no    yes  yes     male   yes   12  no    6.78672\n",
       "4157 12  49  yes     1   no    yes  yes     male   yes   12  no    6.91968\n",
       "4158 13  47  yes     1   no    yes  yes     male   yes   12  no    7.04752\n",
       "4159  1  52  no      0   no    yes  no      female no    12  no    5.68698\n",
       "4160  2  50  no      0   no    yes  no      female no    12  no    5.85793\n",
       "4161  3  50  no      0   no    yes  no      female no    12  no    5.95324\n",
       "4162  4  49  no      0   no    yes  no      female no    12  no    6.06379\n",
       "4163  5  50  no      0   no    yes  no      female no    12  no    6.21461\n",
       "4164  6  50  no      0   no    yes  no      female no    12  no    6.29157\n",
       "4165  7  50  no      0   no    yes  no      female no    12  no    6.37161\n",
       "     ifsouth\n",
       "1    1      \n",
       "2    1      \n",
       "3    1      \n",
       "4    1      \n",
       "5    1      \n",
       "6    1      \n",
       "7    1      \n",
       "8    0      \n",
       "9    0      \n",
       "10   0      \n",
       "11   0      \n",
       "12   0      \n",
       "13   0      \n",
       "14   0      \n",
       "15   0      \n",
       "16   0      \n",
       "17   0      \n",
       "18   0      \n",
       "19   0      \n",
       "20   0      \n",
       "21   0      \n",
       "22   0      \n",
       "23   0      \n",
       "24   0      \n",
       "25   0      \n",
       "26   0      \n",
       "27   0      \n",
       "28   0      \n",
       "29   0      \n",
       "30   0      \n",
       "...  ...    \n",
       "4136 0      \n",
       "4137 0      \n",
       "4138 0      \n",
       "4139 0      \n",
       "4140 0      \n",
       "4141 0      \n",
       "4142 0      \n",
       "4143 0      \n",
       "4144 0      \n",
       "4145 1      \n",
       "4146 1      \n",
       "4147 1      \n",
       "4148 1      \n",
       "4149 1      \n",
       "4150 1      \n",
       "4151 1      \n",
       "4152 0      \n",
       "4153 0      \n",
       "4154 0      \n",
       "4155 0      \n",
       "4156 0      \n",
       "4157 0      \n",
       "4158 0      \n",
       "4159 0      \n",
       "4160 0      \n",
       "4161 0      \n",
       "4162 0      \n",
       "4163 0      \n",
       "4164 0      \n",
       "4165 0      "
      ]
     },
     "metadata": {},
     "output_type": "display_data"
    }
   ],
   "source": [
    "WagesTemp"
   ]
  },
  {
   "cell_type": "code",
   "execution_count": 126,
   "metadata": {},
   "outputs": [],
   "source": [
    "model1 = lm(lwage~ifsouth, data=WagesTemp)"
   ]
  },
  {
   "cell_type": "code",
   "execution_count": 127,
   "metadata": {},
   "outputs": [
    {
     "data": {
      "text/plain": [
       "\n",
       "Call:\n",
       "lm(formula = lwage ~ ifsouth, data = WagesTemp)\n",
       "\n",
       "Residuals:\n",
       "     Min       1Q   Median       3Q      Max \n",
       "-1.94100 -0.28546  0.01565  0.27348  1.97102 \n",
       "\n",
       "Coefficients:\n",
       "            Estimate Std. Error t value Pr(>|t|)    \n",
       "(Intercept)  6.72959    0.00835  805.92   <2e-16 ***\n",
       "ifsouth     -0.18342    0.01550  -11.84   <2e-16 ***\n",
       "---\n",
       "Signif. codes:  0 ‘***’ 0.001 ‘**’ 0.01 ‘*’ 0.05 ‘.’ 0.1 ‘ ’ 1\n",
       "\n",
       "Residual standard error: 0.454 on 4163 degrees of freedom\n",
       "Multiple R-squared:  0.03255,\tAdjusted R-squared:  0.03232 \n",
       "F-statistic: 140.1 on 1 and 4163 DF,  p-value: < 2.2e-16\n"
      ]
     },
     "metadata": {},
     "output_type": "display_data"
    }
   ],
   "source": [
    "summary(model1)"
   ]
  },
  {
   "cell_type": "code",
   "execution_count": 128,
   "metadata": {},
   "outputs": [
    {
     "data": {
      "text/html": [
       "<table>\n",
       "<thead><tr><th></th><th scope=col>Private</th><th scope=col>Apps</th><th scope=col>Accept</th><th scope=col>Enroll</th><th scope=col>Top10perc</th><th scope=col>Top25perc</th><th scope=col>F.Undergrad</th><th scope=col>P.Undergrad</th><th scope=col>Outstate</th><th scope=col>Room.Board</th><th scope=col>Books</th><th scope=col>Personal</th><th scope=col>PhD</th><th scope=col>Terminal</th><th scope=col>S.F.Ratio</th><th scope=col>perc.alumni</th><th scope=col>Expend</th><th scope=col>Grad.Rate</th></tr></thead>\n",
       "<tbody>\n",
       "\t<tr><th scope=row>Abilene Christian University</th><td>Yes  </td><td>1660 </td><td>1232 </td><td>721  </td><td>23   </td><td>52   </td><td>2885 </td><td> 537 </td><td> 7440</td><td>3300 </td><td>450  </td><td>2200 </td><td>70   </td><td>78   </td><td>18.1 </td><td>12   </td><td> 7041</td><td>60   </td></tr>\n",
       "\t<tr><th scope=row>Adelphi University</th><td>Yes  </td><td>2186 </td><td>1924 </td><td>512  </td><td>16   </td><td>29   </td><td>2683 </td><td>1227 </td><td>12280</td><td>6450 </td><td>750  </td><td>1500 </td><td>29   </td><td>30   </td><td>12.2 </td><td>16   </td><td>10527</td><td>56   </td></tr>\n",
       "\t<tr><th scope=row>Adrian College</th><td>Yes  </td><td>1428 </td><td>1097 </td><td>336  </td><td>22   </td><td>50   </td><td>1036 </td><td>  99 </td><td>11250</td><td>3750 </td><td>400  </td><td>1165 </td><td>53   </td><td>66   </td><td>12.9 </td><td>30   </td><td> 8735</td><td>54   </td></tr>\n",
       "\t<tr><th scope=row>Agnes Scott College</th><td>Yes  </td><td> 417 </td><td> 349 </td><td>137  </td><td>60   </td><td>89   </td><td> 510 </td><td>  63 </td><td>12960</td><td>5450 </td><td>450  </td><td> 875 </td><td>92   </td><td>97   </td><td> 7.7 </td><td>37   </td><td>19016</td><td>59   </td></tr>\n",
       "\t<tr><th scope=row>Alaska Pacific University</th><td>Yes  </td><td> 193 </td><td> 146 </td><td> 55  </td><td>16   </td><td>44   </td><td> 249 </td><td> 869 </td><td> 7560</td><td>4120 </td><td>800  </td><td>1500 </td><td>76   </td><td>72   </td><td>11.9 </td><td> 2   </td><td>10922</td><td>15   </td></tr>\n",
       "\t<tr><th scope=row>Albertson College</th><td>Yes  </td><td> 587 </td><td> 479 </td><td>158  </td><td>38   </td><td>62   </td><td> 678 </td><td>  41 </td><td>13500</td><td>3335 </td><td>500  </td><td> 675 </td><td>67   </td><td>73   </td><td> 9.4 </td><td>11   </td><td> 9727</td><td>55   </td></tr>\n",
       "</tbody>\n",
       "</table>\n"
      ],
      "text/latex": [
       "\\begin{tabular}{r|llllllllllllllllll}\n",
       "  & Private & Apps & Accept & Enroll & Top10perc & Top25perc & F.Undergrad & P.Undergrad & Outstate & Room.Board & Books & Personal & PhD & Terminal & S.F.Ratio & perc.alumni & Expend & Grad.Rate\\\\\n",
       "\\hline\n",
       "\tAbilene Christian University & Yes   & 1660  & 1232  & 721   & 23    & 52    & 2885  &  537  &  7440 & 3300  & 450   & 2200  & 70    & 78    & 18.1  & 12    &  7041 & 60   \\\\\n",
       "\tAdelphi University & Yes   & 2186  & 1924  & 512   & 16    & 29    & 2683  & 1227  & 12280 & 6450  & 750   & 1500  & 29    & 30    & 12.2  & 16    & 10527 & 56   \\\\\n",
       "\tAdrian College & Yes   & 1428  & 1097  & 336   & 22    & 50    & 1036  &   99  & 11250 & 3750  & 400   & 1165  & 53    & 66    & 12.9  & 30    &  8735 & 54   \\\\\n",
       "\tAgnes Scott College & Yes   &  417  &  349  & 137   & 60    & 89    &  510  &   63  & 12960 & 5450  & 450   &  875  & 92    & 97    &  7.7  & 37    & 19016 & 59   \\\\\n",
       "\tAlaska Pacific University & Yes   &  193  &  146  &  55   & 16    & 44    &  249  &  869  &  7560 & 4120  & 800   & 1500  & 76    & 72    & 11.9  &  2    & 10922 & 15   \\\\\n",
       "\tAlbertson College & Yes   &  587  &  479  & 158   & 38    & 62    &  678  &   41  & 13500 & 3335  & 500   &  675  & 67    & 73    &  9.4  & 11    &  9727 & 55   \\\\\n",
       "\\end{tabular}\n"
      ],
      "text/markdown": [
       "\n",
       "| <!--/--> | Private | Apps | Accept | Enroll | Top10perc | Top25perc | F.Undergrad | P.Undergrad | Outstate | Room.Board | Books | Personal | PhD | Terminal | S.F.Ratio | perc.alumni | Expend | Grad.Rate |\n",
       "|---|---|---|---|---|---|---|---|---|---|---|---|---|---|---|---|---|---|---|\n",
       "| Abilene Christian University | Yes   | 1660  | 1232  | 721   | 23    | 52    | 2885  |  537  |  7440 | 3300  | 450   | 2200  | 70    | 78    | 18.1  | 12    |  7041 | 60    |\n",
       "| Adelphi University | Yes   | 2186  | 1924  | 512   | 16    | 29    | 2683  | 1227  | 12280 | 6450  | 750   | 1500  | 29    | 30    | 12.2  | 16    | 10527 | 56    |\n",
       "| Adrian College | Yes   | 1428  | 1097  | 336   | 22    | 50    | 1036  |   99  | 11250 | 3750  | 400   | 1165  | 53    | 66    | 12.9  | 30    |  8735 | 54    |\n",
       "| Agnes Scott College | Yes   |  417  |  349  | 137   | 60    | 89    |  510  |   63  | 12960 | 5450  | 450   |  875  | 92    | 97    |  7.7  | 37    | 19016 | 59    |\n",
       "| Alaska Pacific University | Yes   |  193  |  146  |  55   | 16    | 44    |  249  |  869  |  7560 | 4120  | 800   | 1500  | 76    | 72    | 11.9  |  2    | 10922 | 15    |\n",
       "| Albertson College | Yes   |  587  |  479  | 158   | 38    | 62    |  678  |   41  | 13500 | 3335  | 500   |  675  | 67    | 73    |  9.4  | 11    |  9727 | 55    |\n",
       "\n"
      ],
      "text/plain": [
       "                             Private Apps Accept Enroll Top10perc Top25perc\n",
       "Abilene Christian University Yes     1660 1232   721    23        52       \n",
       "Adelphi University           Yes     2186 1924   512    16        29       \n",
       "Adrian College               Yes     1428 1097   336    22        50       \n",
       "Agnes Scott College          Yes      417  349   137    60        89       \n",
       "Alaska Pacific University    Yes      193  146    55    16        44       \n",
       "Albertson College            Yes      587  479   158    38        62       \n",
       "                             F.Undergrad P.Undergrad Outstate Room.Board Books\n",
       "Abilene Christian University 2885         537         7440    3300       450  \n",
       "Adelphi University           2683        1227        12280    6450       750  \n",
       "Adrian College               1036          99        11250    3750       400  \n",
       "Agnes Scott College           510          63        12960    5450       450  \n",
       "Alaska Pacific University     249         869         7560    4120       800  \n",
       "Albertson College             678          41        13500    3335       500  \n",
       "                             Personal PhD Terminal S.F.Ratio perc.alumni Expend\n",
       "Abilene Christian University 2200     70  78       18.1      12           7041 \n",
       "Adelphi University           1500     29  30       12.2      16          10527 \n",
       "Adrian College               1165     53  66       12.9      30           8735 \n",
       "Agnes Scott College           875     92  97        7.7      37          19016 \n",
       "Alaska Pacific University    1500     76  72       11.9       2          10922 \n",
       "Albertson College             675     67  73        9.4      11           9727 \n",
       "                             Grad.Rate\n",
       "Abilene Christian University 60       \n",
       "Adelphi University           56       \n",
       "Adrian College               54       \n",
       "Agnes Scott College          59       \n",
       "Alaska Pacific University    15       \n",
       "Albertson College            55       "
      ]
     },
     "metadata": {},
     "output_type": "display_data"
    }
   ],
   "source": [
    "head(College)"
   ]
  },
  {
   "cell_type": "code",
   "execution_count": 129,
   "metadata": {},
   "outputs": [],
   "source": [
    "model2 = lm(Personal~Room.Board, data=College)"
   ]
  },
  {
   "cell_type": "code",
   "execution_count": 130,
   "metadata": {},
   "outputs": [
    {
     "data": {
      "text/plain": [
       "\n",
       "Call:\n",
       "lm(formula = Personal ~ Room.Board, data = College)\n",
       "\n",
       "Residuals:\n",
       "    Min      1Q  Median      3Q     Max \n",
       "-1153.1  -444.6   -92.3   316.0  5505.2 \n",
       "\n",
       "Coefficients:\n",
       "              Estimate Std. Error t value Pr(>|t|)    \n",
       "(Intercept) 1877.14827   97.64374  19.224  < 2e-16 ***\n",
       "Room.Board    -0.12312    0.02173  -5.666 2.06e-08 ***\n",
       "---\n",
       "Signif. codes:  0 ‘***’ 0.001 ‘**’ 0.01 ‘*’ 0.05 ‘.’ 0.1 ‘ ’ 1\n",
       "\n",
       "Residual standard error: 663.9 on 775 degrees of freedom\n",
       "Multiple R-squared:  0.03977,\tAdjusted R-squared:  0.03853 \n",
       "F-statistic:  32.1 on 1 and 775 DF,  p-value: 2.065e-08\n"
      ]
     },
     "metadata": {},
     "output_type": "display_data"
    }
   ],
   "source": [
    "summary(model2)"
   ]
  },
  {
   "cell_type": "code",
   "execution_count": 131,
   "metadata": {},
   "outputs": [],
   "source": [
    "model3 = lm(log(Personal)~log(Room.Board), data=College)\n",
    "model4 =lm(log(Personal)~Room.Board, data=College)\n",
    "model5 = lm(Personal~log(Room.Board), data=College)"
   ]
  },
  {
   "cell_type": "code",
   "execution_count": 132,
   "metadata": {},
   "outputs": [
    {
     "name": "stdout",
     "output_type": "stream",
     "text": [
      "\n",
      "=============================================================================\n",
      "                                            Dependent variable:              \n",
      "                               ----------------------------------------------\n",
      "                                 Personal      log(Personal)       Personal  \n",
      "                                   (1)         (2)       (3)         (4)     \n",
      "-----------------------------------------------------------------------------\n",
      "Room.Board                      -0.123***             -0.0001***             \n",
      "                                 (0.022)              (0.00002)              \n",
      "                                                                             \n",
      "log(Room.Board)                             -0.406***            -536.363*** \n",
      "                                             (0.067)               (93.933)  \n",
      "                                                                             \n",
      "Constant                       1,877.148*** 10.472***  7.485***  5,818.184***\n",
      "                                 (97.644)    (0.561)   (0.070)    (784.508)  \n",
      "                                                                             \n",
      "-----------------------------------------------------------------------------\n",
      "Observations                       777         777       777         777     \n",
      "R2                                0.040       0.045     0.043       0.040    \n",
      "Adjusted R2                       0.039       0.044     0.042       0.039    \n",
      "Residual Std. Error (df = 775)   663.899      0.475     0.475      663.691   \n",
      "F Statistic (df = 1; 775)       32.100***   36.424*** 34.858***   32.605***  \n",
      "=============================================================================\n",
      "Note:                                             *p<0.1; **p<0.05; ***p<0.01\n"
     ]
    }
   ],
   "source": [
    "stargazer(model2, model3, model4, model5, align = TRUE, type = \"text\", out = \"factorModelFull.html\")"
   ]
  },
  {
   "cell_type": "code",
   "execution_count": 133,
   "metadata": {},
   "outputs": [
    {
     "data": {
      "text/plain": [
       "\n",
       "Call:\n",
       "lm(formula = log(Personal) ~ log(Room.Board), data = College)\n",
       "\n",
       "Residuals:\n",
       "     Min       1Q   Median       3Q      Max \n",
       "-1.60098 -0.31047  0.03916  0.30663  1.78574 \n",
       "\n",
       "Coefficients:\n",
       "                Estimate Std. Error t value Pr(>|t|)    \n",
       "(Intercept)     10.47164    0.56140  18.653  < 2e-16 ***\n",
       "log(Room.Board) -0.40568    0.06722  -6.035 2.46e-09 ***\n",
       "---\n",
       "Signif. codes:  0 ‘***’ 0.001 ‘**’ 0.01 ‘*’ 0.05 ‘.’ 0.1 ‘ ’ 1\n",
       "\n",
       "Residual standard error: 0.4749 on 775 degrees of freedom\n",
       "Multiple R-squared:  0.04489,\tAdjusted R-squared:  0.04366 \n",
       "F-statistic: 36.42 on 1 and 775 DF,  p-value: 2.46e-09\n"
      ]
     },
     "metadata": {},
     "output_type": "display_data"
    },
    {
     "data": {
      "text/plain": [
       "\n",
       "Call:\n",
       "lm(formula = log(Personal) ~ Room.Board, data = College)\n",
       "\n",
       "Residuals:\n",
       "     Min       1Q   Median       3Q      Max \n",
       "-1.61024 -0.31235  0.03383  0.31037  1.77383 \n",
       "\n",
       "Coefficients:\n",
       "              Estimate Std. Error t value Pr(>|t|)    \n",
       "(Intercept)  7.485e+00  6.992e-02 107.057  < 2e-16 ***\n",
       "Room.Board  -9.187e-05  1.556e-05  -5.904  5.3e-09 ***\n",
       "---\n",
       "Signif. codes:  0 ‘***’ 0.001 ‘**’ 0.01 ‘*’ 0.05 ‘.’ 0.1 ‘ ’ 1\n",
       "\n",
       "Residual standard error: 0.4754 on 775 degrees of freedom\n",
       "Multiple R-squared:  0.04304,\tAdjusted R-squared:  0.04181 \n",
       "F-statistic: 34.86 on 1 and 775 DF,  p-value: 5.303e-09\n"
      ]
     },
     "metadata": {},
     "output_type": "display_data"
    },
    {
     "data": {
      "text/plain": [
       "\n",
       "Call:\n",
       "lm(formula = Personal ~ log(Room.Board), data = College)\n",
       "\n",
       "Residuals:\n",
       "    Min      1Q  Median      3Q     Max \n",
       "-1165.3  -442.5   -98.8   296.5  5520.4 \n",
       "\n",
       "Coefficients:\n",
       "                Estimate Std. Error t value Pr(>|t|)    \n",
       "(Intercept)      5818.18     784.51   7.416 3.16e-13 ***\n",
       "log(Room.Board)  -536.36      93.93  -5.710 1.61e-08 ***\n",
       "---\n",
       "Signif. codes:  0 ‘***’ 0.001 ‘**’ 0.01 ‘*’ 0.05 ‘.’ 0.1 ‘ ’ 1\n",
       "\n",
       "Residual standard error: 663.7 on 775 degrees of freedom\n",
       "Multiple R-squared:  0.04037,\tAdjusted R-squared:  0.03913 \n",
       "F-statistic: 32.61 on 1 and 775 DF,  p-value: 1.609e-08\n"
      ]
     },
     "metadata": {},
     "output_type": "display_data"
    }
   ],
   "source": [
    "summary(model3)\n",
    "summary(model4)\n",
    "summary(model5)"
   ]
  },
  {
   "cell_type": "code",
   "execution_count": 134,
   "metadata": {},
   "outputs": [
    {
     "data": {
      "text/html": [
       "<table>\n",
       "<thead><tr><th scope=col>admit</th><th scope=col>gre</th><th scope=col>gpa</th></tr></thead>\n",
       "<tbody>\n",
       "\t<tr><td>0   </td><td>380 </td><td>3.61</td></tr>\n",
       "\t<tr><td>1   </td><td>660 </td><td>3.67</td></tr>\n",
       "\t<tr><td>1   </td><td>800 </td><td>4.00</td></tr>\n",
       "\t<tr><td>1   </td><td>640 </td><td>3.19</td></tr>\n",
       "\t<tr><td>0   </td><td>520 </td><td>2.93</td></tr>\n",
       "\t<tr><td>1   </td><td>760 </td><td>3.00</td></tr>\n",
       "</tbody>\n",
       "</table>\n"
      ],
      "text/latex": [
       "\\begin{tabular}{r|lll}\n",
       " admit & gre & gpa\\\\\n",
       "\\hline\n",
       "\t 0    & 380  & 3.61\\\\\n",
       "\t 1    & 660  & 3.67\\\\\n",
       "\t 1    & 800  & 4.00\\\\\n",
       "\t 1    & 640  & 3.19\\\\\n",
       "\t 0    & 520  & 2.93\\\\\n",
       "\t 1    & 760  & 3.00\\\\\n",
       "\\end{tabular}\n"
      ],
      "text/markdown": [
       "\n",
       "| admit | gre | gpa |\n",
       "|---|---|---|\n",
       "| 0    | 380  | 3.61 |\n",
       "| 1    | 660  | 3.67 |\n",
       "| 1    | 800  | 4.00 |\n",
       "| 1    | 640  | 3.19 |\n",
       "| 0    | 520  | 2.93 |\n",
       "| 1    | 760  | 3.00 |\n",
       "\n"
      ],
      "text/plain": [
       "  admit gre gpa \n",
       "1 0     380 3.61\n",
       "2 1     660 3.67\n",
       "3 1     800 4.00\n",
       "4 1     640 3.19\n",
       "5 0     520 2.93\n",
       "6 1     760 3.00"
      ]
     },
     "metadata": {},
     "output_type": "display_data"
    }
   ],
   "source": [
    "data <- read.csv(\"binary.csv\")\n",
    "head(data)"
   ]
  },
  {
   "cell_type": "code",
   "execution_count": 135,
   "metadata": {},
   "outputs": [],
   "source": [
    "data$admit <- as.factor(data$admit)"
   ]
  },
  {
   "cell_type": "code",
   "execution_count": 136,
   "metadata": {
    "scrolled": false
   },
   "outputs": [
    {
     "data": {
      "text/plain": [
       "\n",
       "Call:\n",
       "glm(formula = admit ~ gre + gpa, family = \"binomial\", data = data)\n",
       "\n",
       "Deviance Residuals: \n",
       "    Min       1Q   Median       3Q      Max  \n",
       "-1.2730  -0.8988  -0.7206   1.3013   2.0620  \n",
       "\n",
       "Coefficients:\n",
       "             Estimate Std. Error z value Pr(>|z|)    \n",
       "(Intercept) -4.949378   1.075093  -4.604 4.15e-06 ***\n",
       "gre          0.002691   0.001057   2.544   0.0109 *  \n",
       "gpa          0.754687   0.319586   2.361   0.0182 *  \n",
       "---\n",
       "Signif. codes:  0 ‘***’ 0.001 ‘**’ 0.01 ‘*’ 0.05 ‘.’ 0.1 ‘ ’ 1\n",
       "\n",
       "(Dispersion parameter for binomial family taken to be 1)\n",
       "\n",
       "    Null deviance: 499.98  on 399  degrees of freedom\n",
       "Residual deviance: 480.34  on 397  degrees of freedom\n",
       "AIC: 486.34\n",
       "\n",
       "Number of Fisher Scoring iterations: 4\n"
      ]
     },
     "metadata": {},
     "output_type": "display_data"
    }
   ],
   "source": [
    "model6 <- glm(admit ~ gre+gpa , data = data, family = \"binomial\")\n",
    "summary(model6)"
   ]
  },
  {
   "cell_type": "code",
   "execution_count": 137,
   "metadata": {},
   "outputs": [
    {
     "data": {
      "text/html": [
       "<table>\n",
       "<thead><tr><th scope=col>admit</th><th scope=col>gre</th><th scope=col>gpa</th><th scope=col>pred_prob_model6</th><th scope=col>pred_outcome_model6</th></tr></thead>\n",
       "<tbody>\n",
       "\t<tr><td>0        </td><td>380      </td><td>3.61     </td><td>0.2310310</td><td>0        </td></tr>\n",
       "\t<tr><td>1        </td><td>660      </td><td>3.67     </td><td>0.4003934</td><td>0        </td></tr>\n",
       "\t<tr><td>1        </td><td>800      </td><td>4.00     </td><td>0.5552525</td><td>1        </td></tr>\n",
       "\t<tr><td>1        </td><td>640      </td><td>3.19     </td><td>0.3057871</td><td>0        </td></tr>\n",
       "\t<tr><td>0        </td><td>520      </td><td>2.93     </td><td>0.2076762</td><td>0        </td></tr>\n",
       "\t<tr><td>1        </td><td>760      </td><td>3.00     </td><td>0.3451566</td><td>0        </td></tr>\n",
       "\t<tr><td>1        </td><td>560      </td><td>2.98     </td><td>0.2326106</td><td>0        </td></tr>\n",
       "\t<tr><td>0        </td><td>400      </td><td>3.08     </td><td>0.1752786</td><td>0        </td></tr>\n",
       "\t<tr><td>1        </td><td>540      </td><td>3.39     </td><td>0.2813004</td><td>0        </td></tr>\n",
       "\t<tr><td>0        </td><td>700      </td><td>3.92     </td><td>0.4731441</td><td>0        </td></tr>\n",
       "\t<tr><td>0        </td><td>800      </td><td>4.00     </td><td>0.5552525</td><td>1        </td></tr>\n",
       "\t<tr><td>0        </td><td>440      </td><td>3.22     </td><td>0.2082699</td><td>0        </td></tr>\n",
       "\t<tr><td>1        </td><td>760      </td><td>4.00     </td><td>0.5285412</td><td>1        </td></tr>\n",
       "\t<tr><td>0        </td><td>700      </td><td>3.08     </td><td>0.3226841</td><td>0        </td></tr>\n",
       "\t<tr><td>1        </td><td>700      </td><td>4.00     </td><td>0.4882142</td><td>0        </td></tr>\n",
       "\t<tr><td>0        </td><td>480      </td><td>3.44     </td><td>0.2569795</td><td>0        </td></tr>\n",
       "\t<tr><td>0        </td><td>780      </td><td>3.87     </td><td>0.5174912</td><td>1        </td></tr>\n",
       "\t<tr><td>0        </td><td>360      </td><td>2.56     </td><td>0.1141804</td><td>0        </td></tr>\n",
       "\t<tr><td>0        </td><td>800      </td><td>3.75     </td><td>0.5083104</td><td>1        </td></tr>\n",
       "\t<tr><td>1        </td><td>540      </td><td>3.81     </td><td>0.3495422</td><td>0        </td></tr>\n",
       "\t<tr><td>0        </td><td>500      </td><td>3.17     </td><td>0.2294041</td><td>0        </td></tr>\n",
       "\t<tr><td>1        </td><td>660      </td><td>3.63     </td><td>0.3931683</td><td>0        </td></tr>\n",
       "\t<tr><td>0        </td><td>600      </td><td>2.82     </td><td>0.2302764</td><td>0        </td></tr>\n",
       "\t<tr><td>0        </td><td>680      </td><td>3.19     </td><td>0.3290992</td><td>0        </td></tr>\n",
       "\t<tr><td>1        </td><td>760      </td><td>3.35     </td><td>0.4070298</td><td>0        </td></tr>\n",
       "\t<tr><td>1        </td><td>800      </td><td>3.66     </td><td>0.4913315</td><td>0        </td></tr>\n",
       "\t<tr><td>1        </td><td>620      </td><td>3.61     </td><td>0.3643033</td><td>0        </td></tr>\n",
       "\t<tr><td>1        </td><td>520      </td><td>3.74     </td><td>0.3257010</td><td>0        </td></tr>\n",
       "\t<tr><td>1        </td><td>780      </td><td>3.22     </td><td>0.3963844</td><td>0        </td></tr>\n",
       "\t<tr><td>0        </td><td>520      </td><td>3.29     </td><td>0.2559163</td><td>0        </td></tr>\n",
       "\t<tr><td>...</td><td>...</td><td>...</td><td>...</td><td>...</td></tr>\n",
       "\t<tr><td>1        </td><td>540      </td><td>3.77     </td><td>0.3427103</td><td>0        </td></tr>\n",
       "\t<tr><td>1        </td><td>680      </td><td>3.76     </td><td>0.4299413</td><td>0        </td></tr>\n",
       "\t<tr><td>1        </td><td>680      </td><td>2.42     </td><td>0.2152828</td><td>0        </td></tr>\n",
       "\t<tr><td>1        </td><td>620      </td><td>3.37     </td><td>0.3234724</td><td>0        </td></tr>\n",
       "\t<tr><td>0        </td><td>560      </td><td>3.78     </td><td>0.3566626</td><td>0        </td></tr>\n",
       "\t<tr><td>0        </td><td>560      </td><td>3.49     </td><td>0.3081595</td><td>0        </td></tr>\n",
       "\t<tr><td>0        </td><td>620      </td><td>3.63     </td><td>0.3678059</td><td>0        </td></tr>\n",
       "\t<tr><td>1        </td><td>800      </td><td>4.00     </td><td>0.5552525</td><td>1        </td></tr>\n",
       "\t<tr><td>0        </td><td>640      </td><td>3.12     </td><td>0.2946891</td><td>0        </td></tr>\n",
       "\t<tr><td>0        </td><td>540      </td><td>2.70     </td><td>0.1886579</td><td>0        </td></tr>\n",
       "\t<tr><td>0        </td><td>700      </td><td>3.65     </td><td>0.4227993</td><td>0        </td></tr>\n",
       "\t<tr><td>1        </td><td>540      </td><td>3.49     </td><td>0.2968065</td><td>0        </td></tr>\n",
       "\t<tr><td>0        </td><td>540      </td><td>3.51     </td><td>0.2999664</td><td>0        </td></tr>\n",
       "\t<tr><td>0        </td><td>660      </td><td>4.00     </td><td>0.4613822</td><td>0        </td></tr>\n",
       "\t<tr><td>1        </td><td>480      </td><td>2.62     </td><td>0.1570200</td><td>0        </td></tr>\n",
       "\t<tr><td>0        </td><td>420      </td><td>3.02     </td><td>0.1765154</td><td>0        </td></tr>\n",
       "\t<tr><td>1        </td><td>740      </td><td>3.86     </td><td>0.4887067</td><td>0        </td></tr>\n",
       "\t<tr><td>0        </td><td>580      </td><td>3.36     </td><td>0.2987968</td><td>0        </td></tr>\n",
       "\t<tr><td>0        </td><td>640      </td><td>3.17     </td><td>0.3025924</td><td>0        </td></tr>\n",
       "\t<tr><td>0        </td><td>640      </td><td>3.51     </td><td>0.3593032</td><td>0        </td></tr>\n",
       "\t<tr><td>1        </td><td>800      </td><td>3.05     </td><td>0.3787079</td><td>0        </td></tr>\n",
       "\t<tr><td>1        </td><td>660      </td><td>3.88     </td><td>0.4389703</td><td>0        </td></tr>\n",
       "\t<tr><td>1        </td><td>600      </td><td>3.38     </td><td>0.3134312</td><td>0        </td></tr>\n",
       "\t<tr><td>1        </td><td>620      </td><td>3.75     </td><td>0.3891044</td><td>0        </td></tr>\n",
       "\t<tr><td>1        </td><td>460      </td><td>3.99     </td><td>0.3317096</td><td>0        </td></tr>\n",
       "\t<tr><td>0        </td><td>620      </td><td>4.00     </td><td>0.4347722</td><td>0        </td></tr>\n",
       "\t<tr><td>0        </td><td>560      </td><td>3.04     </td><td>0.2407911</td><td>0        </td></tr>\n",
       "\t<tr><td>0        </td><td>460      </td><td>2.63     </td><td>0.1509926</td><td>0        </td></tr>\n",
       "\t<tr><td>0        </td><td>700      </td><td>3.65     </td><td>0.4227993</td><td>0        </td></tr>\n",
       "\t<tr><td>0        </td><td>600      </td><td>3.89     </td><td>0.4014959</td><td>0        </td></tr>\n",
       "</tbody>\n",
       "</table>\n"
      ],
      "text/latex": [
       "\\begin{tabular}{r|lllll}\n",
       " admit & gre & gpa & pred\\_prob\\_model6 & pred\\_outcome\\_model6\\\\\n",
       "\\hline\n",
       "\t 0         & 380       & 3.61      & 0.2310310 & 0        \\\\\n",
       "\t 1         & 660       & 3.67      & 0.4003934 & 0        \\\\\n",
       "\t 1         & 800       & 4.00      & 0.5552525 & 1        \\\\\n",
       "\t 1         & 640       & 3.19      & 0.3057871 & 0        \\\\\n",
       "\t 0         & 520       & 2.93      & 0.2076762 & 0        \\\\\n",
       "\t 1         & 760       & 3.00      & 0.3451566 & 0        \\\\\n",
       "\t 1         & 560       & 2.98      & 0.2326106 & 0        \\\\\n",
       "\t 0         & 400       & 3.08      & 0.1752786 & 0        \\\\\n",
       "\t 1         & 540       & 3.39      & 0.2813004 & 0        \\\\\n",
       "\t 0         & 700       & 3.92      & 0.4731441 & 0        \\\\\n",
       "\t 0         & 800       & 4.00      & 0.5552525 & 1        \\\\\n",
       "\t 0         & 440       & 3.22      & 0.2082699 & 0        \\\\\n",
       "\t 1         & 760       & 4.00      & 0.5285412 & 1        \\\\\n",
       "\t 0         & 700       & 3.08      & 0.3226841 & 0        \\\\\n",
       "\t 1         & 700       & 4.00      & 0.4882142 & 0        \\\\\n",
       "\t 0         & 480       & 3.44      & 0.2569795 & 0        \\\\\n",
       "\t 0         & 780       & 3.87      & 0.5174912 & 1        \\\\\n",
       "\t 0         & 360       & 2.56      & 0.1141804 & 0        \\\\\n",
       "\t 0         & 800       & 3.75      & 0.5083104 & 1        \\\\\n",
       "\t 1         & 540       & 3.81      & 0.3495422 & 0        \\\\\n",
       "\t 0         & 500       & 3.17      & 0.2294041 & 0        \\\\\n",
       "\t 1         & 660       & 3.63      & 0.3931683 & 0        \\\\\n",
       "\t 0         & 600       & 2.82      & 0.2302764 & 0        \\\\\n",
       "\t 0         & 680       & 3.19      & 0.3290992 & 0        \\\\\n",
       "\t 1         & 760       & 3.35      & 0.4070298 & 0        \\\\\n",
       "\t 1         & 800       & 3.66      & 0.4913315 & 0        \\\\\n",
       "\t 1         & 620       & 3.61      & 0.3643033 & 0        \\\\\n",
       "\t 1         & 520       & 3.74      & 0.3257010 & 0        \\\\\n",
       "\t 1         & 780       & 3.22      & 0.3963844 & 0        \\\\\n",
       "\t 0         & 520       & 3.29      & 0.2559163 & 0        \\\\\n",
       "\t ... & ... & ... & ... & ...\\\\\n",
       "\t 1         & 540       & 3.77      & 0.3427103 & 0        \\\\\n",
       "\t 1         & 680       & 3.76      & 0.4299413 & 0        \\\\\n",
       "\t 1         & 680       & 2.42      & 0.2152828 & 0        \\\\\n",
       "\t 1         & 620       & 3.37      & 0.3234724 & 0        \\\\\n",
       "\t 0         & 560       & 3.78      & 0.3566626 & 0        \\\\\n",
       "\t 0         & 560       & 3.49      & 0.3081595 & 0        \\\\\n",
       "\t 0         & 620       & 3.63      & 0.3678059 & 0        \\\\\n",
       "\t 1         & 800       & 4.00      & 0.5552525 & 1        \\\\\n",
       "\t 0         & 640       & 3.12      & 0.2946891 & 0        \\\\\n",
       "\t 0         & 540       & 2.70      & 0.1886579 & 0        \\\\\n",
       "\t 0         & 700       & 3.65      & 0.4227993 & 0        \\\\\n",
       "\t 1         & 540       & 3.49      & 0.2968065 & 0        \\\\\n",
       "\t 0         & 540       & 3.51      & 0.2999664 & 0        \\\\\n",
       "\t 0         & 660       & 4.00      & 0.4613822 & 0        \\\\\n",
       "\t 1         & 480       & 2.62      & 0.1570200 & 0        \\\\\n",
       "\t 0         & 420       & 3.02      & 0.1765154 & 0        \\\\\n",
       "\t 1         & 740       & 3.86      & 0.4887067 & 0        \\\\\n",
       "\t 0         & 580       & 3.36      & 0.2987968 & 0        \\\\\n",
       "\t 0         & 640       & 3.17      & 0.3025924 & 0        \\\\\n",
       "\t 0         & 640       & 3.51      & 0.3593032 & 0        \\\\\n",
       "\t 1         & 800       & 3.05      & 0.3787079 & 0        \\\\\n",
       "\t 1         & 660       & 3.88      & 0.4389703 & 0        \\\\\n",
       "\t 1         & 600       & 3.38      & 0.3134312 & 0        \\\\\n",
       "\t 1         & 620       & 3.75      & 0.3891044 & 0        \\\\\n",
       "\t 1         & 460       & 3.99      & 0.3317096 & 0        \\\\\n",
       "\t 0         & 620       & 4.00      & 0.4347722 & 0        \\\\\n",
       "\t 0         & 560       & 3.04      & 0.2407911 & 0        \\\\\n",
       "\t 0         & 460       & 2.63      & 0.1509926 & 0        \\\\\n",
       "\t 0         & 700       & 3.65      & 0.4227993 & 0        \\\\\n",
       "\t 0         & 600       & 3.89      & 0.4014959 & 0        \\\\\n",
       "\\end{tabular}\n"
      ],
      "text/markdown": [
       "\n",
       "| admit | gre | gpa | pred_prob_model6 | pred_outcome_model6 |\n",
       "|---|---|---|---|---|\n",
       "| 0         | 380       | 3.61      | 0.2310310 | 0         |\n",
       "| 1         | 660       | 3.67      | 0.4003934 | 0         |\n",
       "| 1         | 800       | 4.00      | 0.5552525 | 1         |\n",
       "| 1         | 640       | 3.19      | 0.3057871 | 0         |\n",
       "| 0         | 520       | 2.93      | 0.2076762 | 0         |\n",
       "| 1         | 760       | 3.00      | 0.3451566 | 0         |\n",
       "| 1         | 560       | 2.98      | 0.2326106 | 0         |\n",
       "| 0         | 400       | 3.08      | 0.1752786 | 0         |\n",
       "| 1         | 540       | 3.39      | 0.2813004 | 0         |\n",
       "| 0         | 700       | 3.92      | 0.4731441 | 0         |\n",
       "| 0         | 800       | 4.00      | 0.5552525 | 1         |\n",
       "| 0         | 440       | 3.22      | 0.2082699 | 0         |\n",
       "| 1         | 760       | 4.00      | 0.5285412 | 1         |\n",
       "| 0         | 700       | 3.08      | 0.3226841 | 0         |\n",
       "| 1         | 700       | 4.00      | 0.4882142 | 0         |\n",
       "| 0         | 480       | 3.44      | 0.2569795 | 0         |\n",
       "| 0         | 780       | 3.87      | 0.5174912 | 1         |\n",
       "| 0         | 360       | 2.56      | 0.1141804 | 0         |\n",
       "| 0         | 800       | 3.75      | 0.5083104 | 1         |\n",
       "| 1         | 540       | 3.81      | 0.3495422 | 0         |\n",
       "| 0         | 500       | 3.17      | 0.2294041 | 0         |\n",
       "| 1         | 660       | 3.63      | 0.3931683 | 0         |\n",
       "| 0         | 600       | 2.82      | 0.2302764 | 0         |\n",
       "| 0         | 680       | 3.19      | 0.3290992 | 0         |\n",
       "| 1         | 760       | 3.35      | 0.4070298 | 0         |\n",
       "| 1         | 800       | 3.66      | 0.4913315 | 0         |\n",
       "| 1         | 620       | 3.61      | 0.3643033 | 0         |\n",
       "| 1         | 520       | 3.74      | 0.3257010 | 0         |\n",
       "| 1         | 780       | 3.22      | 0.3963844 | 0         |\n",
       "| 0         | 520       | 3.29      | 0.2559163 | 0         |\n",
       "| ... | ... | ... | ... | ... |\n",
       "| 1         | 540       | 3.77      | 0.3427103 | 0         |\n",
       "| 1         | 680       | 3.76      | 0.4299413 | 0         |\n",
       "| 1         | 680       | 2.42      | 0.2152828 | 0         |\n",
       "| 1         | 620       | 3.37      | 0.3234724 | 0         |\n",
       "| 0         | 560       | 3.78      | 0.3566626 | 0         |\n",
       "| 0         | 560       | 3.49      | 0.3081595 | 0         |\n",
       "| 0         | 620       | 3.63      | 0.3678059 | 0         |\n",
       "| 1         | 800       | 4.00      | 0.5552525 | 1         |\n",
       "| 0         | 640       | 3.12      | 0.2946891 | 0         |\n",
       "| 0         | 540       | 2.70      | 0.1886579 | 0         |\n",
       "| 0         | 700       | 3.65      | 0.4227993 | 0         |\n",
       "| 1         | 540       | 3.49      | 0.2968065 | 0         |\n",
       "| 0         | 540       | 3.51      | 0.2999664 | 0         |\n",
       "| 0         | 660       | 4.00      | 0.4613822 | 0         |\n",
       "| 1         | 480       | 2.62      | 0.1570200 | 0         |\n",
       "| 0         | 420       | 3.02      | 0.1765154 | 0         |\n",
       "| 1         | 740       | 3.86      | 0.4887067 | 0         |\n",
       "| 0         | 580       | 3.36      | 0.2987968 | 0         |\n",
       "| 0         | 640       | 3.17      | 0.3025924 | 0         |\n",
       "| 0         | 640       | 3.51      | 0.3593032 | 0         |\n",
       "| 1         | 800       | 3.05      | 0.3787079 | 0         |\n",
       "| 1         | 660       | 3.88      | 0.4389703 | 0         |\n",
       "| 1         | 600       | 3.38      | 0.3134312 | 0         |\n",
       "| 1         | 620       | 3.75      | 0.3891044 | 0         |\n",
       "| 1         | 460       | 3.99      | 0.3317096 | 0         |\n",
       "| 0         | 620       | 4.00      | 0.4347722 | 0         |\n",
       "| 0         | 560       | 3.04      | 0.2407911 | 0         |\n",
       "| 0         | 460       | 2.63      | 0.1509926 | 0         |\n",
       "| 0         | 700       | 3.65      | 0.4227993 | 0         |\n",
       "| 0         | 600       | 3.89      | 0.4014959 | 0         |\n",
       "\n"
      ],
      "text/plain": [
       "    admit gre gpa  pred_prob_model6 pred_outcome_model6\n",
       "1   0     380 3.61 0.2310310        0                  \n",
       "2   1     660 3.67 0.4003934        0                  \n",
       "3   1     800 4.00 0.5552525        1                  \n",
       "4   1     640 3.19 0.3057871        0                  \n",
       "5   0     520 2.93 0.2076762        0                  \n",
       "6   1     760 3.00 0.3451566        0                  \n",
       "7   1     560 2.98 0.2326106        0                  \n",
       "8   0     400 3.08 0.1752786        0                  \n",
       "9   1     540 3.39 0.2813004        0                  \n",
       "10  0     700 3.92 0.4731441        0                  \n",
       "11  0     800 4.00 0.5552525        1                  \n",
       "12  0     440 3.22 0.2082699        0                  \n",
       "13  1     760 4.00 0.5285412        1                  \n",
       "14  0     700 3.08 0.3226841        0                  \n",
       "15  1     700 4.00 0.4882142        0                  \n",
       "16  0     480 3.44 0.2569795        0                  \n",
       "17  0     780 3.87 0.5174912        1                  \n",
       "18  0     360 2.56 0.1141804        0                  \n",
       "19  0     800 3.75 0.5083104        1                  \n",
       "20  1     540 3.81 0.3495422        0                  \n",
       "21  0     500 3.17 0.2294041        0                  \n",
       "22  1     660 3.63 0.3931683        0                  \n",
       "23  0     600 2.82 0.2302764        0                  \n",
       "24  0     680 3.19 0.3290992        0                  \n",
       "25  1     760 3.35 0.4070298        0                  \n",
       "26  1     800 3.66 0.4913315        0                  \n",
       "27  1     620 3.61 0.3643033        0                  \n",
       "28  1     520 3.74 0.3257010        0                  \n",
       "29  1     780 3.22 0.3963844        0                  \n",
       "30  0     520 3.29 0.2559163        0                  \n",
       "... ...   ... ...  ...              ...                \n",
       "371 1     540 3.77 0.3427103        0                  \n",
       "372 1     680 3.76 0.4299413        0                  \n",
       "373 1     680 2.42 0.2152828        0                  \n",
       "374 1     620 3.37 0.3234724        0                  \n",
       "375 0     560 3.78 0.3566626        0                  \n",
       "376 0     560 3.49 0.3081595        0                  \n",
       "377 0     620 3.63 0.3678059        0                  \n",
       "378 1     800 4.00 0.5552525        1                  \n",
       "379 0     640 3.12 0.2946891        0                  \n",
       "380 0     540 2.70 0.1886579        0                  \n",
       "381 0     700 3.65 0.4227993        0                  \n",
       "382 1     540 3.49 0.2968065        0                  \n",
       "383 0     540 3.51 0.2999664        0                  \n",
       "384 0     660 4.00 0.4613822        0                  \n",
       "385 1     480 2.62 0.1570200        0                  \n",
       "386 0     420 3.02 0.1765154        0                  \n",
       "387 1     740 3.86 0.4887067        0                  \n",
       "388 0     580 3.36 0.2987968        0                  \n",
       "389 0     640 3.17 0.3025924        0                  \n",
       "390 0     640 3.51 0.3593032        0                  \n",
       "391 1     800 3.05 0.3787079        0                  \n",
       "392 1     660 3.88 0.4389703        0                  \n",
       "393 1     600 3.38 0.3134312        0                  \n",
       "394 1     620 3.75 0.3891044        0                  \n",
       "395 1     460 3.99 0.3317096        0                  \n",
       "396 0     620 4.00 0.4347722        0                  \n",
       "397 0     560 3.04 0.2407911        0                  \n",
       "398 0     460 2.63 0.1509926        0                  \n",
       "399 0     700 3.65 0.4227993        0                  \n",
       "400 0     600 3.89 0.4014959        0                  "
      ]
     },
     "metadata": {},
     "output_type": "display_data"
    }
   ],
   "source": [
    "# make predictions using Model 4\n",
    "\n",
    "data <-  data %>% \n",
    "  mutate(pred_prob_model6 = predict(model6, newdata = ., type = \"response\")) %>% \n",
    "  mutate(pred_outcome_model6 = ifelse(pred_prob_model6 >= 0.5,1,0))\n",
    "# we are using 0.5 as cutoff for predicting Y=1. \n",
    "data"
   ]
  },
  {
   "cell_type": "code",
   "execution_count": 138,
   "metadata": {},
   "outputs": [
    {
     "data": {
      "text/html": [
       "'prediction'"
      ],
      "text/latex": [
       "'prediction'"
      ],
      "text/markdown": [
       "'prediction'"
      ],
      "text/plain": [
       "[1] \"prediction\"\n",
       "attr(,\"package\")\n",
       "[1] \"ROCR\""
      ]
     },
     "metadata": {},
     "output_type": "display_data"
    },
    {
     "data": {
      "image/png": "[encoded data removed]",
      "text/plain": [
       "plot without title"
      ]
     },
     "metadata": {},
     "output_type": "display_data"
    }
   ],
   "source": [
    "#ROC Curve\n",
    "pred <- prediction(data$pred_prob_model6,data$admit) # create a prediction object in R\n",
    "class(pred)\n",
    "\n",
    "perf <- performance(pred, \"tpr\", \"fpr\") # tpr and fpr are true and false positive rates\n",
    "plot(perf, colorize=T)"
   ]
  },
  {
   "cell_type": "code",
   "execution_count": 139,
   "metadata": {},
   "outputs": [
    {
     "data": {
      "text/html": [
       "<ol>\n",
       "\t<li>0.635415765337025</li>\n",
       "</ol>\n"
      ],
      "text/latex": [
       "\\begin{enumerate}\n",
       "\\item 0.635415765337025\n",
       "\\end{enumerate}\n"
      ],
      "text/markdown": [
       "1. 0.635415765337025\n",
       "\n",
       "\n"
      ],
      "text/plain": [
       "[[1]]\n",
       "[1] 0.6354158\n"
      ]
     },
     "metadata": {},
     "output_type": "display_data"
    }
   ],
   "source": [
    "# calculate Area Under the Curve for this Logit Model\n",
    "auc.perf <-  performance(pred, measure = \"auc\")\n",
    "auc.perf@y.values"
   ]
  },
  {
   "cell_type": "code",
   "execution_count": 140,
   "metadata": {},
   "outputs": [],
   "source": [
    "fund <- read.csv(\"Berkshire.csv\")"
   ]
  },
  {
   "cell_type": "code",
   "execution_count": 141,
   "metadata": {},
   "outputs": [
    {
     "data": {
      "text/html": [
       "<table>\n",
       "<thead><tr><th scope=col>Date</th><th scope=col>BrkRet</th><th scope=col>MKT</th><th scope=col>RF</th></tr></thead>\n",
       "<tbody>\n",
       "\t<tr><td>11/30/1976</td><td> 0.1544   </td><td> 0.0076   </td><td>0.0040    </td></tr>\n",
       "\t<tr><td>12/31/1976</td><td> 0.1465   </td><td> 0.0605   </td><td>0.0040    </td></tr>\n",
       "\t<tr><td>1/31/1977 </td><td> 0.0000   </td><td>-0.0369   </td><td>0.0036    </td></tr>\n",
       "\t<tr><td>2/28/1977 </td><td> 0.0000   </td><td>-0.0160   </td><td>0.0035    </td></tr>\n",
       "\t<tr><td>3/31/1977 </td><td> 0.0778   </td><td>-0.0099   </td><td>0.0038    </td></tr>\n",
       "\t<tr><td>4/30/1977 </td><td>-0.0103   </td><td> 0.0053   </td><td>0.0038    </td></tr>\n",
       "</tbody>\n",
       "</table>\n"
      ],
      "text/latex": [
       "\\begin{tabular}{r|llll}\n",
       " Date & BrkRet & MKT & RF\\\\\n",
       "\\hline\n",
       "\t 11/30/1976 &  0.1544    &  0.0076    & 0.0040    \\\\\n",
       "\t 12/31/1976 &  0.1465    &  0.0605    & 0.0040    \\\\\n",
       "\t 1/31/1977  &  0.0000    & -0.0369    & 0.0036    \\\\\n",
       "\t 2/28/1977  &  0.0000    & -0.0160    & 0.0035    \\\\\n",
       "\t 3/31/1977  &  0.0778    & -0.0099    & 0.0038    \\\\\n",
       "\t 4/30/1977  & -0.0103    &  0.0053    & 0.0038    \\\\\n",
       "\\end{tabular}\n"
      ],
      "text/markdown": [
       "\n",
       "| Date | BrkRet | MKT | RF |\n",
       "|---|---|---|---|\n",
       "| 11/30/1976 |  0.1544    |  0.0076    | 0.0040     |\n",
       "| 12/31/1976 |  0.1465    |  0.0605    | 0.0040     |\n",
       "| 1/31/1977  |  0.0000    | -0.0369    | 0.0036     |\n",
       "| 2/28/1977  |  0.0000    | -0.0160    | 0.0035     |\n",
       "| 3/31/1977  |  0.0778    | -0.0099    | 0.0038     |\n",
       "| 4/30/1977  | -0.0103    |  0.0053    | 0.0038     |\n",
       "\n"
      ],
      "text/plain": [
       "  Date       BrkRet  MKT     RF    \n",
       "1 11/30/1976  0.1544  0.0076 0.0040\n",
       "2 12/31/1976  0.1465  0.0605 0.0040\n",
       "3 1/31/1977   0.0000 -0.0369 0.0036\n",
       "4 2/28/1977   0.0000 -0.0160 0.0035\n",
       "5 3/31/1977   0.0778 -0.0099 0.0038\n",
       "6 4/30/1977  -0.0103  0.0053 0.0038"
      ]
     },
     "metadata": {},
     "output_type": "display_data"
    }
   ],
   "source": [
    "head(fund)"
   ]
  },
  {
   "cell_type": "code",
   "execution_count": 142,
   "metadata": {},
   "outputs": [],
   "source": [
    "fund$Date <- mdy(fund$Date)"
   ]
  },
  {
   "cell_type": "code",
   "execution_count": 143,
   "metadata": {},
   "outputs": [
    {
     "data": {
      "text/html": [
       "<table>\n",
       "<thead><tr><th scope=col>Date</th><th scope=col>BrkRet</th><th scope=col>MKT</th><th scope=col>RF</th></tr></thead>\n",
       "<tbody>\n",
       "\t<tr><td>1976-11-30</td><td> 0.1544   </td><td> 0.0076   </td><td>0.0040    </td></tr>\n",
       "\t<tr><td>1976-12-31</td><td> 0.1465   </td><td> 0.0605   </td><td>0.0040    </td></tr>\n",
       "\t<tr><td>1977-01-31</td><td> 0.0000   </td><td>-0.0369   </td><td>0.0036    </td></tr>\n",
       "\t<tr><td>1977-02-28</td><td> 0.0000   </td><td>-0.0160   </td><td>0.0035    </td></tr>\n",
       "\t<tr><td>1977-03-31</td><td> 0.0778   </td><td>-0.0099   </td><td>0.0038    </td></tr>\n",
       "\t<tr><td>1977-04-30</td><td>-0.0103   </td><td> 0.0053   </td><td>0.0038    </td></tr>\n",
       "</tbody>\n",
       "</table>\n"
      ],
      "text/latex": [
       "\\begin{tabular}{r|llll}\n",
       " Date & BrkRet & MKT & RF\\\\\n",
       "\\hline\n",
       "\t 1976-11-30 &  0.1544    &  0.0076    & 0.0040    \\\\\n",
       "\t 1976-12-31 &  0.1465    &  0.0605    & 0.0040    \\\\\n",
       "\t 1977-01-31 &  0.0000    & -0.0369    & 0.0036    \\\\\n",
       "\t 1977-02-28 &  0.0000    & -0.0160    & 0.0035    \\\\\n",
       "\t 1977-03-31 &  0.0778    & -0.0099    & 0.0038    \\\\\n",
       "\t 1977-04-30 & -0.0103    &  0.0053    & 0.0038    \\\\\n",
       "\\end{tabular}\n"
      ],
      "text/markdown": [
       "\n",
       "| Date | BrkRet | MKT | RF |\n",
       "|---|---|---|---|\n",
       "| 1976-11-30 |  0.1544    |  0.0076    | 0.0040     |\n",
       "| 1976-12-31 |  0.1465    |  0.0605    | 0.0040     |\n",
       "| 1977-01-31 |  0.0000    | -0.0369    | 0.0036     |\n",
       "| 1977-02-28 |  0.0000    | -0.0160    | 0.0035     |\n",
       "| 1977-03-31 |  0.0778    | -0.0099    | 0.0038     |\n",
       "| 1977-04-30 | -0.0103    |  0.0053    | 0.0038     |\n",
       "\n"
      ],
      "text/plain": [
       "  Date       BrkRet  MKT     RF    \n",
       "1 1976-11-30  0.1544  0.0076 0.0040\n",
       "2 1976-12-31  0.1465  0.0605 0.0040\n",
       "3 1977-01-31  0.0000 -0.0369 0.0036\n",
       "4 1977-02-28  0.0000 -0.0160 0.0035\n",
       "5 1977-03-31  0.0778 -0.0099 0.0038\n",
       "6 1977-04-30 -0.0103  0.0053 0.0038"
      ]
     },
     "metadata": {},
     "output_type": "display_data"
    }
   ],
   "source": [
    "fund2<- fund[order(fund$Date),]\n",
    "head(fund2)"
   ]
  },
  {
   "cell_type": "code",
   "execution_count": 144,
   "metadata": {},
   "outputs": [
    {
     "data": {
      "text/plain": [
       "            BrkRet     MKT     RF\n",
       "1976-11-30  0.1544  0.0076 0.0040\n",
       "1976-12-31  0.1465  0.0605 0.0040\n",
       "1977-01-31  0.0000 -0.0369 0.0036\n",
       "1977-02-28  0.0000 -0.0160 0.0035\n",
       "1977-03-31  0.0778 -0.0099 0.0038\n",
       "1977-04-30 -0.0103  0.0053 0.0038"
      ]
     },
     "metadata": {},
     "output_type": "display_data"
    }
   ],
   "source": [
    "All.dat <- xts(fund2[,-1],order.by = fund2[,1],)\n",
    "head(All.dat)"
   ]
  },
  {
   "cell_type": "code",
   "execution_count": 145,
   "metadata": {},
   "outputs": [
    {
     "data": {
      "text/html": [
       "0.0189872"
      ],
      "text/latex": [
       "0.0189872"
      ],
      "text/markdown": [
       "0.0189872"
      ],
      "text/plain": [
       "[1] 0.0189872"
      ]
     },
     "metadata": {},
     "output_type": "display_data"
    }
   ],
   "source": [
    "mean((All.dat$BrkRet))"
   ]
  },
  {
   "cell_type": "code",
   "execution_count": 146,
   "metadata": {},
   "outputs": [
    {
     "data": {
      "text/html": [
       "<table>\n",
       "<thead><tr><th></th><th scope=col>BrkRet</th><th scope=col>MKT</th><th scope=col>RF</th></tr></thead>\n",
       "<tbody>\n",
       "\t<tr><th scope=row>Observations</th><td>500.0000</td><td>500.0000</td><td>500.0000</td></tr>\n",
       "\t<tr><th scope=row>NAs</th><td>  0.0000</td><td>  0.0000</td><td>  0.0000</td></tr>\n",
       "\t<tr><th scope=row>Minimum</th><td> -0.2174</td><td> -0.2264</td><td>  0.0000</td></tr>\n",
       "\t<tr><th scope=row>Quartile 1</th><td> -0.0162</td><td> -0.0156</td><td>  0.0010</td></tr>\n",
       "\t<tr><th scope=row>Median</th><td>  0.0122</td><td>  0.0136</td><td>  0.0039</td></tr>\n",
       "\t<tr><th scope=row>Arithmetic Mean</th><td>  0.0190</td><td>  0.0102</td><td>  0.0037</td></tr>\n",
       "\t<tr><th scope=row>Geometric Mean</th><td>  0.0168</td><td>  0.0092</td><td>  0.0037</td></tr>\n",
       "\t<tr><th scope=row>Quartile 3</th><td>  0.0476</td><td>  0.0389</td><td>  0.0053</td></tr>\n",
       "\t<tr><th scope=row>Maximum</th><td>  0.3548</td><td>  0.1289</td><td>  0.0135</td></tr>\n",
       "\t<tr><th scope=row>SE Mean</th><td>  0.0030</td><td>  0.0019</td><td>  0.0001</td></tr>\n",
       "\t<tr><th scope=row>LCL Mean (0.95)</th><td>  0.0131</td><td>  0.0063</td><td>  0.0035</td></tr>\n",
       "\t<tr><th scope=row>UCL Mean (0.95)</th><td>  0.0249</td><td>  0.0140</td><td>  0.0040</td></tr>\n",
       "\t<tr><th scope=row>Variance</th><td>  0.0046</td><td>  0.0019</td><td>  0.0000</td></tr>\n",
       "\t<tr><th scope=row>Stdev</th><td>  0.0675</td><td>  0.0436</td><td>  0.0030</td></tr>\n",
       "\t<tr><th scope=row>Skewness</th><td>  0.6987</td><td> -0.7281</td><td>  0.6651</td></tr>\n",
       "\t<tr><th scope=row>Kurtosis</th><td>  2.8198</td><td>  2.3473</td><td>  0.2077</td></tr>\n",
       "</tbody>\n",
       "</table>\n"
      ],
      "text/latex": [
       "\\begin{tabular}{r|lll}\n",
       "  & BrkRet & MKT & RF\\\\\n",
       "\\hline\n",
       "\tObservations & 500.0000 & 500.0000 & 500.0000\\\\\n",
       "\tNAs &   0.0000 &   0.0000 &   0.0000\\\\\n",
       "\tMinimum &  -0.2174 &  -0.2264 &   0.0000\\\\\n",
       "\tQuartile 1 &  -0.0162 &  -0.0156 &   0.0010\\\\\n",
       "\tMedian &   0.0122 &   0.0136 &   0.0039\\\\\n",
       "\tArithmetic Mean &   0.0190 &   0.0102 &   0.0037\\\\\n",
       "\tGeometric Mean &   0.0168 &   0.0092 &   0.0037\\\\\n",
       "\tQuartile 3 &   0.0476 &   0.0389 &   0.0053\\\\\n",
       "\tMaximum &   0.3548 &   0.1289 &   0.0135\\\\\n",
       "\tSE Mean &   0.0030 &   0.0019 &   0.0001\\\\\n",
       "\tLCL Mean (0.95) &   0.0131 &   0.0063 &   0.0035\\\\\n",
       "\tUCL Mean (0.95) &   0.0249 &   0.0140 &   0.0040\\\\\n",
       "\tVariance &   0.0046 &   0.0019 &   0.0000\\\\\n",
       "\tStdev &   0.0675 &   0.0436 &   0.0030\\\\\n",
       "\tSkewness &   0.6987 &  -0.7281 &   0.6651\\\\\n",
       "\tKurtosis &   2.8198 &   2.3473 &   0.2077\\\\\n",
       "\\end{tabular}\n"
      ],
      "text/markdown": [
       "\n",
       "| <!--/--> | BrkRet | MKT | RF |\n",
       "|---|---|---|---|\n",
       "| Observations | 500.0000 | 500.0000 | 500.0000 |\n",
       "| NAs |   0.0000 |   0.0000 |   0.0000 |\n",
       "| Minimum |  -0.2174 |  -0.2264 |   0.0000 |\n",
       "| Quartile 1 |  -0.0162 |  -0.0156 |   0.0010 |\n",
       "| Median |   0.0122 |   0.0136 |   0.0039 |\n",
       "| Arithmetic Mean |   0.0190 |   0.0102 |   0.0037 |\n",
       "| Geometric Mean |   0.0168 |   0.0092 |   0.0037 |\n",
       "| Quartile 3 |   0.0476 |   0.0389 |   0.0053 |\n",
       "| Maximum |   0.3548 |   0.1289 |   0.0135 |\n",
       "| SE Mean |   0.0030 |   0.0019 |   0.0001 |\n",
       "| LCL Mean (0.95) |   0.0131 |   0.0063 |   0.0035 |\n",
       "| UCL Mean (0.95) |   0.0249 |   0.0140 |   0.0040 |\n",
       "| Variance |   0.0046 |   0.0019 |   0.0000 |\n",
       "| Stdev |   0.0675 |   0.0436 |   0.0030 |\n",
       "| Skewness |   0.6987 |  -0.7281 |   0.6651 |\n",
       "| Kurtosis |   2.8198 |   2.3473 |   0.2077 |\n",
       "\n"
      ],
      "text/plain": [
       "                BrkRet   MKT      RF      \n",
       "Observations    500.0000 500.0000 500.0000\n",
       "NAs               0.0000   0.0000   0.0000\n",
       "Minimum          -0.2174  -0.2264   0.0000\n",
       "Quartile 1       -0.0162  -0.0156   0.0010\n",
       "Median            0.0122   0.0136   0.0039\n",
       "Arithmetic Mean   0.0190   0.0102   0.0037\n",
       "Geometric Mean    0.0168   0.0092   0.0037\n",
       "Quartile 3        0.0476   0.0389   0.0053\n",
       "Maximum           0.3548   0.1289   0.0135\n",
       "SE Mean           0.0030   0.0019   0.0001\n",
       "LCL Mean (0.95)   0.0131   0.0063   0.0035\n",
       "UCL Mean (0.95)   0.0249   0.0140   0.0040\n",
       "Variance          0.0046   0.0019   0.0000\n",
       "Stdev             0.0675   0.0436   0.0030\n",
       "Skewness          0.6987  -0.7281   0.6651\n",
       "Kurtosis          2.8198   2.3473   0.2077"
      ]
     },
     "metadata": {},
     "output_type": "display_data"
    }
   ],
   "source": [
    "table.Stats(All.dat)\n",
    "# to calculate the performance\n",
    "# 102  100\n",
    "# 190  X\n",
    "# X = 186.27 ---> 86% outperformed "
   ]
  },
  {
   "cell_type": "code",
   "execution_count": 147,
   "metadata": {},
   "outputs": [
    {
     "data": {
      "text/html": [
       "<table>\n",
       "<thead><tr><th></th><th scope=col>BrkRet</th><th scope=col>MKT</th><th scope=col>RF</th></tr></thead>\n",
       "<tbody>\n",
       "\t<tr><th scope=row>Cumulative Return</th><td>4143.99 </td><td>96.22392</td><td>5.359804</td></tr>\n",
       "</tbody>\n",
       "</table>\n"
      ],
      "text/latex": [
       "\\begin{tabular}{r|lll}\n",
       "  & BrkRet & MKT & RF\\\\\n",
       "\\hline\n",
       "\tCumulative Return & 4143.99  & 96.22392 & 5.359804\\\\\n",
       "\\end{tabular}\n"
      ],
      "text/markdown": [
       "\n",
       "| <!--/--> | BrkRet | MKT | RF |\n",
       "|---|---|---|---|\n",
       "| Cumulative Return | 4143.99  | 96.22392 | 5.359804 |\n",
       "\n"
      ],
      "text/plain": [
       "                  BrkRet  MKT      RF      \n",
       "Cumulative Return 4143.99 96.22392 5.359804"
      ]
     },
     "metadata": {},
     "output_type": "display_data"
    },
    {
     "data": {
      "image/png": "[encoded data removed]",
      "text/plain": [
       "plot without title"
      ]
     },
     "metadata": {},
     "output_type": "display_data"
    }
   ],
   "source": [
    "Return.cumulative(All.dat,geometric = TRUE)\n",
    "chart.CumReturns(All.dat,wealth.index = FALSE, geometric = TRUE)\n",
    "\n",
    "# 1 dollar investment increased in this period of time to $4143\n",
    "# 10000 investment will be around 10,000 X 4,143 = 41,430,000"
   ]
  },
  {
   "cell_type": "code",
   "execution_count": 148,
   "metadata": {},
   "outputs": [
    {
     "data": {
      "text/html": [
       "<table>\n",
       "<thead><tr><th></th><th scope=col>BrkRet</th></tr></thead>\n",
       "<tbody>\n",
       "\t<tr><th scope=row>StdDev Sharpe (Rf=0.4%, p=95%):</th><td>0.2262115</td></tr>\n",
       "\t<tr><th scope=row>VaR Sharpe (Rf=0.4%, p=95%):</th><td>0.2060944</td></tr>\n",
       "\t<tr><th scope=row>ES Sharpe (Rf=0.4%, p=95%):</th><td>0.1728184</td></tr>\n",
       "</tbody>\n",
       "</table>\n"
      ],
      "text/latex": [
       "\\begin{tabular}{r|l}\n",
       "  & BrkRet\\\\\n",
       "\\hline\n",
       "\tStdDev Sharpe (Rf=0.4\\%, p=95\\%): & 0.2262115\\\\\n",
       "\tVaR Sharpe (Rf=0.4\\%, p=95\\%): & 0.2060944\\\\\n",
       "\tES Sharpe (Rf=0.4\\%, p=95\\%): & 0.1728184\\\\\n",
       "\\end{tabular}\n"
      ],
      "text/markdown": [
       "\n",
       "| <!--/--> | BrkRet |\n",
       "|---|---|\n",
       "| StdDev Sharpe (Rf=0.4%, p=95%): | 0.2262115 |\n",
       "| VaR Sharpe (Rf=0.4%, p=95%): | 0.2060944 |\n",
       "| ES Sharpe (Rf=0.4%, p=95%): | 0.1728184 |\n",
       "\n"
      ],
      "text/plain": [
       "                                BrkRet   \n",
       "StdDev Sharpe (Rf=0.4%, p=95%): 0.2262115\n",
       "VaR Sharpe (Rf=0.4%, p=95%):    0.2060944\n",
       "ES Sharpe (Rf=0.4%, p=95%):     0.1728184"
      ]
     },
     "metadata": {},
     "output_type": "display_data"
    },
    {
     "data": {
      "text/html": [
       "0.244858117256507"
      ],
      "text/latex": [
       "0.244858117256507"
      ],
      "text/markdown": [
       "0.244858117256507"
      ],
      "text/plain": [
       "[1] 0.2448581"
      ]
     },
     "metadata": {},
     "output_type": "display_data"
    }
   ],
   "source": [
    "SharpeRatio(All.dat$BrkRet,All.dat$RF)\n",
    "TreynorRatio(All.dat$BrkRet,All.dat$MKT,All.dat$RF)"
   ]
  },
  {
   "cell_type": "code",
   "execution_count": 149,
   "metadata": {},
   "outputs": [
    {
     "data": {
      "text/html": [
       "<table>\n",
       "<thead><tr><th></th><th scope=col>MKT</th></tr></thead>\n",
       "<tbody>\n",
       "\t<tr><th scope=row>StdDev Sharpe (Rf=0.4%, p=95%):</th><td>0.14794528</td></tr>\n",
       "\t<tr><th scope=row>VaR Sharpe (Rf=0.4%, p=95%):</th><td>0.09486128</td></tr>\n",
       "\t<tr><th scope=row>ES Sharpe (Rf=0.4%, p=95%):</th><td>0.05677763</td></tr>\n",
       "</tbody>\n",
       "</table>\n"
      ],
      "text/latex": [
       "\\begin{tabular}{r|l}\n",
       "  & MKT\\\\\n",
       "\\hline\n",
       "\tStdDev Sharpe (Rf=0.4\\%, p=95\\%): & 0.14794528\\\\\n",
       "\tVaR Sharpe (Rf=0.4\\%, p=95\\%): & 0.09486128\\\\\n",
       "\tES Sharpe (Rf=0.4\\%, p=95\\%): & 0.05677763\\\\\n",
       "\\end{tabular}\n"
      ],
      "text/markdown": [
       "\n",
       "| <!--/--> | MKT |\n",
       "|---|---|\n",
       "| StdDev Sharpe (Rf=0.4%, p=95%): | 0.14794528 |\n",
       "| VaR Sharpe (Rf=0.4%, p=95%): | 0.09486128 |\n",
       "| ES Sharpe (Rf=0.4%, p=95%): | 0.05677763 |\n",
       "\n"
      ],
      "text/plain": [
       "                                MKT       \n",
       "StdDev Sharpe (Rf=0.4%, p=95%): 0.14794528\n",
       "VaR Sharpe (Rf=0.4%, p=95%):    0.09486128\n",
       "ES Sharpe (Rf=0.4%, p=95%):     0.05677763"
      ]
     },
     "metadata": {},
     "output_type": "display_data"
    }
   ],
   "source": [
    "SharpeRatio(All.dat$MKT,All.dat$RF) #professor has done this calculation in her talk.\n"
   ]
  },
  {
   "cell_type": "code",
   "execution_count": 150,
   "metadata": {},
   "outputs": [
    {
     "data": {
      "text/plain": [
       "\n",
       "Call:\n",
       "lm(formula = FundExcess ~ MktExcess, data = All.dat)\n",
       "\n",
       "Residuals:\n",
       "     Min       1Q   Median       3Q      Max \n",
       "-0.17263 -0.03475 -0.00688  0.02608  0.33062 \n",
       "\n",
       "Coefficients:\n",
       "            Estimate Std. Error t value Pr(>|t|)    \n",
       "(Intercept) 0.010829   0.002724   3.976 8.05e-05 ***\n",
       "MktExcess   0.689755   0.061777  11.165  < 2e-16 ***\n",
       "---\n",
       "Signif. codes:  0 ‘***’ 0.001 ‘**’ 0.01 ‘*’ 0.05 ‘.’ 0.1 ‘ ’ 1\n",
       "\n",
       "Residual standard error: 0.06025 on 498 degrees of freedom\n",
       "Multiple R-squared:  0.2002,\tAdjusted R-squared:  0.1986 \n",
       "F-statistic: 124.7 on 1 and 498 DF,  p-value: < 2.2e-16\n"
      ]
     },
     "metadata": {},
     "output_type": "display_data"
    }
   ],
   "source": [
    "All.dat<-transform(All.dat,MktExcess=MKT-RF,FundExcess=BrkRet-RF)  #check next cell too\n",
    "Alpha=lm(FundExcess~MktExcess,data=All.dat)\n",
    "summary(Alpha)\n"
   ]
  },
  {
   "cell_type": "code",
   "execution_count": 155,
   "metadata": {},
   "outputs": [
    {
     "data": {
      "text/plain": [
       "\n",
       "Call:\n",
       "lm(formula = BrkRet ~ MKT, data = All.dat)\n",
       "\n",
       "Residuals:\n",
       "     Min       1Q   Median       3Q      Max \n",
       "-0.17261 -0.03500 -0.00694  0.02680  0.33180 \n",
       "\n",
       "Coefficients:\n",
       "            Estimate Std. Error t value Pr(>|t|)    \n",
       "(Intercept) 0.011891   0.002771   4.291 2.13e-05 ***\n",
       "MKT         0.698521   0.061983  11.270  < 2e-16 ***\n",
       "---\n",
       "Signif. codes:  0 ‘***’ 0.001 ‘**’ 0.01 ‘*’ 0.05 ‘.’ 0.1 ‘ ’ 1\n",
       "\n",
       "Residual standard error: 0.06034 on 498 degrees of freedom\n",
       "Multiple R-squared:  0.2032,\tAdjusted R-squared:  0.2016 \n",
       "F-statistic:   127 on 1 and 498 DF,  p-value: < 2.2e-16\n"
      ]
     },
     "metadata": {},
     "output_type": "display_data"
    }
   ],
   "source": [
    "test=lm(BrkRet~MKT,data=All.dat) #calculate the beta\n",
    "summary(test)\n"
   ]
  },
  {
   "cell_type": "code",
   "execution_count": 151,
   "metadata": {},
   "outputs": [],
   "source": [
    "data <- read.csv(\"Factor_HiTec.csv\")\n"
   ]
  },
  {
   "cell_type": "code",
   "execution_count": 152,
   "metadata": {},
   "outputs": [
    {
     "data": {
      "text/html": [
       "<table>\n",
       "<thead><tr><th scope=col>Month</th><th scope=col>RF</th><th scope=col>HiTec</th><th scope=col>Mkt_rf</th><th scope=col>SMB</th><th scope=col>HML</th><th scope=col>Mom</th><th scope=col>BAB</th><th scope=col>QMJ</th></tr></thead>\n",
       "<tbody>\n",
       "\t<tr><td>198001 </td><td>0.0080 </td><td> 0.0737</td><td> 0.0551</td><td> 0.0168</td><td> 0.0181</td><td> 0.0748</td><td> 0.0263</td><td>-0.0274</td></tr>\n",
       "\t<tr><td>198002 </td><td>0.0089 </td><td>-0.0356</td><td>-0.0122</td><td>-0.0181</td><td> 0.0067</td><td> 0.0790</td><td>-0.0153</td><td>-0.0200</td></tr>\n",
       "\t<tr><td>198003 </td><td>0.0121 </td><td>-0.1267</td><td>-0.1290</td><td>-0.0662</td><td>-0.0108</td><td>-0.0957</td><td>-0.0471</td><td> 0.0470</td></tr>\n",
       "\t<tr><td>198004 </td><td>0.0126 </td><td> 0.0072</td><td> 0.0397</td><td> 0.0094</td><td> 0.0114</td><td>-0.0039</td><td> 0.0209</td><td>-0.0337</td></tr>\n",
       "\t<tr><td>198005 </td><td>0.0081 </td><td> 0.0482</td><td> 0.0526</td><td> 0.0216</td><td> 0.0041</td><td>-0.0111</td><td> 0.0365</td><td> 0.0069</td></tr>\n",
       "\t<tr><td>198006 </td><td>0.0061 </td><td> 0.0303</td><td> 0.0306</td><td> 0.0167</td><td>-0.0089</td><td> 0.0155</td><td> 0.0369</td><td>-0.0111</td></tr>\n",
       "</tbody>\n",
       "</table>\n"
      ],
      "text/latex": [
       "\\begin{tabular}{r|lllllllll}\n",
       " Month & RF & HiTec & Mkt\\_rf & SMB & HML & Mom & BAB & QMJ\\\\\n",
       "\\hline\n",
       "\t 198001  & 0.0080  &  0.0737 &  0.0551 &  0.0168 &  0.0181 &  0.0748 &  0.0263 & -0.0274\\\\\n",
       "\t 198002  & 0.0089  & -0.0356 & -0.0122 & -0.0181 &  0.0067 &  0.0790 & -0.0153 & -0.0200\\\\\n",
       "\t 198003  & 0.0121  & -0.1267 & -0.1290 & -0.0662 & -0.0108 & -0.0957 & -0.0471 &  0.0470\\\\\n",
       "\t 198004  & 0.0126  &  0.0072 &  0.0397 &  0.0094 &  0.0114 & -0.0039 &  0.0209 & -0.0337\\\\\n",
       "\t 198005  & 0.0081  &  0.0482 &  0.0526 &  0.0216 &  0.0041 & -0.0111 &  0.0365 &  0.0069\\\\\n",
       "\t 198006  & 0.0061  &  0.0303 &  0.0306 &  0.0167 & -0.0089 &  0.0155 &  0.0369 & -0.0111\\\\\n",
       "\\end{tabular}\n"
      ],
      "text/markdown": [
       "\n",
       "| Month | RF | HiTec | Mkt_rf | SMB | HML | Mom | BAB | QMJ |\n",
       "|---|---|---|---|---|---|---|---|---|\n",
       "| 198001  | 0.0080  |  0.0737 |  0.0551 |  0.0168 |  0.0181 |  0.0748 |  0.0263 | -0.0274 |\n",
       "| 198002  | 0.0089  | -0.0356 | -0.0122 | -0.0181 |  0.0067 |  0.0790 | -0.0153 | -0.0200 |\n",
       "| 198003  | 0.0121  | -0.1267 | -0.1290 | -0.0662 | -0.0108 | -0.0957 | -0.0471 |  0.0470 |\n",
       "| 198004  | 0.0126  |  0.0072 |  0.0397 |  0.0094 |  0.0114 | -0.0039 |  0.0209 | -0.0337 |\n",
       "| 198005  | 0.0081  |  0.0482 |  0.0526 |  0.0216 |  0.0041 | -0.0111 |  0.0365 |  0.0069 |\n",
       "| 198006  | 0.0061  |  0.0303 |  0.0306 |  0.0167 | -0.0089 |  0.0155 |  0.0369 | -0.0111 |\n",
       "\n"
      ],
      "text/plain": [
       "  Month  RF     HiTec   Mkt_rf  SMB     HML     Mom     BAB     QMJ    \n",
       "1 198001 0.0080  0.0737  0.0551  0.0168  0.0181  0.0748  0.0263 -0.0274\n",
       "2 198002 0.0089 -0.0356 -0.0122 -0.0181  0.0067  0.0790 -0.0153 -0.0200\n",
       "3 198003 0.0121 -0.1267 -0.1290 -0.0662 -0.0108 -0.0957 -0.0471  0.0470\n",
       "4 198004 0.0126  0.0072  0.0397  0.0094  0.0114 -0.0039  0.0209 -0.0337\n",
       "5 198005 0.0081  0.0482  0.0526  0.0216  0.0041 -0.0111  0.0365  0.0069\n",
       "6 198006 0.0061  0.0303  0.0306  0.0167 -0.0089  0.0155  0.0369 -0.0111"
      ]
     },
     "metadata": {},
     "output_type": "display_data"
    }
   ],
   "source": [
    "head(data)"
   ]
  },
  {
   "cell_type": "code",
   "execution_count": 153,
   "metadata": {},
   "outputs": [
    {
     "name": "stdout",
     "output_type": "stream",
     "text": [
      "\n",
      "===============================================\n",
      "                        Dependent variable:    \n",
      "                    ---------------------------\n",
      "                               HiTec           \n",
      "-----------------------------------------------\n",
      "Mkt_rf                       1.113***          \n",
      "                              (0.036)          \n",
      "                                               \n",
      "SMB                          0.219***          \n",
      "                              (0.048)          \n",
      "                                               \n",
      "HML                          -0.534***         \n",
      "                              (0.051)          \n",
      "                                               \n",
      "Mom                          -0.088***         \n",
      "                              (0.031)          \n",
      "                                               \n",
      "BAB                          -0.290***         \n",
      "                              (0.040)          \n",
      "                                               \n",
      "QMJ                           -0.036           \n",
      "                              (0.074)          \n",
      "                                               \n",
      "Constant                     0.008***          \n",
      "                              (0.001)          \n",
      "                                               \n",
      "-----------------------------------------------\n",
      "Observations                    462            \n",
      "R2                             0.848           \n",
      "Adjusted R2                    0.846           \n",
      "Residual Std. Error      0.026 (df = 455)      \n",
      "F Statistic          423.619*** (df = 6; 455)  \n",
      "===============================================\n",
      "Note:               *p<0.1; **p<0.05; ***p<0.01\n"
     ]
    }
   ],
   "source": [
    "factor <- lm(HiTec ~ Mkt_rf+SMB+HML+Mom+BAB+QMJ, data = data)\n",
    "stargazer(factor, align = TRUE, type = \"text\", out = \"factorModelFull.html\")\n"
   ]
  },
  {
   "cell_type": "code",
   "execution_count": 154,
   "metadata": {},
   "outputs": [
    {
     "data": {
      "text/html": [
       "-0.21146562171474"
      ],
      "text/latex": [
       "-0.21146562171474"
      ],
      "text/markdown": [
       "-0.21146562171474"
      ],
      "text/plain": [
       "[1] -0.2114656"
      ]
     },
     "metadata": {},
     "output_type": "display_data"
    }
   ],
   "source": [
    "cor(data$HML, data$Mom, method = c(\"pearson\", \"kendall\", \"spearman\"))"
   ]
  },
  {
   "cell_type": "code",
   "execution_count": null,
   "metadata": {},
   "outputs": [],
   "source": []
  }
 ],
 "metadata": {
  "kernelspec": {
   "display_name": "R",
   "language": "R",
   "name": "ir"
  },
  "language_info": {
   "codemirror_mode": "r",
   "file_extension": ".r",
   "mimetype": "text/x-r-source",
   "name": "R",
   "pygments_lexer": "r",
   "version": "3.6.1"
  }
 },
 "nbformat": 4,
 "nbformat_minor": 2
}
