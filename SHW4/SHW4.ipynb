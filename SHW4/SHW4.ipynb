{
 "cells": [
  {
   "cell_type": "code",
   "execution_count": 21,
   "metadata": {},
   "outputs": [],
   "source": [
    "library(PerformanceAnalytics)\n",
    "library(xts)\n",
    "library(lubridate)\n",
    "library(stargazer)"
   ]
  },
  {
   "cell_type": "code",
   "execution_count": 22,
   "metadata": {},
   "outputs": [
    {
     "data": {
      "text/html": [
       "<table>\n",
       "<thead><tr><th scope=col>Date</th><th scope=col>Mom</th><th scope=col>Mkt_rf</th><th scope=col>SMB</th><th scope=col>HML</th><th scope=col>RF</th><th scope=col>QMJ</th><th scope=col>BAB</th><th scope=col>Brk_ret</th><th scope=col>Brk_exret</th><th scope=col>Mkt</th><th scope=col>Subperiod</th></tr></thead>\n",
       "<tbody>\n",
       "\t<tr><td>11/30/1976</td><td>0.0290    </td><td> 0.0036   </td><td> 0.0231   </td><td>0.0152    </td><td>0.0040    </td><td>-0.0201   </td><td>0.0045    </td><td> 0.1544   </td><td> 0.1504   </td><td> 0.0076   </td><td>1         </td></tr>\n",
       "\t<tr><td>12/31/1976</td><td>0.0078    </td><td> 0.0565   </td><td> 0.0300   </td><td>0.0223    </td><td>0.0040    </td><td>-0.0089   </td><td>0.0317    </td><td> 0.1465   </td><td> 0.1425   </td><td> 0.0605   </td><td>1         </td></tr>\n",
       "\t<tr><td>1/31/1977 </td><td>0.0397    </td><td>-0.0405   </td><td> 0.0478   </td><td>0.0427    </td><td>0.0036    </td><td>-0.0263   </td><td>0.0407    </td><td> 0.0000   </td><td>-0.0036   </td><td>-0.0369   </td><td>1         </td></tr>\n",
       "\t<tr><td>2/28/1977 </td><td>0.0038    </td><td>-0.0195   </td><td> 0.0108   </td><td>0.0051    </td><td>0.0035    </td><td> 0.0207   </td><td>0.0249    </td><td> 0.0000   </td><td>-0.0035   </td><td>-0.0160   </td><td>1         </td></tr>\n",
       "\t<tr><td>3/31/1977 </td><td>0.0049    </td><td>-0.0137   </td><td> 0.0099   </td><td>0.0100    </td><td>0.0038    </td><td>-0.0085   </td><td>0.0123    </td><td> 0.0778   </td><td> 0.0740   </td><td>-0.0099   </td><td>1         </td></tr>\n",
       "\t<tr><td>4/30/1977 </td><td>0.0424    </td><td> 0.0015   </td><td>-0.0012   </td><td>0.0344    </td><td>0.0038    </td><td>-0.0173   </td><td>0.0106    </td><td>-0.0103   </td><td>-0.0141   </td><td> 0.0053   </td><td>1         </td></tr>\n",
       "</tbody>\n",
       "</table>\n"
      ],
      "text/latex": [
       "\\begin{tabular}{r|llllllllllll}\n",
       " Date & Mom & Mkt\\_rf & SMB & HML & RF & QMJ & BAB & Brk\\_ret & Brk\\_exret & Mkt & Subperiod\\\\\n",
       "\\hline\n",
       "\t 11/30/1976 & 0.0290     &  0.0036    &  0.0231    & 0.0152     & 0.0040     & -0.0201    & 0.0045     &  0.1544    &  0.1504    &  0.0076    & 1         \\\\\n",
       "\t 12/31/1976 & 0.0078     &  0.0565    &  0.0300    & 0.0223     & 0.0040     & -0.0089    & 0.0317     &  0.1465    &  0.1425    &  0.0605    & 1         \\\\\n",
       "\t 1/31/1977  & 0.0397     & -0.0405    &  0.0478    & 0.0427     & 0.0036     & -0.0263    & 0.0407     &  0.0000    & -0.0036    & -0.0369    & 1         \\\\\n",
       "\t 2/28/1977  & 0.0038     & -0.0195    &  0.0108    & 0.0051     & 0.0035     &  0.0207    & 0.0249     &  0.0000    & -0.0035    & -0.0160    & 1         \\\\\n",
       "\t 3/31/1977  & 0.0049     & -0.0137    &  0.0099    & 0.0100     & 0.0038     & -0.0085    & 0.0123     &  0.0778    &  0.0740    & -0.0099    & 1         \\\\\n",
       "\t 4/30/1977  & 0.0424     &  0.0015    & -0.0012    & 0.0344     & 0.0038     & -0.0173    & 0.0106     & -0.0103    & -0.0141    &  0.0053    & 1         \\\\\n",
       "\\end{tabular}\n"
      ],
      "text/markdown": [
       "\n",
       "| Date | Mom | Mkt_rf | SMB | HML | RF | QMJ | BAB | Brk_ret | Brk_exret | Mkt | Subperiod |\n",
       "|---|---|---|---|---|---|---|---|---|---|---|---|\n",
       "| 11/30/1976 | 0.0290     |  0.0036    |  0.0231    | 0.0152     | 0.0040     | -0.0201    | 0.0045     |  0.1544    |  0.1504    |  0.0076    | 1          |\n",
       "| 12/31/1976 | 0.0078     |  0.0565    |  0.0300    | 0.0223     | 0.0040     | -0.0089    | 0.0317     |  0.1465    |  0.1425    |  0.0605    | 1          |\n",
       "| 1/31/1977  | 0.0397     | -0.0405    |  0.0478    | 0.0427     | 0.0036     | -0.0263    | 0.0407     |  0.0000    | -0.0036    | -0.0369    | 1          |\n",
       "| 2/28/1977  | 0.0038     | -0.0195    |  0.0108    | 0.0051     | 0.0035     |  0.0207    | 0.0249     |  0.0000    | -0.0035    | -0.0160    | 1          |\n",
       "| 3/31/1977  | 0.0049     | -0.0137    |  0.0099    | 0.0100     | 0.0038     | -0.0085    | 0.0123     |  0.0778    |  0.0740    | -0.0099    | 1          |\n",
       "| 4/30/1977  | 0.0424     |  0.0015    | -0.0012    | 0.0344     | 0.0038     | -0.0173    | 0.0106     | -0.0103    | -0.0141    |  0.0053    | 1          |\n",
       "\n"
      ],
      "text/plain": [
       "  Date       Mom    Mkt_rf  SMB     HML    RF     QMJ     BAB    Brk_ret\n",
       "1 11/30/1976 0.0290  0.0036  0.0231 0.0152 0.0040 -0.0201 0.0045  0.1544\n",
       "2 12/31/1976 0.0078  0.0565  0.0300 0.0223 0.0040 -0.0089 0.0317  0.1465\n",
       "3 1/31/1977  0.0397 -0.0405  0.0478 0.0427 0.0036 -0.0263 0.0407  0.0000\n",
       "4 2/28/1977  0.0038 -0.0195  0.0108 0.0051 0.0035  0.0207 0.0249  0.0000\n",
       "5 3/31/1977  0.0049 -0.0137  0.0099 0.0100 0.0038 -0.0085 0.0123  0.0778\n",
       "6 4/30/1977  0.0424  0.0015 -0.0012 0.0344 0.0038 -0.0173 0.0106 -0.0103\n",
       "  Brk_exret Mkt     Subperiod\n",
       "1  0.1504    0.0076 1        \n",
       "2  0.1425    0.0605 1        \n",
       "3 -0.0036   -0.0369 1        \n",
       "4 -0.0035   -0.0160 1        \n",
       "5  0.0740   -0.0099 1        \n",
       "6 -0.0141    0.0053 1        "
      ]
     },
     "metadata": {},
     "output_type": "display_data"
    }
   ],
   "source": [
    "data <- read.csv(\"factors.csv\")\n",
    "head(data)"
   ]
  },
  {
   "cell_type": "code",
   "execution_count": 23,
   "metadata": {},
   "outputs": [
    {
     "data": {
      "text/html": [
       "<table>\n",
       "<thead><tr><th scope=col>Date</th><th scope=col>Mom</th><th scope=col>Mkt_rf</th><th scope=col>SMB</th><th scope=col>HML</th><th scope=col>RF</th><th scope=col>QMJ</th><th scope=col>BAB</th><th scope=col>Brk_ret</th><th scope=col>Brk_exret</th><th scope=col>Mkt</th><th scope=col>Subperiod</th></tr></thead>\n",
       "<tbody>\n",
       "\t<tr><td>1976-11-30</td><td>0.0290    </td><td> 0.0036   </td><td> 0.0231   </td><td>0.0152    </td><td>0.0040    </td><td>-0.0201   </td><td>0.0045    </td><td> 0.1544   </td><td> 0.1504   </td><td> 0.0076   </td><td>1         </td></tr>\n",
       "\t<tr><td>1976-12-31</td><td>0.0078    </td><td> 0.0565   </td><td> 0.0300   </td><td>0.0223    </td><td>0.0040    </td><td>-0.0089   </td><td>0.0317    </td><td> 0.1465   </td><td> 0.1425   </td><td> 0.0605   </td><td>1         </td></tr>\n",
       "\t<tr><td>1977-01-31</td><td>0.0397    </td><td>-0.0405   </td><td> 0.0478   </td><td>0.0427    </td><td>0.0036    </td><td>-0.0263   </td><td>0.0407    </td><td> 0.0000   </td><td>-0.0036   </td><td>-0.0369   </td><td>1         </td></tr>\n",
       "\t<tr><td>1977-02-28</td><td>0.0038    </td><td>-0.0195   </td><td> 0.0108   </td><td>0.0051    </td><td>0.0035    </td><td> 0.0207   </td><td>0.0249    </td><td> 0.0000   </td><td>-0.0035   </td><td>-0.0160   </td><td>1         </td></tr>\n",
       "\t<tr><td>1977-03-31</td><td>0.0049    </td><td>-0.0137   </td><td> 0.0099   </td><td>0.0100    </td><td>0.0038    </td><td>-0.0085   </td><td>0.0123    </td><td> 0.0778   </td><td> 0.0740   </td><td>-0.0099   </td><td>1         </td></tr>\n",
       "\t<tr><td>1977-04-30</td><td>0.0424    </td><td> 0.0015   </td><td>-0.0012   </td><td>0.0344    </td><td>0.0038    </td><td>-0.0173   </td><td>0.0106    </td><td>-0.0103   </td><td>-0.0141   </td><td> 0.0053   </td><td>1         </td></tr>\n",
       "</tbody>\n",
       "</table>\n"
      ],
      "text/latex": [
       "\\begin{tabular}{r|llllllllllll}\n",
       " Date & Mom & Mkt\\_rf & SMB & HML & RF & QMJ & BAB & Brk\\_ret & Brk\\_exret & Mkt & Subperiod\\\\\n",
       "\\hline\n",
       "\t 1976-11-30 & 0.0290     &  0.0036    &  0.0231    & 0.0152     & 0.0040     & -0.0201    & 0.0045     &  0.1544    &  0.1504    &  0.0076    & 1         \\\\\n",
       "\t 1976-12-31 & 0.0078     &  0.0565    &  0.0300    & 0.0223     & 0.0040     & -0.0089    & 0.0317     &  0.1465    &  0.1425    &  0.0605    & 1         \\\\\n",
       "\t 1977-01-31 & 0.0397     & -0.0405    &  0.0478    & 0.0427     & 0.0036     & -0.0263    & 0.0407     &  0.0000    & -0.0036    & -0.0369    & 1         \\\\\n",
       "\t 1977-02-28 & 0.0038     & -0.0195    &  0.0108    & 0.0051     & 0.0035     &  0.0207    & 0.0249     &  0.0000    & -0.0035    & -0.0160    & 1         \\\\\n",
       "\t 1977-03-31 & 0.0049     & -0.0137    &  0.0099    & 0.0100     & 0.0038     & -0.0085    & 0.0123     &  0.0778    &  0.0740    & -0.0099    & 1         \\\\\n",
       "\t 1977-04-30 & 0.0424     &  0.0015    & -0.0012    & 0.0344     & 0.0038     & -0.0173    & 0.0106     & -0.0103    & -0.0141    &  0.0053    & 1         \\\\\n",
       "\\end{tabular}\n"
      ],
      "text/markdown": [
       "\n",
       "| Date | Mom | Mkt_rf | SMB | HML | RF | QMJ | BAB | Brk_ret | Brk_exret | Mkt | Subperiod |\n",
       "|---|---|---|---|---|---|---|---|---|---|---|---|\n",
       "| 1976-11-30 | 0.0290     |  0.0036    |  0.0231    | 0.0152     | 0.0040     | -0.0201    | 0.0045     |  0.1544    |  0.1504    |  0.0076    | 1          |\n",
       "| 1976-12-31 | 0.0078     |  0.0565    |  0.0300    | 0.0223     | 0.0040     | -0.0089    | 0.0317     |  0.1465    |  0.1425    |  0.0605    | 1          |\n",
       "| 1977-01-31 | 0.0397     | -0.0405    |  0.0478    | 0.0427     | 0.0036     | -0.0263    | 0.0407     |  0.0000    | -0.0036    | -0.0369    | 1          |\n",
       "| 1977-02-28 | 0.0038     | -0.0195    |  0.0108    | 0.0051     | 0.0035     |  0.0207    | 0.0249     |  0.0000    | -0.0035    | -0.0160    | 1          |\n",
       "| 1977-03-31 | 0.0049     | -0.0137    |  0.0099    | 0.0100     | 0.0038     | -0.0085    | 0.0123     |  0.0778    |  0.0740    | -0.0099    | 1          |\n",
       "| 1977-04-30 | 0.0424     |  0.0015    | -0.0012    | 0.0344     | 0.0038     | -0.0173    | 0.0106     | -0.0103    | -0.0141    |  0.0053    | 1          |\n",
       "\n"
      ],
      "text/plain": [
       "  Date       Mom    Mkt_rf  SMB     HML    RF     QMJ     BAB    Brk_ret\n",
       "1 1976-11-30 0.0290  0.0036  0.0231 0.0152 0.0040 -0.0201 0.0045  0.1544\n",
       "2 1976-12-31 0.0078  0.0565  0.0300 0.0223 0.0040 -0.0089 0.0317  0.1465\n",
       "3 1977-01-31 0.0397 -0.0405  0.0478 0.0427 0.0036 -0.0263 0.0407  0.0000\n",
       "4 1977-02-28 0.0038 -0.0195  0.0108 0.0051 0.0035  0.0207 0.0249  0.0000\n",
       "5 1977-03-31 0.0049 -0.0137  0.0099 0.0100 0.0038 -0.0085 0.0123  0.0778\n",
       "6 1977-04-30 0.0424  0.0015 -0.0012 0.0344 0.0038 -0.0173 0.0106 -0.0103\n",
       "  Brk_exret Mkt     Subperiod\n",
       "1  0.1504    0.0076 1        \n",
       "2  0.1425    0.0605 1        \n",
       "3 -0.0036   -0.0369 1        \n",
       "4 -0.0035   -0.0160 1        \n",
       "5  0.0740   -0.0099 1        \n",
       "6 -0.0141    0.0053 1        "
      ]
     },
     "metadata": {},
     "output_type": "display_data"
    }
   ],
   "source": [
    "data$Date<-mdy(data$Date)\n",
    "data2<-data[order(data$Date),]\n",
    "head(data2)"
   ]
  },
  {
   "cell_type": "code",
   "execution_count": 24,
   "metadata": {},
   "outputs": [
    {
     "data": {
      "text/plain": [
       "\n",
       "Call:\n",
       "lm(formula = Brk_exret ~ Mkt_rf, data = data)\n",
       "\n",
       "Residuals:\n",
       "     Min       1Q   Median       3Q      Max \n",
       "-0.17263 -0.03475 -0.00688  0.02608  0.33062 \n",
       "\n",
       "Coefficients:\n",
       "            Estimate Std. Error t value Pr(>|t|)    \n",
       "(Intercept) 0.010829   0.002724   3.976 8.06e-05 ***\n",
       "Mkt_rf      0.689758   0.061777  11.165  < 2e-16 ***\n",
       "---\n",
       "Signif. codes:  0 ‘***’ 0.001 ‘**’ 0.01 ‘*’ 0.05 ‘.’ 0.1 ‘ ’ 1\n",
       "\n",
       "Residual standard error: 0.06025 on 498 degrees of freedom\n",
       "Multiple R-squared:  0.2002,\tAdjusted R-squared:  0.1986 \n",
       "F-statistic: 124.7 on 1 and 498 DF,  p-value: < 2.2e-16\n"
      ]
     },
     "metadata": {},
     "output_type": "display_data"
    }
   ],
   "source": [
    "factor1 <- lm(Brk_exret ~ Mkt_rf, data = data)\n",
    "summary(factor1)"
   ]
  },
  {
   "cell_type": "code",
   "execution_count": 25,
   "metadata": {},
   "outputs": [
    {
     "data": {
      "text/plain": [
       "\n",
       "Call:\n",
       "lm(formula = Brk_exret ~ Mkt_rf + SMB + HML, data = data)\n",
       "\n",
       "Residuals:\n",
       "     Min       1Q   Median       3Q      Max \n",
       "-0.14769 -0.03547 -0.01046  0.02657  0.32709 \n",
       "\n",
       "Coefficients:\n",
       "             Estimate Std. Error t value Pr(>|t|)    \n",
       "(Intercept)  0.009479   0.002656   3.569 0.000394 ***\n",
       "Mkt_rf       0.819784   0.062958  13.021  < 2e-16 ***\n",
       "SMB         -0.292105   0.090797  -3.217 0.001379 ** \n",
       "HML          0.451674   0.096140   4.698 3.41e-06 ***\n",
       "---\n",
       "Signif. codes:  0 ‘***’ 0.001 ‘**’ 0.01 ‘*’ 0.05 ‘.’ 0.1 ‘ ’ 1\n",
       "\n",
       "Residual standard error: 0.05806 on 496 degrees of freedom\n",
       "Multiple R-squared:  0.2603,\tAdjusted R-squared:  0.2558 \n",
       "F-statistic: 58.18 on 3 and 496 DF,  p-value: < 2.2e-16\n"
      ]
     },
     "metadata": {},
     "output_type": "display_data"
    }
   ],
   "source": [
    "factor2 <- lm(Brk_exret ~ Mkt_rf+SMB+HML, data = data)\n",
    "summary(factor2)"
   ]
  },
  {
   "cell_type": "code",
   "execution_count": 26,
   "metadata": {},
   "outputs": [
    {
     "name": "stdout",
     "output_type": "stream",
     "text": [
      "\n",
      "====================================================================\n",
      "                                  Dependent variable:               \n",
      "                    ------------------------------------------------\n",
      "                                       Brk_exret                    \n",
      "                              (1)                      (2)          \n",
      "--------------------------------------------------------------------\n",
      "Mkt_rf                      0.690***                0.820***        \n",
      "                            (0.062)                  (0.063)        \n",
      "                                                                    \n",
      "SMB                                                 -0.292***       \n",
      "                                                     (0.091)        \n",
      "                                                                    \n",
      "HML                                                 0.452***        \n",
      "                                                     (0.096)        \n",
      "                                                                    \n",
      "Constant                    0.011***                0.009***        \n",
      "                            (0.003)                  (0.003)        \n",
      "                                                                    \n",
      "--------------------------------------------------------------------\n",
      "Observations                  500                      500          \n",
      "R2                           0.200                    0.260         \n",
      "Adjusted R2                  0.199                    0.256         \n",
      "Residual Std. Error     0.060 (df = 498)        0.058 (df = 496)    \n",
      "F Statistic         124.665*** (df = 1; 498) 58.184*** (df = 3; 496)\n",
      "====================================================================\n",
      "Note:                                    *p<0.1; **p<0.05; ***p<0.01\n"
     ]
    }
   ],
   "source": [
    "stargazer(factor1, factor2, align = TRUE, type = \"text\", out = \"factorModelFull.html\")\n"
   ]
  },
  {
   "cell_type": "code",
   "execution_count": 27,
   "metadata": {},
   "outputs": [
    {
     "data": {
      "text/plain": [
       "\n",
       "Call:\n",
       "lm(formula = Brk_exret ~ Mkt_rf + SMB + HML + Mom + BAB, data = data)\n",
       "\n",
       "Residuals:\n",
       "     Min       1Q   Median       3Q      Max \n",
       "-0.14599 -0.03431 -0.00806  0.02501  0.32658 \n",
       "\n",
       "Coefficients:\n",
       "             Estimate Std. Error t value Pr(>|t|)    \n",
       "(Intercept)  0.006935   0.002722   2.547 0.011158 *  \n",
       "Mkt_rf       0.835874   0.063142  13.238  < 2e-16 ***\n",
       "SMB         -0.303136   0.089758  -3.377 0.000790 ***\n",
       "HML          0.318933   0.106074   3.007 0.002776 ** \n",
       "Mom         -0.012926   0.064335  -0.201 0.840841    \n",
       "BAB          0.323216   0.084987   3.803 0.000161 ***\n",
       "---\n",
       "Signif. codes:  0 ‘***’ 0.001 ‘**’ 0.01 ‘*’ 0.05 ‘.’ 0.1 ‘ ’ 1\n",
       "\n",
       "Residual standard error: 0.05728 on 494 degrees of freedom\n",
       "Multiple R-squared:  0.2829,\tAdjusted R-squared:  0.2757 \n",
       "F-statistic: 38.98 on 5 and 494 DF,  p-value: < 2.2e-16\n"
      ]
     },
     "metadata": {},
     "output_type": "display_data"
    }
   ],
   "source": [
    "factor6 <- lm(Brk_exret ~ Mkt_rf+SMB+HML+Mom+BAB, data = data)\n",
    "summary(factor6)"
   ]
  },
  {
   "cell_type": "code",
   "execution_count": 28,
   "metadata": {},
   "outputs": [
    {
     "name": "stdout",
     "output_type": "stream",
     "text": [
      "\n",
      "============================================================================================\n",
      "                                              Dependent variable:                           \n",
      "                    ------------------------------------------------------------------------\n",
      "                                                   Brk_exret                                \n",
      "                              (1)                      (2)                     (3)          \n",
      "--------------------------------------------------------------------------------------------\n",
      "Mkt_rf                      0.690***                0.820***                0.836***        \n",
      "                            (0.062)                  (0.063)                 (0.063)        \n",
      "                                                                                            \n",
      "SMB                                                 -0.292***               -0.303***       \n",
      "                                                     (0.091)                 (0.090)        \n",
      "                                                                                            \n",
      "HML                                                 0.452***                0.319***        \n",
      "                                                     (0.096)                 (0.106)        \n",
      "                                                                                            \n",
      "Mom                                                                          -0.013         \n",
      "                                                                             (0.064)        \n",
      "                                                                                            \n",
      "BAB                                                                         0.323***        \n",
      "                                                                             (0.085)        \n",
      "                                                                                            \n",
      "Constant                    0.011***                0.009***                 0.007**        \n",
      "                            (0.003)                  (0.003)                 (0.003)        \n",
      "                                                                                            \n",
      "--------------------------------------------------------------------------------------------\n",
      "Observations                  500                      500                     500          \n",
      "R2                           0.200                    0.260                   0.283         \n",
      "Adjusted R2                  0.199                    0.256                   0.276         \n",
      "Residual Std. Error     0.060 (df = 498)        0.058 (df = 496)        0.057 (df = 494)    \n",
      "F Statistic         124.665*** (df = 1; 498) 58.184*** (df = 3; 496) 38.982*** (df = 5; 494)\n",
      "============================================================================================\n",
      "Note:                                                            *p<0.1; **p<0.05; ***p<0.01\n"
     ]
    }
   ],
   "source": [
    "stargazer(factor1, factor2, factor6, align = TRUE, type = \"text\", out = \"factorModelFull.html\")\n"
   ]
  },
  {
   "cell_type": "code",
   "execution_count": null,
   "metadata": {},
   "outputs": [],
   "source": []
  }
 ],
 "metadata": {
  "kernelspec": {
   "display_name": "R",
   "language": "R",
   "name": "ir"
  },
  "language_info": {
   "codemirror_mode": "r",
   "file_extension": ".r",
   "mimetype": "text/x-r-source",
   "name": "R",
   "pygments_lexer": "r",
   "version": "3.6.1"
  }
 },
 "nbformat": 4,
 "nbformat_minor": 2
}
