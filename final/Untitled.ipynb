{
 "cells": [
  {
   "cell_type": "code",
   "execution_count": 6,
   "metadata": {},
   "outputs": [
    {
     "data": {
      "text/html": [
       "<ol class=list-inline>\n",
       "\t<li>21</li>\n",
       "\t<li>21</li>\n",
       "\t<li>22.8</li>\n",
       "\t<li>21.4</li>\n",
       "\t<li>18.7</li>\n",
       "\t<li>18.1</li>\n",
       "</ol>\n"
      ],
      "text/latex": [
       "\\begin{enumerate*}\n",
       "\\item 21\n",
       "\\item 21\n",
       "\\item 22.8\n",
       "\\item 21.4\n",
       "\\item 18.7\n",
       "\\item 18.1\n",
       "\\end{enumerate*}\n"
      ],
      "text/markdown": [
       "1. 21\n",
       "2. 21\n",
       "3. 22.8\n",
       "4. 21.4\n",
       "5. 18.7\n",
       "6. 18.1\n",
       "\n",
       "\n"
      ],
      "text/plain": [
       "[1] 21.0 21.0 22.8 21.4 18.7 18.1"
      ]
     },
     "metadata": {},
     "output_type": "display_data"
    },
    {
     "data": {
      "text/html": [
       "<table>\n",
       "<caption>A data.frame: 6 × 11</caption>\n",
       "<thead>\n",
       "\t<tr><th></th><th scope=col>mpg</th><th scope=col>cyl</th><th scope=col>disp</th><th scope=col>hp</th><th scope=col>drat</th><th scope=col>wt</th><th scope=col>qsec</th><th scope=col>vs</th><th scope=col>am</th><th scope=col>gear</th><th scope=col>carb</th></tr>\n",
       "\t<tr><th></th><th scope=col>&lt;dbl&gt;</th><th scope=col>&lt;dbl&gt;</th><th scope=col>&lt;dbl&gt;</th><th scope=col>&lt;dbl&gt;</th><th scope=col>&lt;dbl&gt;</th><th scope=col>&lt;dbl&gt;</th><th scope=col>&lt;dbl&gt;</th><th scope=col>&lt;dbl&gt;</th><th scope=col>&lt;dbl&gt;</th><th scope=col>&lt;dbl&gt;</th><th scope=col>&lt;dbl&gt;</th></tr>\n",
       "</thead>\n",
       "<tbody>\n",
       "\t<tr><th scope=row>Mazda RX4</th><td>21.0</td><td>6</td><td>160</td><td>110</td><td>3.90</td><td>2.620</td><td>16.46</td><td>0</td><td>1</td><td>4</td><td>4</td></tr>\n",
       "\t<tr><th scope=row>Mazda RX4 Wag</th><td>21.0</td><td>6</td><td>160</td><td>110</td><td>3.90</td><td>2.875</td><td>17.02</td><td>0</td><td>1</td><td>4</td><td>4</td></tr>\n",
       "\t<tr><th scope=row>Datsun 710</th><td>22.8</td><td>4</td><td>108</td><td> 93</td><td>3.85</td><td>2.320</td><td>18.61</td><td>1</td><td>1</td><td>4</td><td>1</td></tr>\n",
       "\t<tr><th scope=row>Hornet 4 Drive</th><td>21.4</td><td>6</td><td>258</td><td>110</td><td>3.08</td><td>3.215</td><td>19.44</td><td>1</td><td>0</td><td>3</td><td>1</td></tr>\n",
       "\t<tr><th scope=row>Hornet Sportabout</th><td>18.7</td><td>8</td><td>360</td><td>175</td><td>3.15</td><td>3.440</td><td>17.02</td><td>0</td><td>0</td><td>3</td><td>2</td></tr>\n",
       "\t<tr><th scope=row>Valiant</th><td>18.1</td><td>6</td><td>225</td><td>105</td><td>2.76</td><td>3.460</td><td>20.22</td><td>1</td><td>0</td><td>3</td><td>1</td></tr>\n",
       "</tbody>\n",
       "</table>\n"
      ],
      "text/latex": [
       "A data.frame: 6 × 11\n",
       "\\begin{tabular}{r|lllllllllll}\n",
       "  & mpg & cyl & disp & hp & drat & wt & qsec & vs & am & gear & carb\\\\\n",
       "  & <dbl> & <dbl> & <dbl> & <dbl> & <dbl> & <dbl> & <dbl> & <dbl> & <dbl> & <dbl> & <dbl>\\\\\n",
       "\\hline\n",
       "\tMazda RX4 & 21.0 & 6 & 160 & 110 & 3.90 & 2.620 & 16.46 & 0 & 1 & 4 & 4\\\\\n",
       "\tMazda RX4 Wag & 21.0 & 6 & 160 & 110 & 3.90 & 2.875 & 17.02 & 0 & 1 & 4 & 4\\\\\n",
       "\tDatsun 710 & 22.8 & 4 & 108 &  93 & 3.85 & 2.320 & 18.61 & 1 & 1 & 4 & 1\\\\\n",
       "\tHornet 4 Drive & 21.4 & 6 & 258 & 110 & 3.08 & 3.215 & 19.44 & 1 & 0 & 3 & 1\\\\\n",
       "\tHornet Sportabout & 18.7 & 8 & 360 & 175 & 3.15 & 3.440 & 17.02 & 0 & 0 & 3 & 2\\\\\n",
       "\tValiant & 18.1 & 6 & 225 & 105 & 2.76 & 3.460 & 20.22 & 1 & 0 & 3 & 1\\\\\n",
       "\\end{tabular}\n"
      ],
      "text/markdown": [
       "\n",
       "A data.frame: 6 × 11\n",
       "\n",
       "| <!--/--> | mpg &lt;dbl&gt; | cyl &lt;dbl&gt; | disp &lt;dbl&gt; | hp &lt;dbl&gt; | drat &lt;dbl&gt; | wt &lt;dbl&gt; | qsec &lt;dbl&gt; | vs &lt;dbl&gt; | am &lt;dbl&gt; | gear &lt;dbl&gt; | carb &lt;dbl&gt; |\n",
       "|---|---|---|---|---|---|---|---|---|---|---|---|\n",
       "| Mazda RX4 | 21.0 | 6 | 160 | 110 | 3.90 | 2.620 | 16.46 | 0 | 1 | 4 | 4 |\n",
       "| Mazda RX4 Wag | 21.0 | 6 | 160 | 110 | 3.90 | 2.875 | 17.02 | 0 | 1 | 4 | 4 |\n",
       "| Datsun 710 | 22.8 | 4 | 108 |  93 | 3.85 | 2.320 | 18.61 | 1 | 1 | 4 | 1 |\n",
       "| Hornet 4 Drive | 21.4 | 6 | 258 | 110 | 3.08 | 3.215 | 19.44 | 1 | 0 | 3 | 1 |\n",
       "| Hornet Sportabout | 18.7 | 8 | 360 | 175 | 3.15 | 3.440 | 17.02 | 0 | 0 | 3 | 2 |\n",
       "| Valiant | 18.1 | 6 | 225 | 105 | 2.76 | 3.460 | 20.22 | 1 | 0 | 3 | 1 |\n",
       "\n"
      ],
      "text/plain": [
       "                  mpg  cyl disp hp  drat wt    qsec  vs am gear carb\n",
       "Mazda RX4         21.0 6   160  110 3.90 2.620 16.46 0  1  4    4   \n",
       "Mazda RX4 Wag     21.0 6   160  110 3.90 2.875 17.02 0  1  4    4   \n",
       "Datsun 710        22.8 4   108   93 3.85 2.320 18.61 1  1  4    1   \n",
       "Hornet 4 Drive    21.4 6   258  110 3.08 3.215 19.44 1  0  3    1   \n",
       "Hornet Sportabout 18.7 8   360  175 3.15 3.440 17.02 0  0  3    2   \n",
       "Valiant           18.1 6   225  105 2.76 3.460 20.22 1  0  3    1   "
      ]
     },
     "metadata": {},
     "output_type": "display_data"
    }
   ],
   "source": [
    "carsData <- as.data.frame(mtcars)\n",
    "head(carsData$mpg)\n",
    "head(carsData)"
   ]
  },
  {
   "cell_type": "code",
   "execution_count": 14,
   "metadata": {},
   "outputs": [],
   "source": [
    "lm.fit = lm(mpg~hp+wt, data=carsData)"
   ]
  },
  {
   "cell_type": "code",
   "execution_count": 15,
   "metadata": {},
   "outputs": [
    {
     "data": {
      "text/plain": [
       "\n",
       "Call:\n",
       "lm(formula = mpg ~ hp + wt, data = carsData)\n",
       "\n",
       "Residuals:\n",
       "   Min     1Q Median     3Q    Max \n",
       "-3.941 -1.600 -0.182  1.050  5.854 \n",
       "\n",
       "Coefficients:\n",
       "            Estimate Std. Error t value Pr(>|t|)    \n",
       "(Intercept) 37.22727    1.59879  23.285  < 2e-16 ***\n",
       "hp          -0.03177    0.00903  -3.519  0.00145 ** \n",
       "wt          -3.87783    0.63273  -6.129 1.12e-06 ***\n",
       "---\n",
       "Signif. codes:  0 ‘***’ 0.001 ‘**’ 0.01 ‘*’ 0.05 ‘.’ 0.1 ‘ ’ 1\n",
       "\n",
       "Residual standard error: 2.593 on 29 degrees of freedom\n",
       "Multiple R-squared:  0.8268,\tAdjusted R-squared:  0.8148 \n",
       "F-statistic: 69.21 on 2 and 29 DF,  p-value: 9.109e-12\n"
      ]
     },
     "metadata": {},
     "output_type": "display_data"
    }
   ],
   "source": [
    "summary(lm.fit)"
   ]
  },
  {
   "cell_type": "code",
   "execution_count": 16,
   "metadata": {},
   "outputs": [],
   "source": [
    "newData <- data.frame(disp = 250, hp = 175, wt = 3.5)"
   ]
  },
  {
   "cell_type": "code",
   "execution_count": 17,
   "metadata": {},
   "outputs": [
    {
     "data": {
      "text/html": [
       "<table>\n",
       "<caption>A matrix: 1 × 3 of type dbl</caption>\n",
       "<thead>\n",
       "\t<tr><th scope=col>fit</th><th scope=col>lwr</th><th scope=col>upr</th></tr>\n",
       "</thead>\n",
       "<tbody>\n",
       "\t<tr><td>18.0946</td><td>12.69385</td><td>23.49535</td></tr>\n",
       "</tbody>\n",
       "</table>\n"
      ],
      "text/latex": [
       "A matrix: 1 × 3 of type dbl\n",
       "\\begin{tabular}{r|lll}\n",
       " fit & lwr & upr\\\\\n",
       "\\hline\n",
       "\t 18.0946 & 12.69385 & 23.49535\\\\\n",
       "\\end{tabular}\n"
      ],
      "text/markdown": [
       "\n",
       "A matrix: 1 × 3 of type dbl\n",
       "\n",
       "| fit | lwr | upr |\n",
       "|---|---|---|\n",
       "| 18.0946 | 12.69385 | 23.49535 |\n",
       "\n"
      ],
      "text/plain": [
       "  fit     lwr      upr     \n",
       "1 18.0946 12.69385 23.49535"
      ]
     },
     "metadata": {},
     "output_type": "display_data"
    }
   ],
   "source": [
    "predict(lm.fit, newData, interval=\"prediction\")"
   ]
  },
  {
   "cell_type": "code",
   "execution_count": 18,
   "metadata": {},
   "outputs": [],
   "source": [
    "dm = read.csv(\"direct_marketing.csv\", header = TRUE)"
   ]
  },
  {
   "cell_type": "code",
   "execution_count": 20,
   "metadata": {},
   "outputs": [
    {
     "data": {
      "text/html": [
       "<table>\n",
       "<caption>A data.frame: 6 × 10</caption>\n",
       "<thead>\n",
       "\t<tr><th scope=col>Age</th><th scope=col>Gender</th><th scope=col>OwnHome</th><th scope=col>Married</th><th scope=col>Location</th><th scope=col>Salary</th><th scope=col>Children</th><th scope=col>History</th><th scope=col>Catalogs</th><th scope=col>AmountSpent</th></tr>\n",
       "\t<tr><th scope=col>&lt;fct&gt;</th><th scope=col>&lt;fct&gt;</th><th scope=col>&lt;fct&gt;</th><th scope=col>&lt;fct&gt;</th><th scope=col>&lt;fct&gt;</th><th scope=col>&lt;int&gt;</th><th scope=col>&lt;int&gt;</th><th scope=col>&lt;fct&gt;</th><th scope=col>&lt;int&gt;</th><th scope=col>&lt;dbl&gt;</th></tr>\n",
       "</thead>\n",
       "<tbody>\n",
       "\t<tr><td>Old   </td><td>Female</td><td>Own </td><td>Single </td><td>Far  </td><td>47500</td><td>0</td><td>High</td><td> 6</td><td> 75.5</td></tr>\n",
       "\t<tr><td>Middle</td><td>Male  </td><td>Rent</td><td>Single </td><td>Close</td><td>63600</td><td>0</td><td>High</td><td> 6</td><td>131.8</td></tr>\n",
       "\t<tr><td>Young </td><td>Female</td><td>Rent</td><td>Single </td><td>Close</td><td>13500</td><td>0</td><td>Low </td><td>18</td><td> 29.6</td></tr>\n",
       "\t<tr><td>Middle</td><td>Male  </td><td>Own </td><td>Married</td><td>Close</td><td>85600</td><td>1</td><td>High</td><td>18</td><td>243.6</td></tr>\n",
       "\t<tr><td>Middle</td><td>Female</td><td>Own </td><td>Single </td><td>Close</td><td>68400</td><td>0</td><td>High</td><td>12</td><td>130.4</td></tr>\n",
       "\t<tr><td>Young </td><td>Male  </td><td>Own </td><td>Married</td><td>Close</td><td>30400</td><td>0</td><td>Low </td><td> 6</td><td> 49.5</td></tr>\n",
       "</tbody>\n",
       "</table>\n"
      ],
      "text/latex": [
       "A data.frame: 6 × 10\n",
       "\\begin{tabular}{r|llllllllll}\n",
       " Age & Gender & OwnHome & Married & Location & Salary & Children & History & Catalogs & AmountSpent\\\\\n",
       " <fct> & <fct> & <fct> & <fct> & <fct> & <int> & <int> & <fct> & <int> & <dbl>\\\\\n",
       "\\hline\n",
       "\t Old    & Female & Own  & Single  & Far   & 47500 & 0 & High &  6 &  75.5\\\\\n",
       "\t Middle & Male   & Rent & Single  & Close & 63600 & 0 & High &  6 & 131.8\\\\\n",
       "\t Young  & Female & Rent & Single  & Close & 13500 & 0 & Low  & 18 &  29.6\\\\\n",
       "\t Middle & Male   & Own  & Married & Close & 85600 & 1 & High & 18 & 243.6\\\\\n",
       "\t Middle & Female & Own  & Single  & Close & 68400 & 0 & High & 12 & 130.4\\\\\n",
       "\t Young  & Male   & Own  & Married & Close & 30400 & 0 & Low  &  6 &  49.5\\\\\n",
       "\\end{tabular}\n"
      ],
      "text/markdown": [
       "\n",
       "A data.frame: 6 × 10\n",
       "\n",
       "| Age &lt;fct&gt; | Gender &lt;fct&gt; | OwnHome &lt;fct&gt; | Married &lt;fct&gt; | Location &lt;fct&gt; | Salary &lt;int&gt; | Children &lt;int&gt; | History &lt;fct&gt; | Catalogs &lt;int&gt; | AmountSpent &lt;dbl&gt; |\n",
       "|---|---|---|---|---|---|---|---|---|---|\n",
       "| Old    | Female | Own  | Single  | Far   | 47500 | 0 | High |  6 |  75.5 |\n",
       "| Middle | Male   | Rent | Single  | Close | 63600 | 0 | High |  6 | 131.8 |\n",
       "| Young  | Female | Rent | Single  | Close | 13500 | 0 | Low  | 18 |  29.6 |\n",
       "| Middle | Male   | Own  | Married | Close | 85600 | 1 | High | 18 | 243.6 |\n",
       "| Middle | Female | Own  | Single  | Close | 68400 | 0 | High | 12 | 130.4 |\n",
       "| Young  | Male   | Own  | Married | Close | 30400 | 0 | Low  |  6 |  49.5 |\n",
       "\n"
      ],
      "text/plain": [
       "  Age    Gender OwnHome Married Location Salary Children History Catalogs\n",
       "1 Old    Female Own     Single  Far      47500  0        High     6      \n",
       "2 Middle Male   Rent    Single  Close    63600  0        High     6      \n",
       "3 Young  Female Rent    Single  Close    13500  0        Low     18      \n",
       "4 Middle Male   Own     Married Close    85600  1        High    18      \n",
       "5 Middle Female Own     Single  Close    68400  0        High    12      \n",
       "6 Young  Male   Own     Married Close    30400  0        Low      6      \n",
       "  AmountSpent\n",
       "1  75.5      \n",
       "2 131.8      \n",
       "3  29.6      \n",
       "4 243.6      \n",
       "5 130.4      \n",
       "6  49.5      "
      ]
     },
     "metadata": {},
     "output_type": "display_data"
    }
   ],
   "source": [
    "head(dm)"
   ]
  },
  {
   "cell_type": "code",
   "execution_count": 21,
   "metadata": {},
   "outputs": [],
   "source": [
    "dm$Gender <- as.factor(dm$Gender)"
   ]
  },
  {
   "cell_type": "code",
   "execution_count": 22,
   "metadata": {},
   "outputs": [
    {
     "data": {
      "text/html": [
       "<table>\n",
       "<caption>A data.frame: 6 × 10</caption>\n",
       "<thead>\n",
       "\t<tr><th scope=col>Age</th><th scope=col>Gender</th><th scope=col>OwnHome</th><th scope=col>Married</th><th scope=col>Location</th><th scope=col>Salary</th><th scope=col>Children</th><th scope=col>History</th><th scope=col>Catalogs</th><th scope=col>AmountSpent</th></tr>\n",
       "\t<tr><th scope=col>&lt;fct&gt;</th><th scope=col>&lt;fct&gt;</th><th scope=col>&lt;fct&gt;</th><th scope=col>&lt;fct&gt;</th><th scope=col>&lt;fct&gt;</th><th scope=col>&lt;int&gt;</th><th scope=col>&lt;int&gt;</th><th scope=col>&lt;fct&gt;</th><th scope=col>&lt;int&gt;</th><th scope=col>&lt;dbl&gt;</th></tr>\n",
       "</thead>\n",
       "<tbody>\n",
       "\t<tr><td>Old   </td><td>Female</td><td>Own </td><td>Single </td><td>Far  </td><td>47500</td><td>0</td><td>High</td><td> 6</td><td> 75.5</td></tr>\n",
       "\t<tr><td>Middle</td><td>Male  </td><td>Rent</td><td>Single </td><td>Close</td><td>63600</td><td>0</td><td>High</td><td> 6</td><td>131.8</td></tr>\n",
       "\t<tr><td>Young </td><td>Female</td><td>Rent</td><td>Single </td><td>Close</td><td>13500</td><td>0</td><td>Low </td><td>18</td><td> 29.6</td></tr>\n",
       "\t<tr><td>Middle</td><td>Male  </td><td>Own </td><td>Married</td><td>Close</td><td>85600</td><td>1</td><td>High</td><td>18</td><td>243.6</td></tr>\n",
       "\t<tr><td>Middle</td><td>Female</td><td>Own </td><td>Single </td><td>Close</td><td>68400</td><td>0</td><td>High</td><td>12</td><td>130.4</td></tr>\n",
       "\t<tr><td>Young </td><td>Male  </td><td>Own </td><td>Married</td><td>Close</td><td>30400</td><td>0</td><td>Low </td><td> 6</td><td> 49.5</td></tr>\n",
       "</tbody>\n",
       "</table>\n"
      ],
      "text/latex": [
       "A data.frame: 6 × 10\n",
       "\\begin{tabular}{r|llllllllll}\n",
       " Age & Gender & OwnHome & Married & Location & Salary & Children & History & Catalogs & AmountSpent\\\\\n",
       " <fct> & <fct> & <fct> & <fct> & <fct> & <int> & <int> & <fct> & <int> & <dbl>\\\\\n",
       "\\hline\n",
       "\t Old    & Female & Own  & Single  & Far   & 47500 & 0 & High &  6 &  75.5\\\\\n",
       "\t Middle & Male   & Rent & Single  & Close & 63600 & 0 & High &  6 & 131.8\\\\\n",
       "\t Young  & Female & Rent & Single  & Close & 13500 & 0 & Low  & 18 &  29.6\\\\\n",
       "\t Middle & Male   & Own  & Married & Close & 85600 & 1 & High & 18 & 243.6\\\\\n",
       "\t Middle & Female & Own  & Single  & Close & 68400 & 0 & High & 12 & 130.4\\\\\n",
       "\t Young  & Male   & Own  & Married & Close & 30400 & 0 & Low  &  6 &  49.5\\\\\n",
       "\\end{tabular}\n"
      ],
      "text/markdown": [
       "\n",
       "A data.frame: 6 × 10\n",
       "\n",
       "| Age &lt;fct&gt; | Gender &lt;fct&gt; | OwnHome &lt;fct&gt; | Married &lt;fct&gt; | Location &lt;fct&gt; | Salary &lt;int&gt; | Children &lt;int&gt; | History &lt;fct&gt; | Catalogs &lt;int&gt; | AmountSpent &lt;dbl&gt; |\n",
       "|---|---|---|---|---|---|---|---|---|---|\n",
       "| Old    | Female | Own  | Single  | Far   | 47500 | 0 | High |  6 |  75.5 |\n",
       "| Middle | Male   | Rent | Single  | Close | 63600 | 0 | High |  6 | 131.8 |\n",
       "| Young  | Female | Rent | Single  | Close | 13500 | 0 | Low  | 18 |  29.6 |\n",
       "| Middle | Male   | Own  | Married | Close | 85600 | 1 | High | 18 | 243.6 |\n",
       "| Middle | Female | Own  | Single  | Close | 68400 | 0 | High | 12 | 130.4 |\n",
       "| Young  | Male   | Own  | Married | Close | 30400 | 0 | Low  |  6 |  49.5 |\n",
       "\n"
      ],
      "text/plain": [
       "  Age    Gender OwnHome Married Location Salary Children History Catalogs\n",
       "1 Old    Female Own     Single  Far      47500  0        High     6      \n",
       "2 Middle Male   Rent    Single  Close    63600  0        High     6      \n",
       "3 Young  Female Rent    Single  Close    13500  0        Low     18      \n",
       "4 Middle Male   Own     Married Close    85600  1        High    18      \n",
       "5 Middle Female Own     Single  Close    68400  0        High    12      \n",
       "6 Young  Male   Own     Married Close    30400  0        Low      6      \n",
       "  AmountSpent\n",
       "1  75.5      \n",
       "2 131.8      \n",
       "3  29.6      \n",
       "4 243.6      \n",
       "5 130.4      \n",
       "6  49.5      "
      ]
     },
     "metadata": {},
     "output_type": "display_data"
    }
   ],
   "source": [
    "head(dm)"
   ]
  },
  {
   "cell_type": "code",
   "execution_count": 23,
   "metadata": {},
   "outputs": [],
   "source": [
    "lm.fit = lm(AmountSpent~Gender+Salary, data=dm)"
   ]
  },
  {
   "cell_type": "code",
   "execution_count": 24,
   "metadata": {},
   "outputs": [
    {
     "data": {
      "text/plain": [
       "\n",
       "Call:\n",
       "lm(formula = AmountSpent ~ Gender + Salary, data = dm)\n",
       "\n",
       "Residuals:\n",
       "    Min      1Q  Median      3Q     Max \n",
       "-218.06  -32.31   -5.37   28.28  374.28 \n",
       "\n",
       "Coefficients:\n",
       "              Estimate Std. Error t value Pr(>|t|)    \n",
       "(Intercept) -2.515e+00  4.680e+00  -0.537    0.591    \n",
       "GenderMale   3.867e+00  4.503e+00   0.859    0.391    \n",
       "Salary       2.180e-03  7.357e-05  29.626   <2e-16 ***\n",
       "---\n",
       "Signif. codes:  0 ‘***’ 0.001 ‘**’ 0.01 ‘*’ 0.05 ‘.’ 0.1 ‘ ’ 1\n",
       "\n",
       "Residual standard error: 68.72 on 997 degrees of freedom\n",
       "Multiple R-squared:  0.4898,\tAdjusted R-squared:  0.4888 \n",
       "F-statistic: 478.6 on 2 and 997 DF,  p-value: < 2.2e-16\n"
      ]
     },
     "metadata": {},
     "output_type": "display_data"
    }
   ],
   "source": [
    "summary(lm.fit)"
   ]
  },
  {
   "cell_type": "code",
   "execution_count": 25,
   "metadata": {},
   "outputs": [],
   "source": [
    "lm.fit = lm(AmountSpent~Salary, data=dm)"
   ]
  },
  {
   "cell_type": "code",
   "execution_count": 26,
   "metadata": {},
   "outputs": [
    {
     "data": {
      "text/plain": [
       "\n",
       "Call:\n",
       "lm(formula = AmountSpent ~ Salary, data = dm)\n",
       "\n",
       "Residuals:\n",
       "    Min      1Q  Median      3Q     Max \n",
       "-217.97  -31.52   -5.35   27.97  375.29 \n",
       "\n",
       "Coefficients:\n",
       "             Estimate Std. Error t value Pr(>|t|)    \n",
       "(Intercept) -1.531783   4.537416  -0.338    0.736    \n",
       "Salary       0.002196   0.000071  30.930   <2e-16 ***\n",
       "---\n",
       "Signif. codes:  0 ‘***’ 0.001 ‘**’ 0.01 ‘*’ 0.05 ‘.’ 0.1 ‘ ’ 1\n",
       "\n",
       "Residual standard error: 68.71 on 998 degrees of freedom\n",
       "Multiple R-squared:  0.4894,\tAdjusted R-squared:  0.4889 \n",
       "F-statistic: 956.7 on 1 and 998 DF,  p-value: < 2.2e-16\n"
      ]
     },
     "metadata": {},
     "output_type": "display_data"
    }
   ],
   "source": [
    "summary(lm.fit)"
   ]
  },
  {
   "cell_type": "code",
   "execution_count": 27,
   "metadata": {},
   "outputs": [],
   "source": [
    "library(MASS)"
   ]
  },
  {
   "cell_type": "code",
   "execution_count": 28,
   "metadata": {},
   "outputs": [],
   "source": [
    "?Boston"
   ]
  },
  {
   "cell_type": "code",
   "execution_count": 29,
   "metadata": {},
   "outputs": [
    {
     "data": {
      "text/html": [
       "<table>\n",
       "<caption>A data.frame: 6 × 14</caption>\n",
       "<thead>\n",
       "\t<tr><th scope=col>crim</th><th scope=col>zn</th><th scope=col>indus</th><th scope=col>chas</th><th scope=col>nox</th><th scope=col>rm</th><th scope=col>age</th><th scope=col>dis</th><th scope=col>rad</th><th scope=col>tax</th><th scope=col>ptratio</th><th scope=col>black</th><th scope=col>lstat</th><th scope=col>medv</th></tr>\n",
       "\t<tr><th scope=col>&lt;dbl&gt;</th><th scope=col>&lt;dbl&gt;</th><th scope=col>&lt;dbl&gt;</th><th scope=col>&lt;int&gt;</th><th scope=col>&lt;dbl&gt;</th><th scope=col>&lt;dbl&gt;</th><th scope=col>&lt;dbl&gt;</th><th scope=col>&lt;dbl&gt;</th><th scope=col>&lt;int&gt;</th><th scope=col>&lt;dbl&gt;</th><th scope=col>&lt;dbl&gt;</th><th scope=col>&lt;dbl&gt;</th><th scope=col>&lt;dbl&gt;</th><th scope=col>&lt;dbl&gt;</th></tr>\n",
       "</thead>\n",
       "<tbody>\n",
       "\t<tr><td>0.00632</td><td>18</td><td>2.31</td><td>0</td><td>0.538</td><td>6.575</td><td>65.2</td><td>4.0900</td><td>1</td><td>296</td><td>15.3</td><td>396.90</td><td>4.98</td><td>24.0</td></tr>\n",
       "\t<tr><td>0.02731</td><td> 0</td><td>7.07</td><td>0</td><td>0.469</td><td>6.421</td><td>78.9</td><td>4.9671</td><td>2</td><td>242</td><td>17.8</td><td>396.90</td><td>9.14</td><td>21.6</td></tr>\n",
       "\t<tr><td>0.02729</td><td> 0</td><td>7.07</td><td>0</td><td>0.469</td><td>7.185</td><td>61.1</td><td>4.9671</td><td>2</td><td>242</td><td>17.8</td><td>392.83</td><td>4.03</td><td>34.7</td></tr>\n",
       "\t<tr><td>0.03237</td><td> 0</td><td>2.18</td><td>0</td><td>0.458</td><td>6.998</td><td>45.8</td><td>6.0622</td><td>3</td><td>222</td><td>18.7</td><td>394.63</td><td>2.94</td><td>33.4</td></tr>\n",
       "\t<tr><td>0.06905</td><td> 0</td><td>2.18</td><td>0</td><td>0.458</td><td>7.147</td><td>54.2</td><td>6.0622</td><td>3</td><td>222</td><td>18.7</td><td>396.90</td><td>5.33</td><td>36.2</td></tr>\n",
       "\t<tr><td>0.02985</td><td> 0</td><td>2.18</td><td>0</td><td>0.458</td><td>6.430</td><td>58.7</td><td>6.0622</td><td>3</td><td>222</td><td>18.7</td><td>394.12</td><td>5.21</td><td>28.7</td></tr>\n",
       "</tbody>\n",
       "</table>\n"
      ],
      "text/latex": [
       "A data.frame: 6 × 14\n",
       "\\begin{tabular}{r|llllllllllllll}\n",
       " crim & zn & indus & chas & nox & rm & age & dis & rad & tax & ptratio & black & lstat & medv\\\\\n",
       " <dbl> & <dbl> & <dbl> & <int> & <dbl> & <dbl> & <dbl> & <dbl> & <int> & <dbl> & <dbl> & <dbl> & <dbl> & <dbl>\\\\\n",
       "\\hline\n",
       "\t 0.00632 & 18 & 2.31 & 0 & 0.538 & 6.575 & 65.2 & 4.0900 & 1 & 296 & 15.3 & 396.90 & 4.98 & 24.0\\\\\n",
       "\t 0.02731 &  0 & 7.07 & 0 & 0.469 & 6.421 & 78.9 & 4.9671 & 2 & 242 & 17.8 & 396.90 & 9.14 & 21.6\\\\\n",
       "\t 0.02729 &  0 & 7.07 & 0 & 0.469 & 7.185 & 61.1 & 4.9671 & 2 & 242 & 17.8 & 392.83 & 4.03 & 34.7\\\\\n",
       "\t 0.03237 &  0 & 2.18 & 0 & 0.458 & 6.998 & 45.8 & 6.0622 & 3 & 222 & 18.7 & 394.63 & 2.94 & 33.4\\\\\n",
       "\t 0.06905 &  0 & 2.18 & 0 & 0.458 & 7.147 & 54.2 & 6.0622 & 3 & 222 & 18.7 & 396.90 & 5.33 & 36.2\\\\\n",
       "\t 0.02985 &  0 & 2.18 & 0 & 0.458 & 6.430 & 58.7 & 6.0622 & 3 & 222 & 18.7 & 394.12 & 5.21 & 28.7\\\\\n",
       "\\end{tabular}\n"
      ],
      "text/markdown": [
       "\n",
       "A data.frame: 6 × 14\n",
       "\n",
       "| crim &lt;dbl&gt; | zn &lt;dbl&gt; | indus &lt;dbl&gt; | chas &lt;int&gt; | nox &lt;dbl&gt; | rm &lt;dbl&gt; | age &lt;dbl&gt; | dis &lt;dbl&gt; | rad &lt;int&gt; | tax &lt;dbl&gt; | ptratio &lt;dbl&gt; | black &lt;dbl&gt; | lstat &lt;dbl&gt; | medv &lt;dbl&gt; |\n",
       "|---|---|---|---|---|---|---|---|---|---|---|---|---|---|\n",
       "| 0.00632 | 18 | 2.31 | 0 | 0.538 | 6.575 | 65.2 | 4.0900 | 1 | 296 | 15.3 | 396.90 | 4.98 | 24.0 |\n",
       "| 0.02731 |  0 | 7.07 | 0 | 0.469 | 6.421 | 78.9 | 4.9671 | 2 | 242 | 17.8 | 396.90 | 9.14 | 21.6 |\n",
       "| 0.02729 |  0 | 7.07 | 0 | 0.469 | 7.185 | 61.1 | 4.9671 | 2 | 242 | 17.8 | 392.83 | 4.03 | 34.7 |\n",
       "| 0.03237 |  0 | 2.18 | 0 | 0.458 | 6.998 | 45.8 | 6.0622 | 3 | 222 | 18.7 | 394.63 | 2.94 | 33.4 |\n",
       "| 0.06905 |  0 | 2.18 | 0 | 0.458 | 7.147 | 54.2 | 6.0622 | 3 | 222 | 18.7 | 396.90 | 5.33 | 36.2 |\n",
       "| 0.02985 |  0 | 2.18 | 0 | 0.458 | 6.430 | 58.7 | 6.0622 | 3 | 222 | 18.7 | 394.12 | 5.21 | 28.7 |\n",
       "\n"
      ],
      "text/plain": [
       "  crim    zn indus chas nox   rm    age  dis    rad tax ptratio black  lstat\n",
       "1 0.00632 18 2.31  0    0.538 6.575 65.2 4.0900 1   296 15.3    396.90 4.98 \n",
       "2 0.02731  0 7.07  0    0.469 6.421 78.9 4.9671 2   242 17.8    396.90 9.14 \n",
       "3 0.02729  0 7.07  0    0.469 7.185 61.1 4.9671 2   242 17.8    392.83 4.03 \n",
       "4 0.03237  0 2.18  0    0.458 6.998 45.8 6.0622 3   222 18.7    394.63 2.94 \n",
       "5 0.06905  0 2.18  0    0.458 7.147 54.2 6.0622 3   222 18.7    396.90 5.33 \n",
       "6 0.02985  0 2.18  0    0.458 6.430 58.7 6.0622 3   222 18.7    394.12 5.21 \n",
       "  medv\n",
       "1 24.0\n",
       "2 21.6\n",
       "3 34.7\n",
       "4 33.4\n",
       "5 36.2\n",
       "6 28.7"
      ]
     },
     "metadata": {},
     "output_type": "display_data"
    }
   ],
   "source": [
    "head(Boston)"
   ]
  },
  {
   "cell_type": "code",
   "execution_count": 33,
   "metadata": {},
   "outputs": [],
   "source": [
    "library(dplyr)\n",
    "temp <- Boston %>%\n",
    "    mutate(Result = ifelse(medv>30, 1, 0) )"
   ]
  },
  {
   "cell_type": "code",
   "execution_count": 34,
   "metadata": {},
   "outputs": [
    {
     "data": {
      "text/html": [
       "<table>\n",
       "<caption>A data.frame: 6 × 15</caption>\n",
       "<thead>\n",
       "\t<tr><th scope=col>crim</th><th scope=col>zn</th><th scope=col>indus</th><th scope=col>chas</th><th scope=col>nox</th><th scope=col>rm</th><th scope=col>age</th><th scope=col>dis</th><th scope=col>rad</th><th scope=col>tax</th><th scope=col>ptratio</th><th scope=col>black</th><th scope=col>lstat</th><th scope=col>medv</th><th scope=col>Result</th></tr>\n",
       "\t<tr><th scope=col>&lt;dbl&gt;</th><th scope=col>&lt;dbl&gt;</th><th scope=col>&lt;dbl&gt;</th><th scope=col>&lt;int&gt;</th><th scope=col>&lt;dbl&gt;</th><th scope=col>&lt;dbl&gt;</th><th scope=col>&lt;dbl&gt;</th><th scope=col>&lt;dbl&gt;</th><th scope=col>&lt;int&gt;</th><th scope=col>&lt;dbl&gt;</th><th scope=col>&lt;dbl&gt;</th><th scope=col>&lt;dbl&gt;</th><th scope=col>&lt;dbl&gt;</th><th scope=col>&lt;dbl&gt;</th><th scope=col>&lt;dbl&gt;</th></tr>\n",
       "</thead>\n",
       "<tbody>\n",
       "\t<tr><td>0.00632</td><td>18</td><td>2.31</td><td>0</td><td>0.538</td><td>6.575</td><td>65.2</td><td>4.0900</td><td>1</td><td>296</td><td>15.3</td><td>396.90</td><td>4.98</td><td>24.0</td><td>0</td></tr>\n",
       "\t<tr><td>0.02731</td><td> 0</td><td>7.07</td><td>0</td><td>0.469</td><td>6.421</td><td>78.9</td><td>4.9671</td><td>2</td><td>242</td><td>17.8</td><td>396.90</td><td>9.14</td><td>21.6</td><td>0</td></tr>\n",
       "\t<tr><td>0.02729</td><td> 0</td><td>7.07</td><td>0</td><td>0.469</td><td>7.185</td><td>61.1</td><td>4.9671</td><td>2</td><td>242</td><td>17.8</td><td>392.83</td><td>4.03</td><td>34.7</td><td>1</td></tr>\n",
       "\t<tr><td>0.03237</td><td> 0</td><td>2.18</td><td>0</td><td>0.458</td><td>6.998</td><td>45.8</td><td>6.0622</td><td>3</td><td>222</td><td>18.7</td><td>394.63</td><td>2.94</td><td>33.4</td><td>1</td></tr>\n",
       "\t<tr><td>0.06905</td><td> 0</td><td>2.18</td><td>0</td><td>0.458</td><td>7.147</td><td>54.2</td><td>6.0622</td><td>3</td><td>222</td><td>18.7</td><td>396.90</td><td>5.33</td><td>36.2</td><td>1</td></tr>\n",
       "\t<tr><td>0.02985</td><td> 0</td><td>2.18</td><td>0</td><td>0.458</td><td>6.430</td><td>58.7</td><td>6.0622</td><td>3</td><td>222</td><td>18.7</td><td>394.12</td><td>5.21</td><td>28.7</td><td>0</td></tr>\n",
       "</tbody>\n",
       "</table>\n"
      ],
      "text/latex": [
       "A data.frame: 6 × 15\n",
       "\\begin{tabular}{r|lllllllllllllll}\n",
       " crim & zn & indus & chas & nox & rm & age & dis & rad & tax & ptratio & black & lstat & medv & Result\\\\\n",
       " <dbl> & <dbl> & <dbl> & <int> & <dbl> & <dbl> & <dbl> & <dbl> & <int> & <dbl> & <dbl> & <dbl> & <dbl> & <dbl> & <dbl>\\\\\n",
       "\\hline\n",
       "\t 0.00632 & 18 & 2.31 & 0 & 0.538 & 6.575 & 65.2 & 4.0900 & 1 & 296 & 15.3 & 396.90 & 4.98 & 24.0 & 0\\\\\n",
       "\t 0.02731 &  0 & 7.07 & 0 & 0.469 & 6.421 & 78.9 & 4.9671 & 2 & 242 & 17.8 & 396.90 & 9.14 & 21.6 & 0\\\\\n",
       "\t 0.02729 &  0 & 7.07 & 0 & 0.469 & 7.185 & 61.1 & 4.9671 & 2 & 242 & 17.8 & 392.83 & 4.03 & 34.7 & 1\\\\\n",
       "\t 0.03237 &  0 & 2.18 & 0 & 0.458 & 6.998 & 45.8 & 6.0622 & 3 & 222 & 18.7 & 394.63 & 2.94 & 33.4 & 1\\\\\n",
       "\t 0.06905 &  0 & 2.18 & 0 & 0.458 & 7.147 & 54.2 & 6.0622 & 3 & 222 & 18.7 & 396.90 & 5.33 & 36.2 & 1\\\\\n",
       "\t 0.02985 &  0 & 2.18 & 0 & 0.458 & 6.430 & 58.7 & 6.0622 & 3 & 222 & 18.7 & 394.12 & 5.21 & 28.7 & 0\\\\\n",
       "\\end{tabular}\n"
      ],
      "text/markdown": [
       "\n",
       "A data.frame: 6 × 15\n",
       "\n",
       "| crim &lt;dbl&gt; | zn &lt;dbl&gt; | indus &lt;dbl&gt; | chas &lt;int&gt; | nox &lt;dbl&gt; | rm &lt;dbl&gt; | age &lt;dbl&gt; | dis &lt;dbl&gt; | rad &lt;int&gt; | tax &lt;dbl&gt; | ptratio &lt;dbl&gt; | black &lt;dbl&gt; | lstat &lt;dbl&gt; | medv &lt;dbl&gt; | Result &lt;dbl&gt; |\n",
       "|---|---|---|---|---|---|---|---|---|---|---|---|---|---|---|\n",
       "| 0.00632 | 18 | 2.31 | 0 | 0.538 | 6.575 | 65.2 | 4.0900 | 1 | 296 | 15.3 | 396.90 | 4.98 | 24.0 | 0 |\n",
       "| 0.02731 |  0 | 7.07 | 0 | 0.469 | 6.421 | 78.9 | 4.9671 | 2 | 242 | 17.8 | 396.90 | 9.14 | 21.6 | 0 |\n",
       "| 0.02729 |  0 | 7.07 | 0 | 0.469 | 7.185 | 61.1 | 4.9671 | 2 | 242 | 17.8 | 392.83 | 4.03 | 34.7 | 1 |\n",
       "| 0.03237 |  0 | 2.18 | 0 | 0.458 | 6.998 | 45.8 | 6.0622 | 3 | 222 | 18.7 | 394.63 | 2.94 | 33.4 | 1 |\n",
       "| 0.06905 |  0 | 2.18 | 0 | 0.458 | 7.147 | 54.2 | 6.0622 | 3 | 222 | 18.7 | 396.90 | 5.33 | 36.2 | 1 |\n",
       "| 0.02985 |  0 | 2.18 | 0 | 0.458 | 6.430 | 58.7 | 6.0622 | 3 | 222 | 18.7 | 394.12 | 5.21 | 28.7 | 0 |\n",
       "\n"
      ],
      "text/plain": [
       "  crim    zn indus chas nox   rm    age  dis    rad tax ptratio black  lstat\n",
       "1 0.00632 18 2.31  0    0.538 6.575 65.2 4.0900 1   296 15.3    396.90 4.98 \n",
       "2 0.02731  0 7.07  0    0.469 6.421 78.9 4.9671 2   242 17.8    396.90 9.14 \n",
       "3 0.02729  0 7.07  0    0.469 7.185 61.1 4.9671 2   242 17.8    392.83 4.03 \n",
       "4 0.03237  0 2.18  0    0.458 6.998 45.8 6.0622 3   222 18.7    394.63 2.94 \n",
       "5 0.06905  0 2.18  0    0.458 7.147 54.2 6.0622 3   222 18.7    396.90 5.33 \n",
       "6 0.02985  0 2.18  0    0.458 6.430 58.7 6.0622 3   222 18.7    394.12 5.21 \n",
       "  medv Result\n",
       "1 24.0 0     \n",
       "2 21.6 0     \n",
       "3 34.7 1     \n",
       "4 33.4 1     \n",
       "5 36.2 1     \n",
       "6 28.7 0     "
      ]
     },
     "metadata": {},
     "output_type": "display_data"
    }
   ],
   "source": [
    "head(temp)"
   ]
  },
  {
   "cell_type": "code",
   "execution_count": 41,
   "metadata": {},
   "outputs": [],
   "source": [
    "lm.fit <- glm(Result ~ . -medv , data = temp, family = \"binomial\")"
   ]
  },
  {
   "cell_type": "code",
   "execution_count": 42,
   "metadata": {},
   "outputs": [
    {
     "data": {
      "text/plain": [
       "\n",
       "Call:\n",
       "glm(formula = Result ~ . - medv, family = \"binomial\", data = temp)\n",
       "\n",
       "Deviance Residuals: \n",
       "    Min       1Q   Median       3Q      Max  \n",
       "-3.4016  -0.0854  -0.0155  -0.0005   2.5627  \n",
       "\n",
       "Coefficients:\n",
       "             Estimate Std. Error z value Pr(>|z|)    \n",
       "(Intercept) -2.460276   7.699396  -0.320  0.74932    \n",
       "crim         0.047581   0.044580   1.067  0.28582    \n",
       "zn           0.023898   0.012448   1.920  0.05488 .  \n",
       "indus       -0.175563   0.096314  -1.823  0.06833 .  \n",
       "chas         0.182414   0.832590   0.219  0.82658    \n",
       "nox          1.445091   6.118455   0.236  0.81329    \n",
       "rm           2.354947   0.580370   4.058 4.96e-05 ***\n",
       "age          0.027123   0.016072   1.688  0.09149 .  \n",
       "dis         -0.305451   0.195522  -1.562  0.11823    \n",
       "rad          0.372120   0.116117   3.205  0.00135 ** \n",
       "tax         -0.010361   0.005117  -2.025  0.04289 *  \n",
       "ptratio     -0.607343   0.191184  -3.177  0.00149 ** \n",
       "black        0.004366   0.013629   0.320  0.74871    \n",
       "lstat       -0.683904   0.138736  -4.930 8.24e-07 ***\n",
       "---\n",
       "Signif. codes:  0 ‘***’ 0.001 ‘**’ 0.01 ‘*’ 0.05 ‘.’ 0.1 ‘ ’ 1\n",
       "\n",
       "(Dispersion parameter for binomial family taken to be 1)\n",
       "\n",
       "    Null deviance: 454.89  on 505  degrees of freedom\n",
       "Residual deviance: 117.64  on 492  degrees of freedom\n",
       "AIC: 145.64\n",
       "\n",
       "Number of Fisher Scoring iterations: 10\n"
      ]
     },
     "metadata": {},
     "output_type": "display_data"
    }
   ],
   "source": [
    "summary(lm.fit)"
   ]
  },
  {
   "cell_type": "code",
   "execution_count": 85,
   "metadata": {},
   "outputs": [],
   "source": [
    "library(PerformanceAnalytics)\n",
    "library(xts)\n",
    "library(lubridate)\n",
    "dm = read.csv(\"AMZN.csv\", header = TRUE)\n"
   ]
  },
  {
   "cell_type": "code",
   "execution_count": 77,
   "metadata": {},
   "outputs": [],
   "source": [
    "temp <- temp %>%\n",
    "    mutate(rrf = Adj_Close-0.19*Adj_Close )"
   ]
  },
  {
   "cell_type": "code",
   "execution_count": null,
   "metadata": {},
   "outputs": [],
   "source": []
  },
  {
   "cell_type": "code",
   "execution_count": 79,
   "metadata": {},
   "outputs": [
    {
     "data": {
      "text/html": [
       "87.0806429680301"
      ],
      "text/latex": [
       "87.0806429680301"
      ],
      "text/markdown": [
       "87.0806429680301"
      ],
      "text/plain": [
       "[1] 87.08064"
      ]
     },
     "metadata": {},
     "output_type": "display_data"
    }
   ],
   "source": [
    "m = mean(temp$rrf)\n",
    "s = sd(temp$rrf)\n",
    "m/s"
   ]
  },
  {
   "cell_type": "code",
   "execution_count": null,
   "metadata": {},
   "outputs": [],
   "source": []
  },
  {
   "cell_type": "code",
   "execution_count": 63,
   "metadata": {},
   "outputs": [
    {
     "ename": "ERROR",
     "evalue": "Error in checkData(R): The data cannot be converted into a time series.  If you are trying to pass in names from a data object with one column, you should use the form 'data[rows, columns, drop = FALSE]'.  Rownames should have standard date formats, such as '1985-03-15'. \n",
     "output_type": "error",
     "traceback": [
      "Error in checkData(R): The data cannot be converted into a time series.  If you are trying to pass in names from a data object with one column, you should use the form 'data[rows, columns, drop = FALSE]'.  Rownames should have standard date formats, such as '1985-03-15'. \nTraceback:\n",
      "1. SharpeRatio(dm$Adj_Close, 0.0019)",
      "2. sapply(R, FUN = srm, Rf = Rf, p = p, FUNC = FUNCT, ...)",
      "3. lapply(X = X, FUN = FUN, ...)",
      "4. FUN(X[[i]], ...)",
      "5. Return.excess(R, Rf)",
      "6. checkData(R)",
      "7. stop(\"The data cannot be converted into a time series.  If you are trying to pass in names from a data object with one column, you should use the form 'data[rows, columns, drop = FALSE]'.  Rownames should have standard date formats, such as '1985-03-15'. \")"
     ]
    }
   ],
   "source": [
    "SharpeRatio(dm$Adj_Close,.0019)\n"
   ]
  },
  {
   "cell_type": "code",
   "execution_count": 86,
   "metadata": {},
   "outputs": [
    {
     "data": {
      "text/html": [
       "<table>\n",
       "<caption>A data.frame: 6 × 7</caption>\n",
       "<thead>\n",
       "\t<tr><th scope=col>Date</th><th scope=col>Mkt_RF</th><th scope=col>SMB</th><th scope=col>HML</th><th scope=col>RF</th><th scope=col>UPS</th><th scope=col>KO</th></tr>\n",
       "\t<tr><th scope=col>&lt;int&gt;</th><th scope=col>&lt;dbl&gt;</th><th scope=col>&lt;dbl&gt;</th><th scope=col>&lt;dbl&gt;</th><th scope=col>&lt;dbl&gt;</th><th scope=col>&lt;dbl&gt;</th><th scope=col>&lt;dbl&gt;</th></tr>\n",
       "</thead>\n",
       "<tbody>\n",
       "\t<tr><td>201908</td><td>-0.0258</td><td>-0.0242</td><td>-0.0499</td><td>0.0016</td><td>-0.006779911</td><td>0.045791340</td></tr>\n",
       "\t<tr><td>201907</td><td> 0.0119</td><td>-0.0207</td><td> 0.0014</td><td>0.0019</td><td> 0.156870364</td><td>0.041650737</td></tr>\n",
       "\t<tr><td>201906</td><td> 0.0693</td><td> 0.0033</td><td>-0.0108</td><td>0.0018</td><td> 0.122018241</td><td>0.036433906</td></tr>\n",
       "\t<tr><td>201905</td><td>-0.0694</td><td>-0.0120</td><td>-0.0239</td><td>0.0021</td><td>-0.125211831</td><td>0.001426832</td></tr>\n",
       "\t<tr><td>201904</td><td> 0.0396</td><td>-0.0168</td><td> 0.0193</td><td>0.0021</td><td>-0.049400387</td><td>0.056087991</td></tr>\n",
       "\t<tr><td>201903</td><td> 0.0110</td><td>-0.0313</td><td>-0.0407</td><td>0.0019</td><td> 0.022872350</td><td>0.033524475</td></tr>\n",
       "</tbody>\n",
       "</table>\n"
      ],
      "text/latex": [
       "A data.frame: 6 × 7\n",
       "\\begin{tabular}{r|lllllll}\n",
       " Date & Mkt\\_RF & SMB & HML & RF & UPS & KO\\\\\n",
       " <int> & <dbl> & <dbl> & <dbl> & <dbl> & <dbl> & <dbl>\\\\\n",
       "\\hline\n",
       "\t 201908 & -0.0258 & -0.0242 & -0.0499 & 0.0016 & -0.006779911 & 0.045791340\\\\\n",
       "\t 201907 &  0.0119 & -0.0207 &  0.0014 & 0.0019 &  0.156870364 & 0.041650737\\\\\n",
       "\t 201906 &  0.0693 &  0.0033 & -0.0108 & 0.0018 &  0.122018241 & 0.036433906\\\\\n",
       "\t 201905 & -0.0694 & -0.0120 & -0.0239 & 0.0021 & -0.125211831 & 0.001426832\\\\\n",
       "\t 201904 &  0.0396 & -0.0168 &  0.0193 & 0.0021 & -0.049400387 & 0.056087991\\\\\n",
       "\t 201903 &  0.0110 & -0.0313 & -0.0407 & 0.0019 &  0.022872350 & 0.033524475\\\\\n",
       "\\end{tabular}\n"
      ],
      "text/markdown": [
       "\n",
       "A data.frame: 6 × 7\n",
       "\n",
       "| Date &lt;int&gt; | Mkt_RF &lt;dbl&gt; | SMB &lt;dbl&gt; | HML &lt;dbl&gt; | RF &lt;dbl&gt; | UPS &lt;dbl&gt; | KO &lt;dbl&gt; |\n",
       "|---|---|---|---|---|---|---|\n",
       "| 201908 | -0.0258 | -0.0242 | -0.0499 | 0.0016 | -0.006779911 | 0.045791340 |\n",
       "| 201907 |  0.0119 | -0.0207 |  0.0014 | 0.0019 |  0.156870364 | 0.041650737 |\n",
       "| 201906 |  0.0693 |  0.0033 | -0.0108 | 0.0018 |  0.122018241 | 0.036433906 |\n",
       "| 201905 | -0.0694 | -0.0120 | -0.0239 | 0.0021 | -0.125211831 | 0.001426832 |\n",
       "| 201904 |  0.0396 | -0.0168 |  0.0193 | 0.0021 | -0.049400387 | 0.056087991 |\n",
       "| 201903 |  0.0110 | -0.0313 | -0.0407 | 0.0019 |  0.022872350 | 0.033524475 |\n",
       "\n"
      ],
      "text/plain": [
       "  Date   Mkt_RF  SMB     HML     RF     UPS          KO         \n",
       "1 201908 -0.0258 -0.0242 -0.0499 0.0016 -0.006779911 0.045791340\n",
       "2 201907  0.0119 -0.0207  0.0014 0.0019  0.156870364 0.041650737\n",
       "3 201906  0.0693  0.0033 -0.0108 0.0018  0.122018241 0.036433906\n",
       "4 201905 -0.0694 -0.0120 -0.0239 0.0021 -0.125211831 0.001426832\n",
       "5 201904  0.0396 -0.0168  0.0193 0.0021 -0.049400387 0.056087991\n",
       "6 201903  0.0110 -0.0313 -0.0407 0.0019  0.022872350 0.033524475"
      ]
     },
     "metadata": {},
     "output_type": "display_data"
    }
   ],
   "source": [
    "data <- read.csv(\"UPS_KO.csv\")\n",
    "head(data)"
   ]
  },
  {
   "cell_type": "code",
   "execution_count": 90,
   "metadata": {},
   "outputs": [
    {
     "name": "stdout",
     "output_type": "stream",
     "text": [
      "\n",
      "===============================================\n",
      "                        Dependent variable:    \n",
      "                    ---------------------------\n",
      "                                UPS            \n",
      "-----------------------------------------------\n",
      "Mkt_RF                       1.185***          \n",
      "                              (0.183)          \n",
      "                                               \n",
      "SMB                           -0.053           \n",
      "                              (0.262)          \n",
      "                                               \n",
      "HML                            0.381           \n",
      "                              (0.258)          \n",
      "                                               \n",
      "Constant                       0.001           \n",
      "                              (0.007)          \n",
      "                                               \n",
      "-----------------------------------------------\n",
      "Observations                    60             \n",
      "R2                             0.456           \n",
      "Adjusted R2                    0.427           \n",
      "Residual Std. Error       0.048 (df = 56)      \n",
      "F Statistic           15.644*** (df = 3; 56)   \n",
      "===============================================\n",
      "Note:               *p<0.1; **p<0.05; ***p<0.01\n"
     ]
    },
    {
     "data": {
      "text/plain": [
       "\n",
       "Call:\n",
       "lm(formula = UPS ~ Mkt_RF + SMB + HML, data = data)\n",
       "\n",
       "Residuals:\n",
       "      Min        1Q    Median        3Q       Max \n",
       "-0.132624 -0.028099 -0.001747  0.033896  0.140518 \n",
       "\n",
       "Coefficients:\n",
       "              Estimate Std. Error t value Pr(>|t|)    \n",
       "(Intercept)  0.0006146  0.0065126   0.094    0.925    \n",
       "Mkt_RF       1.1848109  0.1826901   6.485 2.44e-08 ***\n",
       "SMB         -0.0533678  0.2621628  -0.204    0.839    \n",
       "HML          0.3811535  0.2582603   1.476    0.146    \n",
       "---\n",
       "Signif. codes:  0 ‘***’ 0.001 ‘**’ 0.01 ‘*’ 0.05 ‘.’ 0.1 ‘ ’ 1\n",
       "\n",
       "Residual standard error: 0.04818 on 56 degrees of freedom\n",
       "Multiple R-squared:  0.456,\tAdjusted R-squared:  0.4268 \n",
       "F-statistic: 15.64 on 3 and 56 DF,  p-value: 1.65e-07\n"
      ]
     },
     "metadata": {},
     "output_type": "display_data"
    }
   ],
   "source": [
    "library(stargazer)\n",
    "factor <- lm(UPS ~ Mkt_RF+SMB+HML, data = data)\n",
    "stargazer(factor, align = TRUE, type = \"text\", out = \"factorModelFull.html\")\n",
    "summary(factor)"
   ]
  },
  {
   "cell_type": "code",
   "execution_count": 91,
   "metadata": {},
   "outputs": [
    {
     "name": "stdout",
     "output_type": "stream",
     "text": [
      "\n",
      "===============================================\n",
      "                        Dependent variable:    \n",
      "                    ---------------------------\n",
      "                                KO             \n",
      "-----------------------------------------------\n",
      "Mkt_RF                       0.540***          \n",
      "                              (0.104)          \n",
      "                                               \n",
      "SMB                          -0.947***         \n",
      "                              (0.149)          \n",
      "                                               \n",
      "HML                            0.003           \n",
      "                              (0.147)          \n",
      "                                               \n",
      "Constant                       0.003           \n",
      "                              (0.004)          \n",
      "                                               \n",
      "-----------------------------------------------\n",
      "Observations                    60             \n",
      "R2                             0.490           \n",
      "Adjusted R2                    0.462           \n",
      "Residual Std. Error       0.027 (df = 56)      \n",
      "F Statistic           17.899*** (df = 3; 56)   \n",
      "===============================================\n",
      "Note:               *p<0.1; **p<0.05; ***p<0.01\n"
     ]
    },
    {
     "data": {
      "text/plain": [
       "\n",
       "Call:\n",
       "lm(formula = KO ~ Mkt_RF + SMB + HML, data = data)\n",
       "\n",
       "Residuals:\n",
       "      Min        1Q    Median        3Q       Max \n",
       "-0.071984 -0.023333  0.000469  0.020360  0.052208 \n",
       "\n",
       "Coefficients:\n",
       "             Estimate Std. Error t value Pr(>|t|)    \n",
       "(Intercept)  0.002568   0.003706   0.693    0.491    \n",
       "Mkt_RF       0.540413   0.103973   5.198 2.94e-06 ***\n",
       "SMB         -0.946926   0.149202  -6.347 4.13e-08 ***\n",
       "HML          0.002848   0.146981   0.019    0.985    \n",
       "---\n",
       "Signif. codes:  0 ‘***’ 0.001 ‘**’ 0.01 ‘*’ 0.05 ‘.’ 0.1 ‘ ’ 1\n",
       "\n",
       "Residual standard error: 0.02742 on 56 degrees of freedom\n",
       "Multiple R-squared:  0.4895,\tAdjusted R-squared:  0.4622 \n",
       "F-statistic:  17.9 on 3 and 56 DF,  p-value: 2.87e-08\n"
      ]
     },
     "metadata": {},
     "output_type": "display_data"
    }
   ],
   "source": [
    "factor <- lm(KO ~ Mkt_RF+SMB+HML, data = data)\n",
    "stargazer(factor, align = TRUE, type = \"text\", out = \"factorModelFull.html\")\n",
    "summary(factor)"
   ]
  },
  {
   "cell_type": "code",
   "execution_count": null,
   "metadata": {},
   "outputs": [],
   "source": []
  },
  {
   "cell_type": "code",
   "execution_count": 94,
   "metadata": {},
   "outputs": [],
   "source": [
    "data <- read.csv(\"KAG_conversion_data_wrangled.csv\",stringsAsFactors = FALSE)\n"
   ]
  },
  {
   "cell_type": "code",
   "execution_count": 95,
   "metadata": {},
   "outputs": [
    {
     "data": {
      "text/html": [
       "<table>\n",
       "<caption>A data.frame: 6 × 16</caption>\n",
       "<thead>\n",
       "\t<tr><th scope=col>X</th><th scope=col>ad_id</th><th scope=col>campaign_id</th><th scope=col>age</th><th scope=col>gender</th><th scope=col>interest</th><th scope=col>Impressions</th><th scope=col>Clicks</th><th scope=col>Spent</th><th scope=col>Total_Conversion</th><th scope=col>Approved_Conversion</th><th scope=col>CTR</th><th scope=col>CPC</th><th scope=col>CostPerConv_Total</th><th scope=col>CostPerConv_Approved</th><th scope=col>CPM</th></tr>\n",
       "\t<tr><th scope=col>&lt;int&gt;</th><th scope=col>&lt;int&gt;</th><th scope=col>&lt;int&gt;</th><th scope=col>&lt;int&gt;</th><th scope=col>&lt;int&gt;</th><th scope=col>&lt;int&gt;</th><th scope=col>&lt;int&gt;</th><th scope=col>&lt;int&gt;</th><th scope=col>&lt;dbl&gt;</th><th scope=col>&lt;int&gt;</th><th scope=col>&lt;int&gt;</th><th scope=col>&lt;dbl&gt;</th><th scope=col>&lt;dbl&gt;</th><th scope=col>&lt;dbl&gt;</th><th scope=col>&lt;dbl&gt;</th><th scope=col>&lt;dbl&gt;</th></tr>\n",
       "</thead>\n",
       "<tbody>\n",
       "\t<tr><td>1</td><td>708746</td><td>916</td><td>32</td><td>0</td><td>15</td><td> 7350</td><td>1</td><td>1.43</td><td>2</td><td>1</td><td>0.0136</td><td>1.43</td><td>0.715</td><td>1.43</td><td>0.19</td></tr>\n",
       "\t<tr><td>2</td><td>708749</td><td>916</td><td>32</td><td>0</td><td>16</td><td>17861</td><td>2</td><td>1.82</td><td>2</td><td>0</td><td>0.0112</td><td>0.91</td><td>0.910</td><td>1.82</td><td>0.10</td></tr>\n",
       "\t<tr><td>3</td><td>708771</td><td>916</td><td>32</td><td>0</td><td>20</td><td>  693</td><td>0</td><td>0.00</td><td>1</td><td>0</td><td>0.0000</td><td>0.00</td><td>0.000</td><td>0.00</td><td>0.00</td></tr>\n",
       "\t<tr><td>4</td><td>708815</td><td>916</td><td>32</td><td>0</td><td>28</td><td> 4259</td><td>1</td><td>1.25</td><td>1</td><td>0</td><td>0.0235</td><td>1.25</td><td>1.250</td><td>1.25</td><td>0.29</td></tr>\n",
       "\t<tr><td>5</td><td>708818</td><td>916</td><td>32</td><td>0</td><td>28</td><td> 4133</td><td>1</td><td>1.29</td><td>1</td><td>1</td><td>0.0242</td><td>1.29</td><td>1.290</td><td>1.29</td><td>0.31</td></tr>\n",
       "\t<tr><td>6</td><td>708820</td><td>916</td><td>32</td><td>0</td><td>29</td><td> 1915</td><td>0</td><td>0.00</td><td>1</td><td>1</td><td>0.0000</td><td>0.00</td><td>0.000</td><td>0.00</td><td>0.00</td></tr>\n",
       "</tbody>\n",
       "</table>\n"
      ],
      "text/latex": [
       "A data.frame: 6 × 16\n",
       "\\begin{tabular}{r|llllllllllllllll}\n",
       " X & ad\\_id & campaign\\_id & age & gender & interest & Impressions & Clicks & Spent & Total\\_Conversion & Approved\\_Conversion & CTR & CPC & CostPerConv\\_Total & CostPerConv\\_Approved & CPM\\\\\n",
       " <int> & <int> & <int> & <int> & <int> & <int> & <int> & <int> & <dbl> & <int> & <int> & <dbl> & <dbl> & <dbl> & <dbl> & <dbl>\\\\\n",
       "\\hline\n",
       "\t 1 & 708746 & 916 & 32 & 0 & 15 &  7350 & 1 & 1.43 & 2 & 1 & 0.0136 & 1.43 & 0.715 & 1.43 & 0.19\\\\\n",
       "\t 2 & 708749 & 916 & 32 & 0 & 16 & 17861 & 2 & 1.82 & 2 & 0 & 0.0112 & 0.91 & 0.910 & 1.82 & 0.10\\\\\n",
       "\t 3 & 708771 & 916 & 32 & 0 & 20 &   693 & 0 & 0.00 & 1 & 0 & 0.0000 & 0.00 & 0.000 & 0.00 & 0.00\\\\\n",
       "\t 4 & 708815 & 916 & 32 & 0 & 28 &  4259 & 1 & 1.25 & 1 & 0 & 0.0235 & 1.25 & 1.250 & 1.25 & 0.29\\\\\n",
       "\t 5 & 708818 & 916 & 32 & 0 & 28 &  4133 & 1 & 1.29 & 1 & 1 & 0.0242 & 1.29 & 1.290 & 1.29 & 0.31\\\\\n",
       "\t 6 & 708820 & 916 & 32 & 0 & 29 &  1915 & 0 & 0.00 & 1 & 1 & 0.0000 & 0.00 & 0.000 & 0.00 & 0.00\\\\\n",
       "\\end{tabular}\n"
      ],
      "text/markdown": [
       "\n",
       "A data.frame: 6 × 16\n",
       "\n",
       "| X &lt;int&gt; | ad_id &lt;int&gt; | campaign_id &lt;int&gt; | age &lt;int&gt; | gender &lt;int&gt; | interest &lt;int&gt; | Impressions &lt;int&gt; | Clicks &lt;int&gt; | Spent &lt;dbl&gt; | Total_Conversion &lt;int&gt; | Approved_Conversion &lt;int&gt; | CTR &lt;dbl&gt; | CPC &lt;dbl&gt; | CostPerConv_Total &lt;dbl&gt; | CostPerConv_Approved &lt;dbl&gt; | CPM &lt;dbl&gt; |\n",
       "|---|---|---|---|---|---|---|---|---|---|---|---|---|---|---|---|\n",
       "| 1 | 708746 | 916 | 32 | 0 | 15 |  7350 | 1 | 1.43 | 2 | 1 | 0.0136 | 1.43 | 0.715 | 1.43 | 0.19 |\n",
       "| 2 | 708749 | 916 | 32 | 0 | 16 | 17861 | 2 | 1.82 | 2 | 0 | 0.0112 | 0.91 | 0.910 | 1.82 | 0.10 |\n",
       "| 3 | 708771 | 916 | 32 | 0 | 20 |   693 | 0 | 0.00 | 1 | 0 | 0.0000 | 0.00 | 0.000 | 0.00 | 0.00 |\n",
       "| 4 | 708815 | 916 | 32 | 0 | 28 |  4259 | 1 | 1.25 | 1 | 0 | 0.0235 | 1.25 | 1.250 | 1.25 | 0.29 |\n",
       "| 5 | 708818 | 916 | 32 | 0 | 28 |  4133 | 1 | 1.29 | 1 | 1 | 0.0242 | 1.29 | 1.290 | 1.29 | 0.31 |\n",
       "| 6 | 708820 | 916 | 32 | 0 | 29 |  1915 | 0 | 0.00 | 1 | 1 | 0.0000 | 0.00 | 0.000 | 0.00 | 0.00 |\n",
       "\n"
      ],
      "text/plain": [
       "  X ad_id  campaign_id age gender interest Impressions Clicks Spent\n",
       "1 1 708746 916         32  0      15        7350       1      1.43 \n",
       "2 2 708749 916         32  0      16       17861       2      1.82 \n",
       "3 3 708771 916         32  0      20         693       0      0.00 \n",
       "4 4 708815 916         32  0      28        4259       1      1.25 \n",
       "5 5 708818 916         32  0      28        4133       1      1.29 \n",
       "6 6 708820 916         32  0      29        1915       0      0.00 \n",
       "  Total_Conversion Approved_Conversion CTR    CPC  CostPerConv_Total\n",
       "1 2                1                   0.0136 1.43 0.715            \n",
       "2 2                0                   0.0112 0.91 0.910            \n",
       "3 1                0                   0.0000 0.00 0.000            \n",
       "4 1                0                   0.0235 1.25 1.250            \n",
       "5 1                1                   0.0242 1.29 1.290            \n",
       "6 1                1                   0.0000 0.00 0.000            \n",
       "  CostPerConv_Approved CPM \n",
       "1 1.43                 0.19\n",
       "2 1.82                 0.10\n",
       "3 0.00                 0.00\n",
       "4 1.25                 0.29\n",
       "5 1.29                 0.31\n",
       "6 0.00                 0.00"
      ]
     },
     "metadata": {},
     "output_type": "display_data"
    }
   ],
   "source": [
    "head(data)"
   ]
  },
  {
   "cell_type": "code",
   "execution_count": 96,
   "metadata": {},
   "outputs": [
    {
     "data": {
      "text/html": [
       "<table>\n",
       "<caption>A data.frame: 1 × 16</caption>\n",
       "<thead>\n",
       "\t<tr><th scope=col>X</th><th scope=col>ad_id</th><th scope=col>campaign_id</th><th scope=col>age</th><th scope=col>gender</th><th scope=col>interest</th><th scope=col>Impressions</th><th scope=col>Clicks</th><th scope=col>Spent</th><th scope=col>Total_Conversion</th><th scope=col>Approved_Conversion</th><th scope=col>CTR</th><th scope=col>CPC</th><th scope=col>CostPerConv_Total</th><th scope=col>CostPerConv_Approved</th><th scope=col>CPM</th></tr>\n",
       "\t<tr><th scope=col>&lt;int&gt;</th><th scope=col>&lt;int&gt;</th><th scope=col>&lt;int&gt;</th><th scope=col>&lt;int&gt;</th><th scope=col>&lt;int&gt;</th><th scope=col>&lt;int&gt;</th><th scope=col>&lt;int&gt;</th><th scope=col>&lt;int&gt;</th><th scope=col>&lt;dbl&gt;</th><th scope=col>&lt;int&gt;</th><th scope=col>&lt;int&gt;</th><th scope=col>&lt;dbl&gt;</th><th scope=col>&lt;dbl&gt;</th><th scope=col>&lt;dbl&gt;</th><th scope=col>&lt;dbl&gt;</th><th scope=col>&lt;dbl&gt;</th></tr>\n",
       "</thead>\n",
       "<tbody>\n",
       "\t<tr><td>587</td><td>1121223</td><td>1178</td><td>32</td><td>0</td><td>31</td><td>64020</td><td>5</td><td>11.06</td><td>1</td><td>0</td><td>0.0078</td><td>2.212</td><td>11.06</td><td>11.06</td><td>0.17</td></tr>\n",
       "</tbody>\n",
       "</table>\n"
      ],
      "text/latex": [
       "A data.frame: 1 × 16\n",
       "\\begin{tabular}{r|llllllllllllllll}\n",
       " X & ad\\_id & campaign\\_id & age & gender & interest & Impressions & Clicks & Spent & Total\\_Conversion & Approved\\_Conversion & CTR & CPC & CostPerConv\\_Total & CostPerConv\\_Approved & CPM\\\\\n",
       " <int> & <int> & <int> & <int> & <int> & <int> & <int> & <int> & <dbl> & <int> & <int> & <dbl> & <dbl> & <dbl> & <dbl> & <dbl>\\\\\n",
       "\\hline\n",
       "\t 587 & 1121223 & 1178 & 32 & 0 & 31 & 64020 & 5 & 11.06 & 1 & 0 & 0.0078 & 2.212 & 11.06 & 11.06 & 0.17\\\\\n",
       "\\end{tabular}\n"
      ],
      "text/markdown": [
       "\n",
       "A data.frame: 1 × 16\n",
       "\n",
       "| X &lt;int&gt; | ad_id &lt;int&gt; | campaign_id &lt;int&gt; | age &lt;int&gt; | gender &lt;int&gt; | interest &lt;int&gt; | Impressions &lt;int&gt; | Clicks &lt;int&gt; | Spent &lt;dbl&gt; | Total_Conversion &lt;int&gt; | Approved_Conversion &lt;int&gt; | CTR &lt;dbl&gt; | CPC &lt;dbl&gt; | CostPerConv_Total &lt;dbl&gt; | CostPerConv_Approved &lt;dbl&gt; | CPM &lt;dbl&gt; |\n",
       "|---|---|---|---|---|---|---|---|---|---|---|---|---|---|---|---|\n",
       "| 587 | 1121223 | 1178 | 32 | 0 | 31 | 64020 | 5 | 11.06 | 1 | 0 | 0.0078 | 2.212 | 11.06 | 11.06 | 0.17 |\n",
       "\n"
      ],
      "text/plain": [
       "  X   ad_id   campaign_id age gender interest Impressions Clicks Spent\n",
       "1 587 1121223 1178        32  0      31       64020       5      11.06\n",
       "  Total_Conversion Approved_Conversion CTR    CPC   CostPerConv_Total\n",
       "1 1                0                   0.0078 2.212 11.06            \n",
       "  CostPerConv_Approved CPM \n",
       "1 11.06                0.17"
      ]
     },
     "metadata": {},
     "output_type": "display_data"
    }
   ],
   "source": [
    "data %>% filter(CPC == max(CPC))"
   ]
  },
  {
   "cell_type": "code",
   "execution_count": 100,
   "metadata": {},
   "outputs": [
    {
     "data": {
      "text/html": [
       "0.78827646544182"
      ],
      "text/latex": [
       "0.78827646544182"
      ],
      "text/markdown": [
       "0.78827646544182"
      ],
      "text/plain": [
       "[1] 0.7882765"
      ]
     },
     "metadata": {},
     "output_type": "display_data"
    }
   ],
   "source": [
    "m = data %>% filter(CPC >= 1) %>% nrow()\n",
    "n = data %>% nrow()\n",
    "\n",
    "m/n"
   ]
  },
  {
   "cell_type": "code",
   "execution_count": 109,
   "metadata": {},
   "outputs": [
    {
     "data": {
      "text/html": [
       "<table>\n",
       "<caption>A grouped_df: 4 × 2</caption>\n",
       "<thead>\n",
       "\t<tr><th scope=col>age</th><th scope=col>n</th></tr>\n",
       "\t<tr><th scope=col>&lt;int&gt;</th><th scope=col>&lt;int&gt;</th></tr>\n",
       "</thead>\n",
       "<tbody>\n",
       "\t<tr><td>32</td><td>28</td></tr>\n",
       "\t<tr><td>37</td><td>11</td></tr>\n",
       "\t<tr><td>42</td><td>19</td></tr>\n",
       "\t<tr><td>47</td><td>40</td></tr>\n",
       "</tbody>\n",
       "</table>\n"
      ],
      "text/latex": [
       "A grouped_df: 4 × 2\n",
       "\\begin{tabular}{r|ll}\n",
       " age & n\\\\\n",
       " <int> & <int>\\\\\n",
       "\\hline\n",
       "\t 32 & 28\\\\\n",
       "\t 37 & 11\\\\\n",
       "\t 42 & 19\\\\\n",
       "\t 47 & 40\\\\\n",
       "\\end{tabular}\n"
      ],
      "text/markdown": [
       "\n",
       "A grouped_df: 4 × 2\n",
       "\n",
       "| age &lt;int&gt; | n &lt;int&gt; |\n",
       "|---|---|\n",
       "| 32 | 28 |\n",
       "| 37 | 11 |\n",
       "| 42 | 19 |\n",
       "| 47 | 40 |\n",
       "\n"
      ],
      "text/plain": [
       "  age n \n",
       "1 32  28\n",
       "2 37  11\n",
       "3 42  19\n",
       "4 47  40"
      ]
     },
     "metadata": {},
     "output_type": "display_data"
    }
   ],
   "source": [
    "data %>% filter(campaign_id == 936) %>% filter(Impressions >= mean(Impressions)) %>% group_by(age) %>%  count(age)"
   ]
  },
  {
   "cell_type": "code",
   "execution_count": 115,
   "metadata": {},
   "outputs": [
    {
     "data": {
      "text/html": [
       "<table>\n",
       "<caption>A data.frame: 1 × 16</caption>\n",
       "<thead>\n",
       "\t<tr><th scope=col>X</th><th scope=col>ad_id</th><th scope=col>campaign_id</th><th scope=col>age</th><th scope=col>gender</th><th scope=col>interest</th><th scope=col>Impressions</th><th scope=col>Clicks</th><th scope=col>Spent</th><th scope=col>Total_Conversion</th><th scope=col>Approved_Conversion</th><th scope=col>CTR</th><th scope=col>CPC</th><th scope=col>CostPerConv_Total</th><th scope=col>CostPerConv_Approved</th><th scope=col>CPM</th></tr>\n",
       "\t<tr><th scope=col>&lt;int&gt;</th><th scope=col>&lt;int&gt;</th><th scope=col>&lt;int&gt;</th><th scope=col>&lt;int&gt;</th><th scope=col>&lt;int&gt;</th><th scope=col>&lt;int&gt;</th><th scope=col>&lt;int&gt;</th><th scope=col>&lt;int&gt;</th><th scope=col>&lt;dbl&gt;</th><th scope=col>&lt;int&gt;</th><th scope=col>&lt;int&gt;</th><th scope=col>&lt;dbl&gt;</th><th scope=col>&lt;dbl&gt;</th><th scope=col>&lt;dbl&gt;</th><th scope=col>&lt;dbl&gt;</th><th scope=col>&lt;dbl&gt;</th></tr>\n",
       "</thead>\n",
       "<tbody>\n",
       "\t<tr><td>526</td><td>1121100</td><td>1178</td><td>32</td><td>0</td><td>15</td><td>3052003</td><td>340</td><td>639.95</td><td>60</td><td>17</td><td>0.0111</td><td>1.8822</td><td>10.6658</td><td>37.6441</td><td>0.21</td></tr>\n",
       "</tbody>\n",
       "</table>\n"
      ],
      "text/latex": [
       "A data.frame: 1 × 16\n",
       "\\begin{tabular}{r|llllllllllllllll}\n",
       " X & ad\\_id & campaign\\_id & age & gender & interest & Impressions & Clicks & Spent & Total\\_Conversion & Approved\\_Conversion & CTR & CPC & CostPerConv\\_Total & CostPerConv\\_Approved & CPM\\\\\n",
       " <int> & <int> & <int> & <int> & <int> & <int> & <int> & <int> & <dbl> & <int> & <int> & <dbl> & <dbl> & <dbl> & <dbl> & <dbl>\\\\\n",
       "\\hline\n",
       "\t 526 & 1121100 & 1178 & 32 & 0 & 15 & 3052003 & 340 & 639.95 & 60 & 17 & 0.0111 & 1.8822 & 10.6658 & 37.6441 & 0.21\\\\\n",
       "\\end{tabular}\n"
      ],
      "text/markdown": [
       "\n",
       "A data.frame: 1 × 16\n",
       "\n",
       "| X &lt;int&gt; | ad_id &lt;int&gt; | campaign_id &lt;int&gt; | age &lt;int&gt; | gender &lt;int&gt; | interest &lt;int&gt; | Impressions &lt;int&gt; | Clicks &lt;int&gt; | Spent &lt;dbl&gt; | Total_Conversion &lt;int&gt; | Approved_Conversion &lt;int&gt; | CTR &lt;dbl&gt; | CPC &lt;dbl&gt; | CostPerConv_Total &lt;dbl&gt; | CostPerConv_Approved &lt;dbl&gt; | CPM &lt;dbl&gt; |\n",
       "|---|---|---|---|---|---|---|---|---|---|---|---|---|---|---|---|\n",
       "| 526 | 1121100 | 1178 | 32 | 0 | 15 | 3052003 | 340 | 639.95 | 60 | 17 | 0.0111 | 1.8822 | 10.6658 | 37.6441 | 0.21 |\n",
       "\n"
      ],
      "text/plain": [
       "  X   ad_id   campaign_id age gender interest Impressions Clicks Spent \n",
       "1 526 1121100 1178        32  0      15       3052003     340    639.95\n",
       "  Total_Conversion Approved_Conversion CTR    CPC    CostPerConv_Total\n",
       "1 60               17                  0.0111 1.8822 10.6658          \n",
       "  CostPerConv_Approved CPM \n",
       "1 37.6441              0.21"
      ]
     },
     "metadata": {},
     "output_type": "display_data"
    }
   ],
   "source": [
    "data %>% filter(Impressions == max(Impressions))"
   ]
  },
  {
   "cell_type": "code",
   "execution_count": 119,
   "metadata": {},
   "outputs": [
    {
     "data": {
      "text/html": [
       "<table>\n",
       "<caption>A grouped_df: 3 × 2</caption>\n",
       "<thead>\n",
       "\t<tr><th scope=col>campaign_id</th><th scope=col>n</th></tr>\n",
       "\t<tr><th scope=col>&lt;int&gt;</th><th scope=col>&lt;int&gt;</th></tr>\n",
       "</thead>\n",
       "<tbody>\n",
       "\t<tr><td> 916</td><td> 54</td></tr>\n",
       "\t<tr><td> 936</td><td>464</td></tr>\n",
       "\t<tr><td>1178</td><td>625</td></tr>\n",
       "</tbody>\n",
       "</table>\n"
      ],
      "text/latex": [
       "A grouped_df: 3 × 2\n",
       "\\begin{tabular}{r|ll}\n",
       " campaign\\_id & n\\\\\n",
       " <int> & <int>\\\\\n",
       "\\hline\n",
       "\t  916 &  54\\\\\n",
       "\t  936 & 464\\\\\n",
       "\t 1178 & 625\\\\\n",
       "\\end{tabular}\n"
      ],
      "text/markdown": [
       "\n",
       "A grouped_df: 3 × 2\n",
       "\n",
       "| campaign_id &lt;int&gt; | n &lt;int&gt; |\n",
       "|---|---|\n",
       "|  916 |  54 |\n",
       "|  936 | 464 |\n",
       "| 1178 | 625 |\n",
       "\n"
      ],
      "text/plain": [
       "  campaign_id n  \n",
       "1  916         54\n",
       "2  936        464\n",
       "3 1178        625"
      ]
     },
     "metadata": {},
     "output_type": "display_data"
    }
   ],
   "source": [
    "data %>% filter(Impressions != 0) %>% group_by(campaign_id)  %>%  count()"
   ]
  },
  {
   "cell_type": "code",
   "execution_count": null,
   "metadata": {},
   "outputs": [],
   "source": []
  },
  {
   "cell_type": "code",
   "execution_count": null,
   "metadata": {},
   "outputs": [],
   "source": []
  },
  {
   "cell_type": "code",
   "execution_count": 110,
   "metadata": {},
   "outputs": [],
   "source": [
    "?Boston"
   ]
  },
  {
   "cell_type": "code",
   "execution_count": null,
   "metadata": {},
   "outputs": [],
   "source": []
  },
  {
   "cell_type": "code",
   "execution_count": 111,
   "metadata": {},
   "outputs": [],
   "source": [
    "temp <- Boston %>%\n",
    "    mutate(Result = ifelse(medv>30, 1, 0) )"
   ]
  },
  {
   "cell_type": "code",
   "execution_count": 112,
   "metadata": {},
   "outputs": [],
   "source": [
    "lm.fit <- glm(Result ~ . -medv , data = temp, family = \"binomial\")"
   ]
  },
  {
   "cell_type": "code",
   "execution_count": 113,
   "metadata": {},
   "outputs": [
    {
     "name": "stderr",
     "output_type": "stream",
     "text": [
      "Loading required package: gplots\n",
      "\n",
      "Attaching package: ‘gplots’\n",
      "\n",
      "The following object is masked from ‘package:PerformanceAnalytics’:\n",
      "\n",
      "    textplot\n",
      "\n",
      "The following object is masked from ‘package:stats’:\n",
      "\n",
      "    lowess\n",
      "\n"
     ]
    }
   ],
   "source": [
    "library(\"ROCR\")"
   ]
  },
  {
   "cell_type": "code",
   "execution_count": null,
   "metadata": {},
   "outputs": [],
   "source": []
  }
 ],
 "metadata": {
  "kernelspec": {
   "display_name": "R",
   "language": "R",
   "name": "ir"
  },
  "language_info": {
   "codemirror_mode": "r",
   "file_extension": ".r",
   "mimetype": "text/x-r-source",
   "name": "R",
   "pygments_lexer": "r",
   "version": "3.6.1"
  }
 },
 "nbformat": 4,
 "nbformat_minor": 2
}
